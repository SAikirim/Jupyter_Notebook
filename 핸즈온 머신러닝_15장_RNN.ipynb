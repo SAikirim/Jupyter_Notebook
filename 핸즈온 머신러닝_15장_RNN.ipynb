{
 "cells": [
  {
   "cell_type": "markdown",
   "metadata": {},
   "source": [
    "# 네트워크 순환 신경망(RNN)\n",
    "\n",
    "* '예측'할 때 사용\n",
    "    - 가변적인 시퀀스(Sequential) 데이터 사용\n",
    "    - 은닉층에 순환 엣지를 부여하여 가변 길이 수용\n",
    "    - 예측한 값으로 예측할수록 부정확해짐  \n",
    "\n",
    "* 활성화 함수 : tanh(기본값)\n",
    "    - 예측할 수록 부정확해짐\n",
    "    \n",
    "* 미분손실 발생(예측할 수록 부정확해짐)\n",
    "    * __LSTM__ : 기울기 소실문제 해결을 위해 고속도로 생성\n",
    "\n",
    "* Sequential Data\n",
    "    - 주가\n",
    "    - 운정\n",
    "    - 목소리(성조)\n",
    "    - 동영상\n",
    "    - 문장\n",
    "    - 심전도 -> 건강 확인\n",
    "* Time Series Data\n",
    "    1. Datametrics\n",
    "        + 입력(input) -> 출력(output)\n",
    "        + 점화식\n",
    "    2. stochastic(확률적)\n",
    "        + 이전 결과 + 확률 = 미래\n",
    "        + 확률(평균, 분산)을 통해 미시간 결과에 영향\n",
    "        \n",
    "## Markov Process\n",
    "* $사건 q_t가 일어난 경우의 수 {S_1, S_2, ..., S_N}$\n",
    "* $p(q_0, q_1, q_2, q_3, ..., q_t$\n",
    "    - = $p(q_0) * p(q_0|q_1) * p(q_2|q_1, q_0) * ... * p(q_t|q_{t-1}, ..., q_0)$\n",
    "    - 원노트 이미지 참고 : rnn.pdf\n",
    "* 예)\n",
    "    - 오민엽의 저녁메뉴\n",
    "    - 칼국수 -> 순대국밥 -> 국수 -> 김치찌개 -> 햄버거 -> ?\n",
    "    - 원노트 이미지 참고 : rnn.pdf\n",
    "\n",
    "## Hidden Markov 모델\n",
    "* 과거의 무언가에 의해 결정되는 모델\n",
    "\n",
    "## Kalman Filter\n",
    "* 측정 -> 예측\n",
    "* 원노트 이미지 참고 : rnn.pdf\n",
    "* 사용하기위한 조건\n",
    "    1. linear 모델\n",
    "    2. 측정 결과 -> '정규분포'의 형태일 때 가능\n",
    "    \n",
    "## Kalman Filter + 인과 관계 => RNN"
   ]
  },
  {
   "cell_type": "markdown",
   "metadata": {},
   "source": [
    "### Sequence Data의 표현법\n",
    "* (0.1, 0.2, 0.3, 0.4, 0.5, 0.6)\n",
    "* 3개씩 묶는다.\n",
    "    - (0.1, 0.2, 0.3), (0.2, 0.3, 0.4), (0.3, 0.4, 0.5)"
   ]
  },
  {
   "cell_type": "code",
   "execution_count": null,
   "metadata": {},
   "outputs": [],
   "source": []
  }
 ],
 "metadata": {
  "kernelspec": {
   "display_name": "Python 3",
   "language": "python",
   "name": "python3"
  },
  "language_info": {
   "codemirror_mode": {
    "name": "ipython",
    "version": 3
   },
   "file_extension": ".py",
   "mimetype": "text/x-python",
   "name": "python",
   "nbconvert_exporter": "python",
   "pygments_lexer": "ipython3",
   "version": "3.8.3"
  }
 },
 "nbformat": 4,
 "nbformat_minor": 4
}
