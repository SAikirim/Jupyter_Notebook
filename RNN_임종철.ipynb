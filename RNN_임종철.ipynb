{
  "nbformat": 4,
  "nbformat_minor": 0,
  "metadata": {
    "colab": {
      "name": "RNN-임종철.ipynb",
      "provenance": [],
      "collapsed_sections": []
    },
    "kernelspec": {
      "name": "python3",
      "display_name": "Python 3"
    },
    "accelerator": "GPU"
  },
  "cells": [
    {
      "cell_type": "code",
      "metadata": {
        "id": "ljwzZLeWqog-",
        "outputId": "249c049d-338c-4fa7-92bf-f1936612ffe3",
        "colab": {
          "base_uri": "https://localhost:8080/",
          "height": 34
        }
      },
      "source": [
        "import tensorflow as tf\n",
        "import numpy as np\n",
        "import pandas as pd\n",
        "import matplotlib.pyplot as plt\n",
        "\n",
        "tf.config.list_physical_devices('GPU')"
      ],
      "execution_count": null,
      "outputs": [
        {
          "output_type": "execute_result",
          "data": {
            "text/plain": [
              "[PhysicalDevice(name='/physical_device:GPU:0', device_type='GPU')]"
            ]
          },
          "metadata": {
            "tags": []
          },
          "execution_count": 1
        }
      ]
    },
    {
      "cell_type": "code",
      "metadata": {
        "id": "tE69sapVqABa",
        "outputId": "410e3af9-2a39-43f4-edd8-16029bf7582d",
        "colab": {
          "base_uri": "https://localhost:8080/",
          "height": 381
        }
      },
      "source": [
        "import pandas as pd\n",
        "\n",
        "df = pd.read_html('http://kind.krx.co.kr/corpgeneral/corpList.do?method=download', header=0)[0]\n",
        "!pip install lxml\n",
        "df.head()"
      ],
      "execution_count": null,
      "outputs": [
        {
          "output_type": "stream",
          "text": [
            "Requirement already satisfied: lxml in /usr/local/lib/python3.6/dist-packages (4.2.6)\n"
          ],
          "name": "stdout"
        },
        {
          "output_type": "execute_result",
          "data": {
            "text/html": [
              "<div>\n",
              "<style scoped>\n",
              "    .dataframe tbody tr th:only-of-type {\n",
              "        vertical-align: middle;\n",
              "    }\n",
              "\n",
              "    .dataframe tbody tr th {\n",
              "        vertical-align: top;\n",
              "    }\n",
              "\n",
              "    .dataframe thead th {\n",
              "        text-align: right;\n",
              "    }\n",
              "</style>\n",
              "<table border=\"1\" class=\"dataframe\">\n",
              "  <thead>\n",
              "    <tr style=\"text-align: right;\">\n",
              "      <th></th>\n",
              "      <th>회사명</th>\n",
              "      <th>종목코드</th>\n",
              "      <th>업종</th>\n",
              "      <th>주요제품</th>\n",
              "      <th>상장일</th>\n",
              "      <th>결산월</th>\n",
              "      <th>대표자명</th>\n",
              "      <th>홈페이지</th>\n",
              "      <th>지역</th>\n",
              "    </tr>\n",
              "  </thead>\n",
              "  <tbody>\n",
              "    <tr>\n",
              "      <th>0</th>\n",
              "      <td>JS전선</td>\n",
              "      <td>5560</td>\n",
              "      <td>절연선 및 케이블 제조업</td>\n",
              "      <td>선박선,고무선,전력선,통신선 제조</td>\n",
              "      <td>2007-11-12</td>\n",
              "      <td>12월</td>\n",
              "      <td>이익희</td>\n",
              "      <td>http://www.jscable.co.kr</td>\n",
              "      <td>충청남도</td>\n",
              "    </tr>\n",
              "    <tr>\n",
              "      <th>1</th>\n",
              "      <td>거북선2호</td>\n",
              "      <td>101380</td>\n",
              "      <td>NaN</td>\n",
              "      <td>운송장비(선박) 임대</td>\n",
              "      <td>2008-04-25</td>\n",
              "      <td>12월</td>\n",
              "      <td>신주선</td>\n",
              "      <td>NaN</td>\n",
              "      <td>부산광역시</td>\n",
              "    </tr>\n",
              "    <tr>\n",
              "      <th>2</th>\n",
              "      <td>거북선6호</td>\n",
              "      <td>114140</td>\n",
              "      <td>NaN</td>\n",
              "      <td>NaN</td>\n",
              "      <td>2009-10-01</td>\n",
              "      <td>12월</td>\n",
              "      <td>김연신</td>\n",
              "      <td>NaN</td>\n",
              "      <td>제주특별자치도</td>\n",
              "    </tr>\n",
              "    <tr>\n",
              "      <th>3</th>\n",
              "      <td>교보메리츠</td>\n",
              "      <td>64900</td>\n",
              "      <td>NaN</td>\n",
              "      <td>부동산 투자,운용</td>\n",
              "      <td>2002-01-30</td>\n",
              "      <td>12월</td>\n",
              "      <td>김 상 진</td>\n",
              "      <td>NaN</td>\n",
              "      <td>서울특별시</td>\n",
              "    </tr>\n",
              "    <tr>\n",
              "      <th>4</th>\n",
              "      <td>국제관광공사</td>\n",
              "      <td>28780</td>\n",
              "      <td>NaN</td>\n",
              "      <td>NaN</td>\n",
              "      <td>1966-03-18</td>\n",
              "      <td>12월</td>\n",
              "      <td>NaN</td>\n",
              "      <td>NaN</td>\n",
              "      <td>NaN</td>\n",
              "    </tr>\n",
              "  </tbody>\n",
              "</table>\n",
              "</div>"
            ],
            "text/plain": [
              "      회사명    종목코드             업종  ...   대표자명                      홈페이지       지역\n",
              "0    JS전선    5560  절연선 및 케이블 제조업  ...    이익희  http://www.jscable.co.kr     충청남도\n",
              "1   거북선2호  101380            NaN  ...    신주선                       NaN    부산광역시\n",
              "2   거북선6호  114140            NaN  ...    김연신                       NaN  제주특별자치도\n",
              "3   교보메리츠   64900            NaN  ...  김 상 진                       NaN    서울특별시\n",
              "4  국제관광공사   28780            NaN  ...    NaN                       NaN      NaN\n",
              "\n",
              "[5 rows x 9 columns]"
            ]
          },
          "metadata": {
            "tags": []
          },
          "execution_count": 2
        }
      ]
    },
    {
      "cell_type": "markdown",
      "metadata": {
        "id": "CpOT6Y5dRMkL"
      },
      "source": [
        "# 종목코드 갖고 오기"
      ]
    },
    {
      "cell_type": "code",
      "metadata": {
        "id": "6bkHTVnQRB_c",
        "outputId": "7b9035a6-575e-45c4-bede-42d7dafceffb",
        "colab": {
          "base_uri": "https://localhost:8080/",
          "height": 662
        }
      },
      "source": [
        "!pip install pandas_datareader\n",
        "import pandas_datareader as pdr\n",
        "yahoo = pdr.get_data_yahoo('000270.KS')\n",
        "yahoo"
      ],
      "execution_count": null,
      "outputs": [
        {
          "output_type": "stream",
          "text": [
            "Requirement already satisfied: pandas_datareader in /usr/local/lib/python3.6/dist-packages (0.9.0)\n",
            "Requirement already satisfied: lxml in /usr/local/lib/python3.6/dist-packages (from pandas_datareader) (4.2.6)\n",
            "Requirement already satisfied: requests>=2.19.0 in /usr/local/lib/python3.6/dist-packages (from pandas_datareader) (2.23.0)\n",
            "Requirement already satisfied: pandas>=0.23 in /usr/local/lib/python3.6/dist-packages (from pandas_datareader) (1.1.2)\n",
            "Requirement already satisfied: chardet<4,>=3.0.2 in /usr/local/lib/python3.6/dist-packages (from requests>=2.19.0->pandas_datareader) (3.0.4)\n",
            "Requirement already satisfied: urllib3!=1.25.0,!=1.25.1,<1.26,>=1.21.1 in /usr/local/lib/python3.6/dist-packages (from requests>=2.19.0->pandas_datareader) (1.24.3)\n",
            "Requirement already satisfied: certifi>=2017.4.17 in /usr/local/lib/python3.6/dist-packages (from requests>=2.19.0->pandas_datareader) (2020.6.20)\n",
            "Requirement already satisfied: idna<3,>=2.5 in /usr/local/lib/python3.6/dist-packages (from requests>=2.19.0->pandas_datareader) (2.10)\n",
            "Requirement already satisfied: python-dateutil>=2.7.3 in /usr/local/lib/python3.6/dist-packages (from pandas>=0.23->pandas_datareader) (2.8.1)\n",
            "Requirement already satisfied: numpy>=1.15.4 in /usr/local/lib/python3.6/dist-packages (from pandas>=0.23->pandas_datareader) (1.18.5)\n",
            "Requirement already satisfied: pytz>=2017.2 in /usr/local/lib/python3.6/dist-packages (from pandas>=0.23->pandas_datareader) (2018.9)\n",
            "Requirement already satisfied: six>=1.5 in /usr/local/lib/python3.6/dist-packages (from python-dateutil>=2.7.3->pandas>=0.23->pandas_datareader) (1.15.0)\n"
          ],
          "name": "stdout"
        },
        {
          "output_type": "execute_result",
          "data": {
            "text/html": [
              "<div>\n",
              "<style scoped>\n",
              "    .dataframe tbody tr th:only-of-type {\n",
              "        vertical-align: middle;\n",
              "    }\n",
              "\n",
              "    .dataframe tbody tr th {\n",
              "        vertical-align: top;\n",
              "    }\n",
              "\n",
              "    .dataframe thead th {\n",
              "        text-align: right;\n",
              "    }\n",
              "</style>\n",
              "<table border=\"1\" class=\"dataframe\">\n",
              "  <thead>\n",
              "    <tr style=\"text-align: right;\">\n",
              "      <th></th>\n",
              "      <th>High</th>\n",
              "      <th>Low</th>\n",
              "      <th>Open</th>\n",
              "      <th>Close</th>\n",
              "      <th>Volume</th>\n",
              "      <th>Adj Close</th>\n",
              "    </tr>\n",
              "    <tr>\n",
              "      <th>Date</th>\n",
              "      <th></th>\n",
              "      <th></th>\n",
              "      <th></th>\n",
              "      <th></th>\n",
              "      <th></th>\n",
              "      <th></th>\n",
              "    </tr>\n",
              "  </thead>\n",
              "  <tbody>\n",
              "    <tr>\n",
              "      <th>2015-10-26</th>\n",
              "      <td>54800.0</td>\n",
              "      <td>53700.0</td>\n",
              "      <td>53700.0</td>\n",
              "      <td>54600.0</td>\n",
              "      <td>837088.0</td>\n",
              "      <td>49344.511719</td>\n",
              "    </tr>\n",
              "    <tr>\n",
              "      <th>2015-10-27</th>\n",
              "      <td>55300.0</td>\n",
              "      <td>54000.0</td>\n",
              "      <td>54900.0</td>\n",
              "      <td>55100.0</td>\n",
              "      <td>1037136.0</td>\n",
              "      <td>49796.386719</td>\n",
              "    </tr>\n",
              "    <tr>\n",
              "      <th>2015-10-28</th>\n",
              "      <td>55500.0</td>\n",
              "      <td>54100.0</td>\n",
              "      <td>55500.0</td>\n",
              "      <td>54800.0</td>\n",
              "      <td>762999.0</td>\n",
              "      <td>49525.261719</td>\n",
              "    </tr>\n",
              "    <tr>\n",
              "      <th>2015-10-29</th>\n",
              "      <td>55300.0</td>\n",
              "      <td>54200.0</td>\n",
              "      <td>54300.0</td>\n",
              "      <td>54800.0</td>\n",
              "      <td>511535.0</td>\n",
              "      <td>49525.261719</td>\n",
              "    </tr>\n",
              "    <tr>\n",
              "      <th>2015-10-30</th>\n",
              "      <td>55900.0</td>\n",
              "      <td>54300.0</td>\n",
              "      <td>54800.0</td>\n",
              "      <td>55800.0</td>\n",
              "      <td>979684.0</td>\n",
              "      <td>50429.007812</td>\n",
              "    </tr>\n",
              "    <tr>\n",
              "      <th>...</th>\n",
              "      <td>...</td>\n",
              "      <td>...</td>\n",
              "      <td>...</td>\n",
              "      <td>...</td>\n",
              "      <td>...</td>\n",
              "      <td>...</td>\n",
              "    </tr>\n",
              "    <tr>\n",
              "      <th>2020-10-19</th>\n",
              "      <td>47750.0</td>\n",
              "      <td>46600.0</td>\n",
              "      <td>47000.0</td>\n",
              "      <td>46700.0</td>\n",
              "      <td>1536628.0</td>\n",
              "      <td>46700.000000</td>\n",
              "    </tr>\n",
              "    <tr>\n",
              "      <th>2020-10-20</th>\n",
              "      <td>47150.0</td>\n",
              "      <td>43150.0</td>\n",
              "      <td>43150.0</td>\n",
              "      <td>46850.0</td>\n",
              "      <td>4399855.0</td>\n",
              "      <td>46850.000000</td>\n",
              "    </tr>\n",
              "    <tr>\n",
              "      <th>2020-10-21</th>\n",
              "      <td>46750.0</td>\n",
              "      <td>45050.0</td>\n",
              "      <td>46550.0</td>\n",
              "      <td>45450.0</td>\n",
              "      <td>2311018.0</td>\n",
              "      <td>45450.000000</td>\n",
              "    </tr>\n",
              "    <tr>\n",
              "      <th>2020-10-22</th>\n",
              "      <td>45450.0</td>\n",
              "      <td>44300.0</td>\n",
              "      <td>44900.0</td>\n",
              "      <td>45200.0</td>\n",
              "      <td>1650240.0</td>\n",
              "      <td>45200.000000</td>\n",
              "    </tr>\n",
              "    <tr>\n",
              "      <th>2020-10-23</th>\n",
              "      <td>46650.0</td>\n",
              "      <td>45250.0</td>\n",
              "      <td>45250.0</td>\n",
              "      <td>46400.0</td>\n",
              "      <td>1425932.0</td>\n",
              "      <td>46400.000000</td>\n",
              "    </tr>\n",
              "  </tbody>\n",
              "</table>\n",
              "<p>1220 rows × 6 columns</p>\n",
              "</div>"
            ],
            "text/plain": [
              "               High      Low     Open    Close     Volume     Adj Close\n",
              "Date                                                                   \n",
              "2015-10-26  54800.0  53700.0  53700.0  54600.0   837088.0  49344.511719\n",
              "2015-10-27  55300.0  54000.0  54900.0  55100.0  1037136.0  49796.386719\n",
              "2015-10-28  55500.0  54100.0  55500.0  54800.0   762999.0  49525.261719\n",
              "2015-10-29  55300.0  54200.0  54300.0  54800.0   511535.0  49525.261719\n",
              "2015-10-30  55900.0  54300.0  54800.0  55800.0   979684.0  50429.007812\n",
              "...             ...      ...      ...      ...        ...           ...\n",
              "2020-10-19  47750.0  46600.0  47000.0  46700.0  1536628.0  46700.000000\n",
              "2020-10-20  47150.0  43150.0  43150.0  46850.0  4399855.0  46850.000000\n",
              "2020-10-21  46750.0  45050.0  46550.0  45450.0  2311018.0  45450.000000\n",
              "2020-10-22  45450.0  44300.0  44900.0  45200.0  1650240.0  45200.000000\n",
              "2020-10-23  46650.0  45250.0  45250.0  46400.0  1425932.0  46400.000000\n",
              "\n",
              "[1220 rows x 6 columns]"
            ]
          },
          "metadata": {
            "tags": []
          },
          "execution_count": 3
        }
      ]
    },
    {
      "cell_type": "markdown",
      "metadata": {
        "id": "8Ps7c1y_WYDO"
      },
      "source": [
        "1. 종목 코드 뽑아내기\n",
        "2. 종목코드 입력해서 주가 뽑아내기\n",
        "3. RNN 이용해서 종목 분석\n",
        "* RNN-이름.ipynb : 메일로 제출\n",
        "* 추천종목 포함해서 보내세요"
      ]
    },
    {
      "cell_type": "code",
      "metadata": {
        "id": "TZbsgazpVJGI",
        "outputId": "4a2dfa02-0353-4413-9be4-945985392b96",
        "colab": {
          "base_uri": "https://localhost:8080/",
          "height": 402
        }
      },
      "source": [
        "# 종목 코드 뽑아내기\n",
        "new_df = df[['회사명', '종목코드']]\n",
        "new_df"
      ],
      "execution_count": null,
      "outputs": [
        {
          "output_type": "execute_result",
          "data": {
            "text/html": [
              "<div>\n",
              "<style scoped>\n",
              "    .dataframe tbody tr th:only-of-type {\n",
              "        vertical-align: middle;\n",
              "    }\n",
              "\n",
              "    .dataframe tbody tr th {\n",
              "        vertical-align: top;\n",
              "    }\n",
              "\n",
              "    .dataframe thead th {\n",
              "        text-align: right;\n",
              "    }\n",
              "</style>\n",
              "<table border=\"1\" class=\"dataframe\">\n",
              "  <thead>\n",
              "    <tr style=\"text-align: right;\">\n",
              "      <th></th>\n",
              "      <th>회사명</th>\n",
              "      <th>종목코드</th>\n",
              "    </tr>\n",
              "  </thead>\n",
              "  <tbody>\n",
              "    <tr>\n",
              "      <th>0</th>\n",
              "      <td>JS전선</td>\n",
              "      <td>5560</td>\n",
              "    </tr>\n",
              "    <tr>\n",
              "      <th>1</th>\n",
              "      <td>거북선2호</td>\n",
              "      <td>101380</td>\n",
              "    </tr>\n",
              "    <tr>\n",
              "      <th>2</th>\n",
              "      <td>거북선6호</td>\n",
              "      <td>114140</td>\n",
              "    </tr>\n",
              "    <tr>\n",
              "      <th>3</th>\n",
              "      <td>교보메리츠</td>\n",
              "      <td>64900</td>\n",
              "    </tr>\n",
              "    <tr>\n",
              "      <th>4</th>\n",
              "      <td>국제관광공사</td>\n",
              "      <td>28780</td>\n",
              "    </tr>\n",
              "    <tr>\n",
              "      <th>...</th>\n",
              "      <td>...</td>\n",
              "      <td>...</td>\n",
              "    </tr>\n",
              "    <tr>\n",
              "      <th>3874</th>\n",
              "      <td>툴젠</td>\n",
              "      <td>199800</td>\n",
              "    </tr>\n",
              "    <tr>\n",
              "      <th>3875</th>\n",
              "      <td>플럼라인생명과학</td>\n",
              "      <td>222670</td>\n",
              "    </tr>\n",
              "    <tr>\n",
              "      <th>3876</th>\n",
              "      <td>피엔에이치테크</td>\n",
              "      <td>239890</td>\n",
              "    </tr>\n",
              "    <tr>\n",
              "      <th>3877</th>\n",
              "      <td>한국미라클피플사</td>\n",
              "      <td>331660</td>\n",
              "    </tr>\n",
              "    <tr>\n",
              "      <th>3878</th>\n",
              "      <td>휴벡셀</td>\n",
              "      <td>212310</td>\n",
              "    </tr>\n",
              "  </tbody>\n",
              "</table>\n",
              "<p>3879 rows × 2 columns</p>\n",
              "</div>"
            ],
            "text/plain": [
              "           회사명    종목코드\n",
              "0         JS전선    5560\n",
              "1        거북선2호  101380\n",
              "2        거북선6호  114140\n",
              "3        교보메리츠   64900\n",
              "4       국제관광공사   28780\n",
              "...        ...     ...\n",
              "3874        툴젠  199800\n",
              "3875  플럼라인생명과학  222670\n",
              "3876   피엔에이치테크  239890\n",
              "3877  한국미라클피플사  331660\n",
              "3878       휴벡셀  212310\n",
              "\n",
              "[3879 rows x 2 columns]"
            ]
          },
          "metadata": {
            "tags": []
          },
          "execution_count": 4
        }
      ]
    },
    {
      "cell_type": "code",
      "metadata": {
        "id": "Hijjq2KyZsuR",
        "outputId": "6bd6be8b-f013-441f-f445-a688b15d3ef5",
        "colab": {
          "base_uri": "https://localhost:8080/",
          "height": 402
        }
      },
      "source": [
        "# rename\n",
        "rename_df = new_df.rename(columns={'회사명':'name', '종목코드':'code'})\n",
        "rename_df"
      ],
      "execution_count": null,
      "outputs": [
        {
          "output_type": "execute_result",
          "data": {
            "text/html": [
              "<div>\n",
              "<style scoped>\n",
              "    .dataframe tbody tr th:only-of-type {\n",
              "        vertical-align: middle;\n",
              "    }\n",
              "\n",
              "    .dataframe tbody tr th {\n",
              "        vertical-align: top;\n",
              "    }\n",
              "\n",
              "    .dataframe thead th {\n",
              "        text-align: right;\n",
              "    }\n",
              "</style>\n",
              "<table border=\"1\" class=\"dataframe\">\n",
              "  <thead>\n",
              "    <tr style=\"text-align: right;\">\n",
              "      <th></th>\n",
              "      <th>name</th>\n",
              "      <th>code</th>\n",
              "    </tr>\n",
              "  </thead>\n",
              "  <tbody>\n",
              "    <tr>\n",
              "      <th>0</th>\n",
              "      <td>JS전선</td>\n",
              "      <td>5560</td>\n",
              "    </tr>\n",
              "    <tr>\n",
              "      <th>1</th>\n",
              "      <td>거북선2호</td>\n",
              "      <td>101380</td>\n",
              "    </tr>\n",
              "    <tr>\n",
              "      <th>2</th>\n",
              "      <td>거북선6호</td>\n",
              "      <td>114140</td>\n",
              "    </tr>\n",
              "    <tr>\n",
              "      <th>3</th>\n",
              "      <td>교보메리츠</td>\n",
              "      <td>64900</td>\n",
              "    </tr>\n",
              "    <tr>\n",
              "      <th>4</th>\n",
              "      <td>국제관광공사</td>\n",
              "      <td>28780</td>\n",
              "    </tr>\n",
              "    <tr>\n",
              "      <th>...</th>\n",
              "      <td>...</td>\n",
              "      <td>...</td>\n",
              "    </tr>\n",
              "    <tr>\n",
              "      <th>3874</th>\n",
              "      <td>툴젠</td>\n",
              "      <td>199800</td>\n",
              "    </tr>\n",
              "    <tr>\n",
              "      <th>3875</th>\n",
              "      <td>플럼라인생명과학</td>\n",
              "      <td>222670</td>\n",
              "    </tr>\n",
              "    <tr>\n",
              "      <th>3876</th>\n",
              "      <td>피엔에이치테크</td>\n",
              "      <td>239890</td>\n",
              "    </tr>\n",
              "    <tr>\n",
              "      <th>3877</th>\n",
              "      <td>한국미라클피플사</td>\n",
              "      <td>331660</td>\n",
              "    </tr>\n",
              "    <tr>\n",
              "      <th>3878</th>\n",
              "      <td>휴벡셀</td>\n",
              "      <td>212310</td>\n",
              "    </tr>\n",
              "  </tbody>\n",
              "</table>\n",
              "<p>3879 rows × 2 columns</p>\n",
              "</div>"
            ],
            "text/plain": [
              "          name    code\n",
              "0         JS전선    5560\n",
              "1        거북선2호  101380\n",
              "2        거북선6호  114140\n",
              "3        교보메리츠   64900\n",
              "4       국제관광공사   28780\n",
              "...        ...     ...\n",
              "3874        툴젠  199800\n",
              "3875  플럼라인생명과학  222670\n",
              "3876   피엔에이치테크  239890\n",
              "3877  한국미라클피플사  331660\n",
              "3878       휴벡셀  212310\n",
              "\n",
              "[3879 rows x 2 columns]"
            ]
          },
          "metadata": {
            "tags": []
          },
          "execution_count": 212
        }
      ]
    },
    {
      "cell_type": "code",
      "metadata": {
        "id": "v-gxghOFuKyb"
      },
      "source": [
        "# 회사명으로 코드 검색\n",
        "def get_code(df, name):\n",
        "    #code = df.query(\"name=='{}'\".format(name))['code'].to_string(index=False)\n",
        "    code = rename_df[(rename_df['name'] == name)]['code'].to_string(index=False)\n",
        "    code = code.strip()\n",
        "    return code"
      ],
      "execution_count": null,
      "outputs": []
    },
    {
      "cell_type": "code",
      "metadata": {
        "id": "OPcnfRNxnWof",
        "outputId": "2daa0dea-a6fb-4cb0-eed4-87f4d7bf45a0",
        "colab": {
          "base_uri": "https://localhost:8080/",
          "height": 402
        }
      },
      "source": [
        "# 종목코드 입력해서 주가 뽑아내기(전처리)\n",
        "rename_df.code = rename_df.code.map('{:06d}'.format)\n",
        "# code 6자리 맞추기\n",
        "rename_df"
      ],
      "execution_count": null,
      "outputs": [
        {
          "output_type": "execute_result",
          "data": {
            "text/html": [
              "<div>\n",
              "<style scoped>\n",
              "    .dataframe tbody tr th:only-of-type {\n",
              "        vertical-align: middle;\n",
              "    }\n",
              "\n",
              "    .dataframe tbody tr th {\n",
              "        vertical-align: top;\n",
              "    }\n",
              "\n",
              "    .dataframe thead th {\n",
              "        text-align: right;\n",
              "    }\n",
              "</style>\n",
              "<table border=\"1\" class=\"dataframe\">\n",
              "  <thead>\n",
              "    <tr style=\"text-align: right;\">\n",
              "      <th></th>\n",
              "      <th>name</th>\n",
              "      <th>code</th>\n",
              "    </tr>\n",
              "  </thead>\n",
              "  <tbody>\n",
              "    <tr>\n",
              "      <th>0</th>\n",
              "      <td>JS전선</td>\n",
              "      <td>005560</td>\n",
              "    </tr>\n",
              "    <tr>\n",
              "      <th>1</th>\n",
              "      <td>거북선2호</td>\n",
              "      <td>101380</td>\n",
              "    </tr>\n",
              "    <tr>\n",
              "      <th>2</th>\n",
              "      <td>거북선6호</td>\n",
              "      <td>114140</td>\n",
              "    </tr>\n",
              "    <tr>\n",
              "      <th>3</th>\n",
              "      <td>교보메리츠</td>\n",
              "      <td>064900</td>\n",
              "    </tr>\n",
              "    <tr>\n",
              "      <th>4</th>\n",
              "      <td>국제관광공사</td>\n",
              "      <td>028780</td>\n",
              "    </tr>\n",
              "    <tr>\n",
              "      <th>...</th>\n",
              "      <td>...</td>\n",
              "      <td>...</td>\n",
              "    </tr>\n",
              "    <tr>\n",
              "      <th>3874</th>\n",
              "      <td>툴젠</td>\n",
              "      <td>199800</td>\n",
              "    </tr>\n",
              "    <tr>\n",
              "      <th>3875</th>\n",
              "      <td>플럼라인생명과학</td>\n",
              "      <td>222670</td>\n",
              "    </tr>\n",
              "    <tr>\n",
              "      <th>3876</th>\n",
              "      <td>피엔에이치테크</td>\n",
              "      <td>239890</td>\n",
              "    </tr>\n",
              "    <tr>\n",
              "      <th>3877</th>\n",
              "      <td>한국미라클피플사</td>\n",
              "      <td>331660</td>\n",
              "    </tr>\n",
              "    <tr>\n",
              "      <th>3878</th>\n",
              "      <td>휴벡셀</td>\n",
              "      <td>212310</td>\n",
              "    </tr>\n",
              "  </tbody>\n",
              "</table>\n",
              "<p>3879 rows × 2 columns</p>\n",
              "</div>"
            ],
            "text/plain": [
              "          name    code\n",
              "0         JS전선  005560\n",
              "1        거북선2호  101380\n",
              "2        거북선6호  114140\n",
              "3        교보메리츠  064900\n",
              "4       국제관광공사  028780\n",
              "...        ...     ...\n",
              "3874        툴젠  199800\n",
              "3875  플럼라인생명과학  222670\n",
              "3876   피엔에이치테크  239890\n",
              "3877  한국미라클피플사  331660\n",
              "3878       휴벡셀  212310\n",
              "\n",
              "[3879 rows x 2 columns]"
            ]
          },
          "metadata": {
            "tags": []
          },
          "execution_count": 214
        }
      ]
    },
    {
      "cell_type": "code",
      "metadata": {
        "id": "JPRhDipb9IEM",
        "outputId": "96b14bdb-affe-4601-a4e0-a65350c572a5",
        "colab": {
          "base_uri": "https://localhost:8080/",
          "height": 1000
        }
      },
      "source": [
        "# name\n",
        "list(df['회사명'])[100:200]"
      ],
      "execution_count": null,
      "outputs": [
        {
          "output_type": "execute_result",
          "data": {
            "text/plain": [
              "['굿라이프10-MF',\n",
              " '글로웍스',\n",
              " '네이쳐글로벌',\n",
              " '넷컴스토리지',\n",
              " '뉴젠아이씨티',\n",
              " '뉴켐진스템셀',\n",
              " '다임알짜2호-MF',\n",
              " '단암산업',\n",
              " '대백쇼핑',\n",
              " '대신증권그로쓰스팩',\n",
              " '데코',\n",
              " '동방티엔씨',\n",
              " '동아일렉콤',\n",
              " '동원뮤추얼장보고1호',\n",
              " '드림라인',\n",
              " '마이다스코코',\n",
              " '맥시스템',\n",
              " '모빌탑',\n",
              " '무한투자',\n",
              " '미래아이티2',\n",
              " '미래에셋알바트로스이',\n",
              " '미래에셋크린채권형이',\n",
              " '미래주식1',\n",
              " '미래하이2호',\n",
              " '미래하이4',\n",
              " '미래한아름2',\n",
              " '미주실업',\n",
              " '박현주1호',\n",
              " '박현주3성장',\n",
              " '박현주7성장',\n",
              " '베스트플로우',\n",
              " '부산방직',\n",
              " '비엔디',\n",
              " '비엔씨컴퍼니',\n",
              " '사라콤',\n",
              " '사이노젠',\n",
              " '삼능건설',\n",
              " '삼성라이프에머랄드일',\n",
              " '삼성프라임증권투자회',\n",
              " '성보섬유',\n",
              " '세븐코스프',\n",
              " '세원',\n",
              " '세이플러스',\n",
              " '스틸플라워',\n",
              " '승화프리텍',\n",
              " '신텍',\n",
              " '신한제4호스팩',\n",
              " '신호테크',\n",
              " '실크자산2',\n",
              " '심스밸리',\n",
              " '알루코',\n",
              " '알에스넷',\n",
              " '에이프로테크놀로지',\n",
              " '엘앤피아너스',\n",
              " '엠제이비',\n",
              " '영일케미컬',\n",
              " '우전',\n",
              " '원진',\n",
              " '유티엑스',\n",
              " '이글5호',\n",
              " '이랜드리테일',\n",
              " '이레전자산업',\n",
              " '이론테크',\n",
              " '이롬텍',\n",
              " '이앤텍',\n",
              " '익산',\n",
              " '일신',\n",
              " '제네시스',\n",
              " '조이토토',\n",
              " '중앙디자인',\n",
              " '지노시스템',\n",
              " '지디코프',\n",
              " '지앤알',\n",
              " '지에스엔텍',\n",
              " '지엔텍홀딩스',\n",
              " '챌린지성장2',\n",
              " '카카오M',\n",
              " '태평양금속',\n",
              " '트라이콤',\n",
              " '트윈스챌린지펀드',\n",
              " '파티게임즈',\n",
              " '팬텀엔터그룹',\n",
              " '퓨쳐인포넷',\n",
              " '플래닛82',\n",
              " '플래티넘성2-MF',\n",
              " '하림홀딩스',\n",
              " '한국4호스팩',\n",
              " '한국제5호스팩',\n",
              " '한국제6호스팩',\n",
              " '한국종합철관',\n",
              " '한국체인',\n",
              " '한국화이바',\n",
              " '한림창투',\n",
              " '한아시스템',\n",
              " '한일제관',\n",
              " '한컴지엠디',\n",
              " '한통엠닷컴',\n",
              " '희훈디앤지',\n",
              " '극동자동화',\n",
              " '나무기술']"
            ]
          },
          "metadata": {
            "tags": []
          },
          "execution_count": 215
        }
      ]
    },
    {
      "cell_type": "code",
      "metadata": {
        "id": "S4tp6RYk3TyY",
        "outputId": "c573c4e1-e8df-41a9-a284-dcbe1cb70b01",
        "colab": {
          "base_uri": "https://localhost:8080/",
          "height": 35
        }
      },
      "source": [
        "# 회사명으로 코드 검색\n",
        "name = 'LG디스플레이'\n",
        "#rename_df.loc[name]['code'] # 인덱스를 'name'으로 바꿔야함\n",
        "rename_df[(rename_df['name'] == name)]['code'].to_string(index=False)\n",
        "code = get_code(rename_df, name) + '.KS'\n",
        "code\n",
        "# 이름이 중복 되면 제대로 작동 안함"
      ],
      "execution_count": null,
      "outputs": [
        {
          "output_type": "execute_result",
          "data": {
            "application/vnd.google.colaboratory.intrinsic+json": {
              "type": "string"
            },
            "text/plain": [
              "'034220.KS'"
            ]
          },
          "metadata": {
            "tags": []
          },
          "execution_count": 233
        }
      ]
    },
    {
      "cell_type": "code",
      "metadata": {
        "id": "guQJuHzHU8Vk",
        "outputId": "468ec5f2-88e8-435b-d973-71fd429dd0db",
        "colab": {
          "base_uri": "https://localhost:8080/",
          "height": 431
        }
      },
      "source": [
        "# 종목코드 입력해서 주가 뽑아내기\n",
        "data = pdr.get_data_yahoo(code) # code = '톨젠'\n",
        "data\n",
        "# 야후에 데이터가 없으면 에러"
      ],
      "execution_count": null,
      "outputs": [
        {
          "output_type": "execute_result",
          "data": {
            "text/html": [
              "<div>\n",
              "<style scoped>\n",
              "    .dataframe tbody tr th:only-of-type {\n",
              "        vertical-align: middle;\n",
              "    }\n",
              "\n",
              "    .dataframe tbody tr th {\n",
              "        vertical-align: top;\n",
              "    }\n",
              "\n",
              "    .dataframe thead th {\n",
              "        text-align: right;\n",
              "    }\n",
              "</style>\n",
              "<table border=\"1\" class=\"dataframe\">\n",
              "  <thead>\n",
              "    <tr style=\"text-align: right;\">\n",
              "      <th></th>\n",
              "      <th>High</th>\n",
              "      <th>Low</th>\n",
              "      <th>Open</th>\n",
              "      <th>Close</th>\n",
              "      <th>Volume</th>\n",
              "      <th>Adj Close</th>\n",
              "    </tr>\n",
              "    <tr>\n",
              "      <th>Date</th>\n",
              "      <th></th>\n",
              "      <th></th>\n",
              "      <th></th>\n",
              "      <th></th>\n",
              "      <th></th>\n",
              "      <th></th>\n",
              "    </tr>\n",
              "  </thead>\n",
              "  <tbody>\n",
              "    <tr>\n",
              "      <th>2015-10-26</th>\n",
              "      <td>22450.0</td>\n",
              "      <td>21850.0</td>\n",
              "      <td>22250.0</td>\n",
              "      <td>22050.0</td>\n",
              "      <td>1492608.0</td>\n",
              "      <td>20896.937500</td>\n",
              "    </tr>\n",
              "    <tr>\n",
              "      <th>2015-10-27</th>\n",
              "      <td>22000.0</td>\n",
              "      <td>21650.0</td>\n",
              "      <td>21950.0</td>\n",
              "      <td>21800.0</td>\n",
              "      <td>1269262.0</td>\n",
              "      <td>20660.009766</td>\n",
              "    </tr>\n",
              "    <tr>\n",
              "      <th>2015-10-28</th>\n",
              "      <td>22100.0</td>\n",
              "      <td>21250.0</td>\n",
              "      <td>21850.0</td>\n",
              "      <td>21300.0</td>\n",
              "      <td>1795717.0</td>\n",
              "      <td>20186.158203</td>\n",
              "    </tr>\n",
              "    <tr>\n",
              "      <th>2015-10-29</th>\n",
              "      <td>22250.0</td>\n",
              "      <td>21450.0</td>\n",
              "      <td>21450.0</td>\n",
              "      <td>21750.0</td>\n",
              "      <td>2003254.0</td>\n",
              "      <td>20612.626953</td>\n",
              "    </tr>\n",
              "    <tr>\n",
              "      <th>2015-10-30</th>\n",
              "      <td>22100.0</td>\n",
              "      <td>21550.0</td>\n",
              "      <td>21850.0</td>\n",
              "      <td>21600.0</td>\n",
              "      <td>1006532.0</td>\n",
              "      <td>20470.470703</td>\n",
              "    </tr>\n",
              "    <tr>\n",
              "      <th>...</th>\n",
              "      <td>...</td>\n",
              "      <td>...</td>\n",
              "      <td>...</td>\n",
              "      <td>...</td>\n",
              "      <td>...</td>\n",
              "      <td>...</td>\n",
              "    </tr>\n",
              "    <tr>\n",
              "      <th>2020-10-19</th>\n",
              "      <td>16200.0</td>\n",
              "      <td>15750.0</td>\n",
              "      <td>15900.0</td>\n",
              "      <td>15750.0</td>\n",
              "      <td>1465651.0</td>\n",
              "      <td>15750.000000</td>\n",
              "    </tr>\n",
              "    <tr>\n",
              "      <th>2020-10-20</th>\n",
              "      <td>15950.0</td>\n",
              "      <td>15500.0</td>\n",
              "      <td>15750.0</td>\n",
              "      <td>15750.0</td>\n",
              "      <td>1418515.0</td>\n",
              "      <td>15750.000000</td>\n",
              "    </tr>\n",
              "    <tr>\n",
              "      <th>2020-10-21</th>\n",
              "      <td>15900.0</td>\n",
              "      <td>15550.0</td>\n",
              "      <td>15750.0</td>\n",
              "      <td>15800.0</td>\n",
              "      <td>1278212.0</td>\n",
              "      <td>15800.000000</td>\n",
              "    </tr>\n",
              "    <tr>\n",
              "      <th>2020-10-22</th>\n",
              "      <td>16000.0</td>\n",
              "      <td>15550.0</td>\n",
              "      <td>15700.0</td>\n",
              "      <td>15750.0</td>\n",
              "      <td>1572096.0</td>\n",
              "      <td>15750.000000</td>\n",
              "    </tr>\n",
              "    <tr>\n",
              "      <th>2020-10-23</th>\n",
              "      <td>16150.0</td>\n",
              "      <td>15300.0</td>\n",
              "      <td>16150.0</td>\n",
              "      <td>15350.0</td>\n",
              "      <td>3020783.0</td>\n",
              "      <td>15350.000000</td>\n",
              "    </tr>\n",
              "  </tbody>\n",
              "</table>\n",
              "<p>1220 rows × 6 columns</p>\n",
              "</div>"
            ],
            "text/plain": [
              "               High      Low     Open    Close     Volume     Adj Close\n",
              "Date                                                                   \n",
              "2015-10-26  22450.0  21850.0  22250.0  22050.0  1492608.0  20896.937500\n",
              "2015-10-27  22000.0  21650.0  21950.0  21800.0  1269262.0  20660.009766\n",
              "2015-10-28  22100.0  21250.0  21850.0  21300.0  1795717.0  20186.158203\n",
              "2015-10-29  22250.0  21450.0  21450.0  21750.0  2003254.0  20612.626953\n",
              "2015-10-30  22100.0  21550.0  21850.0  21600.0  1006532.0  20470.470703\n",
              "...             ...      ...      ...      ...        ...           ...\n",
              "2020-10-19  16200.0  15750.0  15900.0  15750.0  1465651.0  15750.000000\n",
              "2020-10-20  15950.0  15500.0  15750.0  15750.0  1418515.0  15750.000000\n",
              "2020-10-21  15900.0  15550.0  15750.0  15800.0  1278212.0  15800.000000\n",
              "2020-10-22  16000.0  15550.0  15700.0  15750.0  1572096.0  15750.000000\n",
              "2020-10-23  16150.0  15300.0  16150.0  15350.0  3020783.0  15350.000000\n",
              "\n",
              "[1220 rows x 6 columns]"
            ]
          },
          "metadata": {
            "tags": []
          },
          "execution_count": 274
        }
      ]
    },
    {
      "cell_type": "code",
      "metadata": {
        "id": "24GgkPnwRaAy",
        "outputId": "0a62cb95-8eb0-4448-f35d-867c96f966df",
        "colab": {
          "base_uri": "https://localhost:8080/",
          "height": 285
        }
      },
      "source": [
        "# 시각화\n",
        "plt.plot(data.index, data[\"Close\"])"
      ],
      "execution_count": null,
      "outputs": [
        {
          "output_type": "execute_result",
          "data": {
            "text/plain": [
              "[<matplotlib.lines.Line2D at 0x7fcee835aba8>]"
            ]
          },
          "metadata": {
            "tags": []
          },
          "execution_count": 244
        },
        {
          "output_type": "display_data",
          "data": {
            "image/png": "[encoded data removed]",
            "text/plain": [
              "<Figure size 432x288 with 1 Axes>"
            ]
          },
          "metadata": {
            "tags": [],
            "needs_background": "light"
          }
        }
      ]
    },
    {
      "cell_type": "code",
      "metadata": {
        "id": "qDxRrKHQSlB8",
        "outputId": "840bb16a-580e-4baa-88c7-6023a393faa7",
        "colab": {
          "base_uri": "https://localhost:8080/",
          "height": 34
        }
      },
      "source": [
        "cut_line =  int(np.round(data.shape[0] * 0.2))\n",
        "cut_line"
      ],
      "execution_count": null,
      "outputs": [
        {
          "output_type": "execute_result",
          "data": {
            "text/plain": [
              "244"
            ]
          },
          "metadata": {
            "tags": []
          },
          "execution_count": 245
        }
      ]
    },
    {
      "cell_type": "code",
      "metadata": {
        "id": "BtD5wTuMSJ7Y",
        "outputId": "d0cc8fc6-2a89-42d5-cca9-c88f32c41d0e",
        "colab": {
          "base_uri": "https://localhost:8080/",
          "height": 34
        }
      },
      "source": [
        "# 전처리\n",
        "x_train = pd.DataFrame(data.Close[:-cut_line])\n",
        "x_test = pd.DataFrame(data.Close[-cut_line:])\n",
        "data.shape, x_train.shape, x_test.shape"
      ],
      "execution_count": null,
      "outputs": [
        {
          "output_type": "execute_result",
          "data": {
            "text/plain": [
              "((1220, 6), (976, 1), (244, 1))"
            ]
          },
          "metadata": {
            "tags": []
          },
          "execution_count": 246
        }
      ]
    },
    {
      "cell_type": "code",
      "metadata": {
        "id": "XUtqqjlsT4kK",
        "outputId": "9b5fdc13-3cee-4115-e0ce-30ea74526a2b",
        "colab": {
          "base_uri": "https://localhost:8080/",
          "height": 34
        }
      },
      "source": [
        "# Scale Data, 정규화 과정\n",
        "from sklearn.preprocessing import MinMaxScaler\n",
        "\n",
        "scaler = MinMaxScaler()\n",
        "# MinMaxScaler : 0 ~ 1 사이로 정규화함\n",
        "scaler.fit(x_train)\n",
        "s_train = scaler.transform(x_train)\n",
        "s_test = scaler.transform(x_test)\n",
        "s_train.shape, s_test.shape"
      ],
      "execution_count": null,
      "outputs": [
        {
          "output_type": "execute_result",
          "data": {
            "text/plain": [
              "((976, 1), (244, 1))"
            ]
          },
          "metadata": {
            "tags": []
          },
          "execution_count": 247
        }
      ]
    },
    {
      "cell_type": "code",
      "metadata": {
        "id": "8ALAfZwKqf3L"
      },
      "source": [
        "# time series Generator\n",
        "from tensorflow.keras.preprocessing.sequence import TimeseriesGenerator\n",
        "\n",
        "length = 50 # 길어질수록 학습의 정확도는 높아짐\n",
        "ts_train = TimeseriesGenerator(s_train, s_train, length=length, batch_size = 1)\n",
        "ts_test = TimeseriesGenerator(s_test, s_test, length=length, batch_size = 1)\n",
        "# stride: 연속되는 출력 시퀀스 사이의 기간. 보폭이 s이면, 연속되는 출력 샘플은 data[i]를 중심으로, data[i+s], data[i+2*s] 등이 됩니다.\n",
        "# batch_size: 각 배치의 (마지막을 제외한) 시간 단계 샘플의 수.\n",
        "# length = 50 : 50번째 값을 예측함"
      ],
      "execution_count": null,
      "outputs": []
    },
    {
      "cell_type": "code",
      "metadata": {
        "id": "N5kHYOCcreXx"
      },
      "source": [
        "# lstm\n",
        "model_lstm = tf.keras.models.Sequential()\n",
        "model_lstm.add(tf.keras.layers.LSTM(64, input_shape=(length,1) ))\n",
        "model_lstm.add(tf.keras.layers.Dense(1))"
      ],
      "execution_count": null,
      "outputs": []
    },
    {
      "cell_type": "code",
      "metadata": {
        "id": "9-pch2o1rnJS"
      },
      "source": [
        "model_lstm.compile(optimizer='adam', loss='mse')"
      ],
      "execution_count": null,
      "outputs": []
    },
    {
      "cell_type": "code",
      "metadata": {
        "id": "l0e2UAtFrqXH",
        "outputId": "44e95538-49a8-431e-85ae-e51620660d4c",
        "colab": {
          "base_uri": "https://localhost:8080/",
          "height": 316
        }
      },
      "source": [
        "model_lstm.fit(ts_train, epochs=8)"
      ],
      "execution_count": null,
      "outputs": [
        {
          "output_type": "stream",
          "text": [
            "Epoch 1/8\n",
            "926/926 [==============================] - 4s 4ms/step - loss: 0.0033\n",
            "Epoch 2/8\n",
            "926/926 [==============================] - 4s 4ms/step - loss: 0.0011\n",
            "Epoch 3/8\n",
            "926/926 [==============================] - 4s 4ms/step - loss: 9.1655e-04\n",
            "Epoch 4/8\n",
            "926/926 [==============================] - 4s 4ms/step - loss: 8.7782e-04\n",
            "Epoch 5/8\n",
            "926/926 [==============================] - 4s 4ms/step - loss: 7.8189e-04\n",
            "Epoch 6/8\n",
            "926/926 [==============================] - 4s 4ms/step - loss: 6.8563e-04\n",
            "Epoch 7/8\n",
            "926/926 [==============================] - 4s 4ms/step - loss: 6.3397e-04\n",
            "Epoch 8/8\n",
            "926/926 [==============================] - 4s 4ms/step - loss: 6.2354e-04\n"
          ],
          "name": "stdout"
        },
        {
          "output_type": "execute_result",
          "data": {
            "text/plain": [
              "<tensorflow.python.keras.callbacks.History at 0x7fcee8293438>"
            ]
          },
          "metadata": {
            "tags": []
          },
          "execution_count": 251
        }
      ]
    },
    {
      "cell_type": "code",
      "metadata": {
        "id": "7br-oMX7rtgD",
        "outputId": "d6bdf602-00a2-4e67-fdb5-cec3cf92842f",
        "colab": {
          "base_uri": "https://localhost:8080/",
          "height": 34
        }
      },
      "source": [
        "# 예측 테스트\n",
        "p_test_lstm = model_lstm.predict(ts_test)\n",
        "ts_test[0][0].shape, p_test_lstm.shape"
      ],
      "execution_count": null,
      "outputs": [
        {
          "output_type": "execute_result",
          "data": {
            "text/plain": [
              "((1, 50, 1), (194, 1))"
            ]
          },
          "metadata": {
            "tags": []
          },
          "execution_count": 252
        }
      ]
    },
    {
      "cell_type": "code",
      "metadata": {
        "id": "pYS3KEBzrzAT"
      },
      "source": [
        "# 정규화 원상복귀\n",
        "r_test_lstm = scaler.inverse_transform(p_test_lstm)\n",
        "# .inverse_transfor : 정규화(0~1) 한 것을 다시 원상 복귀"
      ],
      "execution_count": null,
      "outputs": []
    },
    {
      "cell_type": "code",
      "metadata": {
        "id": "MPf-vfX2r2s4",
        "outputId": "dae9f5da-7056-4f9c-93ae-1564f5dfd677",
        "colab": {
          "base_uri": "https://localhost:8080/",
          "height": 431
        }
      },
      "source": [
        "# x_test 크기 맞추고, 합치기\n",
        "cut_x_test = x_test.drop(x_test.index[0:length])\n",
        "cut_x_test['lstm'] = r_test_lstm\n",
        "cut_x_test"
      ],
      "execution_count": null,
      "outputs": [
        {
          "output_type": "execute_result",
          "data": {
            "text/html": [
              "<div>\n",
              "<style scoped>\n",
              "    .dataframe tbody tr th:only-of-type {\n",
              "        vertical-align: middle;\n",
              "    }\n",
              "\n",
              "    .dataframe tbody tr th {\n",
              "        vertical-align: top;\n",
              "    }\n",
              "\n",
              "    .dataframe thead th {\n",
              "        text-align: right;\n",
              "    }\n",
              "</style>\n",
              "<table border=\"1\" class=\"dataframe\">\n",
              "  <thead>\n",
              "    <tr style=\"text-align: right;\">\n",
              "      <th></th>\n",
              "      <th>Close</th>\n",
              "      <th>lstm</th>\n",
              "    </tr>\n",
              "    <tr>\n",
              "      <th>Date</th>\n",
              "      <th></th>\n",
              "      <th></th>\n",
              "    </tr>\n",
              "  </thead>\n",
              "  <tbody>\n",
              "    <tr>\n",
              "      <th>2020-01-13</th>\n",
              "      <td>15400.0</td>\n",
              "      <td>16022.560547</td>\n",
              "    </tr>\n",
              "    <tr>\n",
              "      <th>2020-01-14</th>\n",
              "      <td>15700.0</td>\n",
              "      <td>15733.532227</td>\n",
              "    </tr>\n",
              "    <tr>\n",
              "      <th>2020-01-15</th>\n",
              "      <td>15600.0</td>\n",
              "      <td>15808.112305</td>\n",
              "    </tr>\n",
              "    <tr>\n",
              "      <th>2020-01-16</th>\n",
              "      <td>15550.0</td>\n",
              "      <td>15780.575195</td>\n",
              "    </tr>\n",
              "    <tr>\n",
              "      <th>2020-01-17</th>\n",
              "      <td>15850.0</td>\n",
              "      <td>15739.621094</td>\n",
              "    </tr>\n",
              "    <tr>\n",
              "      <th>...</th>\n",
              "      <td>...</td>\n",
              "      <td>...</td>\n",
              "    </tr>\n",
              "    <tr>\n",
              "      <th>2020-10-19</th>\n",
              "      <td>15750.0</td>\n",
              "      <td>16085.870117</td>\n",
              "    </tr>\n",
              "    <tr>\n",
              "      <th>2020-10-20</th>\n",
              "      <td>15750.0</td>\n",
              "      <td>15980.482422</td>\n",
              "    </tr>\n",
              "    <tr>\n",
              "      <th>2020-10-21</th>\n",
              "      <td>15800.0</td>\n",
              "      <td>15940.061523</td>\n",
              "    </tr>\n",
              "    <tr>\n",
              "      <th>2020-10-22</th>\n",
              "      <td>15750.0</td>\n",
              "      <td>15958.112305</td>\n",
              "    </tr>\n",
              "    <tr>\n",
              "      <th>2020-10-23</th>\n",
              "      <td>15350.0</td>\n",
              "      <td>15935.531250</td>\n",
              "    </tr>\n",
              "  </tbody>\n",
              "</table>\n",
              "<p>194 rows × 2 columns</p>\n",
              "</div>"
            ],
            "text/plain": [
              "              Close          lstm\n",
              "Date                             \n",
              "2020-01-13  15400.0  16022.560547\n",
              "2020-01-14  15700.0  15733.532227\n",
              "2020-01-15  15600.0  15808.112305\n",
              "2020-01-16  15550.0  15780.575195\n",
              "2020-01-17  15850.0  15739.621094\n",
              "...             ...           ...\n",
              "2020-10-19  15750.0  16085.870117\n",
              "2020-10-20  15750.0  15980.482422\n",
              "2020-10-21  15800.0  15940.061523\n",
              "2020-10-22  15750.0  15958.112305\n",
              "2020-10-23  15350.0  15935.531250\n",
              "\n",
              "[194 rows x 2 columns]"
            ]
          },
          "metadata": {
            "tags": []
          },
          "execution_count": 254
        }
      ]
    },
    {
      "cell_type": "code",
      "metadata": {
        "id": "6AaOeIJIr6JN",
        "outputId": "2a31cbed-3598-42b3-c782-e909bbaf18a4",
        "colab": {
          "base_uri": "https://localhost:8080/",
          "height": 282
        }
      },
      "source": [
        "# 시각화\n",
        "plt.plot(cut_x_test.index, cut_x_test[\"Close\"], linewidth = 4.0)\n",
        "plt.plot(cut_x_test.index, cut_x_test.lstm,color='red', linewidth = 2.0)"
      ],
      "execution_count": null,
      "outputs": [
        {
          "output_type": "execute_result",
          "data": {
            "text/plain": [
              "[<matplotlib.lines.Line2D at 0x7fcee8707940>]"
            ]
          },
          "metadata": {
            "tags": []
          },
          "execution_count": 262
        },
        {
          "output_type": "display_data",
          "data": {
            "image/png": "[encoded data removed]",
            "text/plain": [
              "<Figure size 432x288 with 1 Axes>"
            ]
          },
          "metadata": {
            "tags": [],
            "needs_background": "light"
          }
        }
      ]
    },
    {
      "cell_type": "code",
      "metadata": {
        "id": "vz1VbaBusGM0"
      },
      "source": [
        "# 미래 예측\n",
        "batch = s_test[-length:]\n",
        "\n",
        "forecast_LSTM = []\n",
        "c_batch_lstm = batch.reshape((1, length, 1))\n",
        "num = 6\n",
        "\n",
        "for i in range(num):\n",
        "  c_predict_lstm = model_lstm.predict(c_batch_lstm)[0]\n",
        "  forecast_LSTM.append(c_predict_lstm)\n",
        "  c_batch_lstm = np.append(c_batch_lstm[:,1:,:], [[c_predict_lstm]], axis=1)"
      ],
      "execution_count": null,
      "outputs": []
    },
    {
      "cell_type": "code",
      "metadata": {
        "id": "Ad43OFB_smih",
        "outputId": "c7cb3ad9-01cd-4cf4-a0f2-86a523b04dba",
        "colab": {
          "base_uri": "https://localhost:8080/",
          "height": 34
        }
      },
      "source": [
        "# 정규화 되돌리기\n",
        "forecast_lstm = scaler.inverse_transform(forecast_LSTM)\n",
        "forecast_lstm.shape"
      ],
      "execution_count": null,
      "outputs": [
        {
          "output_type": "execute_result",
          "data": {
            "text/plain": [
              "(6, 1)"
            ]
          },
          "metadata": {
            "tags": []
          },
          "execution_count": 264
        }
      ]
    },
    {
      "cell_type": "code",
      "metadata": {
        "id": "GaFrePa-so0j",
        "outputId": "ecffa8c0-42e6-497e-c05d-1d23e7b420a5",
        "colab": {
          "base_uri": "https://localhost:8080/",
          "height": 263
        }
      },
      "source": [
        "# shape 맞추기(숫자로 변환)\n",
        "reset_df = cut_x_test.reset_index()\n",
        "forecast_ind = np.arange(reset_df.index[-1], reset_df.index[-1]+num )\n",
        "reset_df, forecast_ind, forecast_ind.shape"
      ],
      "execution_count": null,
      "outputs": [
        {
          "output_type": "execute_result",
          "data": {
            "text/plain": [
              "(          Date    Close          lstm\n",
              " 0   2020-01-13  15400.0  16022.560547\n",
              " 1   2020-01-14  15700.0  15733.532227\n",
              " 2   2020-01-15  15600.0  15808.112305\n",
              " 3   2020-01-16  15550.0  15780.575195\n",
              " 4   2020-01-17  15850.0  15739.621094\n",
              " ..         ...      ...           ...\n",
              " 189 2020-10-19  15750.0  16085.870117\n",
              " 190 2020-10-20  15750.0  15980.482422\n",
              " 191 2020-10-21  15800.0  15940.061523\n",
              " 192 2020-10-22  15750.0  15958.112305\n",
              " 193 2020-10-23  15350.0  15935.531250\n",
              " \n",
              " [194 rows x 3 columns], array([193, 194, 195, 196, 197, 198]), (6,))"
            ]
          },
          "metadata": {
            "tags": []
          },
          "execution_count": 265
        }
      ]
    },
    {
      "cell_type": "code",
      "metadata": {
        "id": "Oxnps9GitAWu",
        "outputId": "890beb5c-3ef1-4923-cfa0-2e08d1ef6494",
        "colab": {
          "base_uri": "https://localhost:8080/",
          "height": 297
        }
      },
      "source": [
        "# 시각화\n",
        "plt.xlabel('Date')\n",
        "plt.ylabel('price')\n",
        "plt.plot(reset_df.index[180:], reset_df[\"Close\"][180:])\n",
        "plt.plot(forecast_ind, forecast_lstm, color='red')"
      ],
      "execution_count": null,
      "outputs": [
        {
          "output_type": "execute_result",
          "data": {
            "text/plain": [
              "[<matplotlib.lines.Line2D at 0x7fcee5da5278>]"
            ]
          },
          "metadata": {
            "tags": []
          },
          "execution_count": 272
        },
        {
          "output_type": "display_data",
          "data": {
            "image/png": "[encoded data removed]",
            "text/plain": [
              "<Figure size 432x288 with 1 Axes>"
            ]
          },
          "metadata": {
            "tags": [],
            "needs_background": "light"
          }
        }
      ]
    },
    {
      "cell_type": "code",
      "metadata": {
        "id": "x9ximQXQGpaJ"
      },
      "source": [
        "# shape 맞추기(날짜 그대로)\n",
        "forecast_idx = np.linspace(0, 1, 365) * (np.datetime64('2021-10-24') - np.datetime64('2020-10-24')) + np.datetime64('2020-10-24')"
      ],
      "execution_count": null,
      "outputs": []
    },
    {
      "cell_type": "code",
      "metadata": {
        "id": "9rismtOytAvi"
      },
      "source": [
        "# shape 맞추기(날짜 그대로 사용)\n",
        "forecast_idx = np.linspace(0, 1, 69) * (np.datetime64('2020-12-31') - np.datetime64('2020-10-24')) + np.datetime64('2020-10-24') #change"
      ],
      "execution_count": null,
      "outputs": []
    },
    {
      "cell_type": "code",
      "metadata": {
        "id": "nF6hRUvbIE1f",
        "outputId": "6cba90bd-44ca-47d8-90d2-1df2403480aa",
        "colab": {
          "base_uri": "https://localhost:8080/",
          "height": 402
        }
      },
      "source": [
        "reset_df"
      ],
      "execution_count": null,
      "outputs": [
        {
          "output_type": "execute_result",
          "data": {
            "text/html": [
              "<div>\n",
              "<style scoped>\n",
              "    .dataframe tbody tr th:only-of-type {\n",
              "        vertical-align: middle;\n",
              "    }\n",
              "\n",
              "    .dataframe tbody tr th {\n",
              "        vertical-align: top;\n",
              "    }\n",
              "\n",
              "    .dataframe thead th {\n",
              "        text-align: right;\n",
              "    }\n",
              "</style>\n",
              "<table border=\"1\" class=\"dataframe\">\n",
              "  <thead>\n",
              "    <tr style=\"text-align: right;\">\n",
              "      <th></th>\n",
              "      <th>Date</th>\n",
              "      <th>Close</th>\n",
              "      <th>lstm</th>\n",
              "    </tr>\n",
              "  </thead>\n",
              "  <tbody>\n",
              "    <tr>\n",
              "      <th>0</th>\n",
              "      <td>2020-01-13</td>\n",
              "      <td>15400.0</td>\n",
              "      <td>16022.560547</td>\n",
              "    </tr>\n",
              "    <tr>\n",
              "      <th>1</th>\n",
              "      <td>2020-01-14</td>\n",
              "      <td>15700.0</td>\n",
              "      <td>15733.532227</td>\n",
              "    </tr>\n",
              "    <tr>\n",
              "      <th>2</th>\n",
              "      <td>2020-01-15</td>\n",
              "      <td>15600.0</td>\n",
              "      <td>15808.112305</td>\n",
              "    </tr>\n",
              "    <tr>\n",
              "      <th>3</th>\n",
              "      <td>2020-01-16</td>\n",
              "      <td>15550.0</td>\n",
              "      <td>15780.575195</td>\n",
              "    </tr>\n",
              "    <tr>\n",
              "      <th>4</th>\n",
              "      <td>2020-01-17</td>\n",
              "      <td>15850.0</td>\n",
              "      <td>15739.621094</td>\n",
              "    </tr>\n",
              "    <tr>\n",
              "      <th>...</th>\n",
              "      <td>...</td>\n",
              "      <td>...</td>\n",
              "      <td>...</td>\n",
              "    </tr>\n",
              "    <tr>\n",
              "      <th>189</th>\n",
              "      <td>2020-10-19</td>\n",
              "      <td>15750.0</td>\n",
              "      <td>16085.870117</td>\n",
              "    </tr>\n",
              "    <tr>\n",
              "      <th>190</th>\n",
              "      <td>2020-10-20</td>\n",
              "      <td>15750.0</td>\n",
              "      <td>15980.482422</td>\n",
              "    </tr>\n",
              "    <tr>\n",
              "      <th>191</th>\n",
              "      <td>2020-10-21</td>\n",
              "      <td>15800.0</td>\n",
              "      <td>15940.061523</td>\n",
              "    </tr>\n",
              "    <tr>\n",
              "      <th>192</th>\n",
              "      <td>2020-10-22</td>\n",
              "      <td>15750.0</td>\n",
              "      <td>15958.112305</td>\n",
              "    </tr>\n",
              "    <tr>\n",
              "      <th>193</th>\n",
              "      <td>2020-10-23</td>\n",
              "      <td>15350.0</td>\n",
              "      <td>15935.531250</td>\n",
              "    </tr>\n",
              "  </tbody>\n",
              "</table>\n",
              "<p>194 rows × 3 columns</p>\n",
              "</div>"
            ],
            "text/plain": [
              "          Date    Close          lstm\n",
              "0   2020-01-13  15400.0  16022.560547\n",
              "1   2020-01-14  15700.0  15733.532227\n",
              "2   2020-01-15  15600.0  15808.112305\n",
              "3   2020-01-16  15550.0  15780.575195\n",
              "4   2020-01-17  15850.0  15739.621094\n",
              "..         ...      ...           ...\n",
              "189 2020-10-19  15750.0  16085.870117\n",
              "190 2020-10-20  15750.0  15980.482422\n",
              "191 2020-10-21  15800.0  15940.061523\n",
              "192 2020-10-22  15750.0  15958.112305\n",
              "193 2020-10-23  15350.0  15935.531250\n",
              "\n",
              "[194 rows x 3 columns]"
            ]
          },
          "metadata": {
            "tags": []
          },
          "execution_count": 268
        }
      ]
    },
    {
      "cell_type": "code",
      "metadata": {
        "id": "-eljG4vpIFKp"
      },
      "source": [
        ""
      ],
      "execution_count": null,
      "outputs": []
    }
  ]
}