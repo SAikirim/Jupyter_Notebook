{
  "nbformat": 4,
  "nbformat_minor": 0,
  "metadata": {
    "colab": {
      "name": "tensorflow 사용",
      "provenance": [],
      "collapsed_sections": []
    },
    "kernelspec": {
      "name": "python3",
      "display_name": "Python 3"
    },
    "accelerator": "GPU"
  },
  "cells": [
    {
      "cell_type": "code",
      "metadata": {
        "id": "j-RifsNMofC2",
        "outputId": "7411225d-a088-4388-e2f9-ffab0fcf9795",
        "colab": {
          "base_uri": "https://localhost:8080/",
          "height": 35
        }
      },
      "source": [
        "tf.__version__"
      ],
      "execution_count": 14,
      "outputs": [
        {
          "output_type": "execute_result",
          "data": {
            "application/vnd.google.colaboratory.intrinsic+json": {
              "type": "string"
            },
            "text/plain": [
              "'2.3.0'"
            ]
          },
          "metadata": {
            "tags": []
          },
          "execution_count": 14
        }
      ]
    },
    {
      "cell_type": "code",
      "metadata": {
        "id": "xfKne8jSomQ7"
      },
      "source": [
        "from tensorflow import keras"
      ],
      "execution_count": 15,
      "outputs": []
    },
    {
      "cell_type": "code",
      "metadata": {
        "id": "11n-WYLLozQY",
        "outputId": "dc45ac97-801d-486a-e044-207aa914c6c1",
        "colab": {
          "base_uri": "https://localhost:8080/",
          "height": 34
        }
      },
      "source": [
        "tf.config.list_physical_devices('GPU')"
      ],
      "execution_count": 16,
      "outputs": [
        {
          "output_type": "execute_result",
          "data": {
            "text/plain": [
              "[PhysicalDevice(name='/physical_device:GPU:0', device_type='GPU')]"
            ]
          },
          "metadata": {
            "tags": []
          },
          "execution_count": 16
        }
      ]
    },
    {
      "cell_type": "code",
      "metadata": {
        "id": "qGbmeiRnpp9h"
      },
      "source": [
        "import numpy as np"
      ],
      "execution_count": 17,
      "outputs": []
    },
    {
      "cell_type": "code",
      "metadata": {
        "id": "FKrwBbK0pC6m"
      },
      "source": [
        "# AND\n",
        "x_data = np.array([[0, 0], [0,1], [1,0], [1,1]])\n",
        "y_data = np.array([[0], [0], [0], [1]])"
      ],
      "execution_count": 18,
      "outputs": []
    },
    {
      "cell_type": "code",
      "metadata": {
        "id": "JpUX4sG5poCl"
      },
      "source": [
        "model = keras.Sequential()"
      ],
      "execution_count": 19,
      "outputs": []
    },
    {
      "cell_type": "code",
      "metadata": {
        "id": "VWAbHrXHp4Gv"
      },
      "source": [
        "# x_data.shape\n",
        "model.add(keras.layers.Dense(1, activation='sigmoid', input_shape=(2,) )) # Dense : 누락된게 없는 조밀조밀한 layyer"
      ],
      "execution_count": 21,
      "outputs": []
    },
    {
      "cell_type": "code",
      "metadata": {
        "id": "ma1sAKmXrMeQ"
      },
      "source": [
        "optimizer = keras.optimizers.SGD(lr=0.1)"
      ],
      "execution_count": 22,
      "outputs": []
    },
    {
      "cell_type": "code",
      "metadata": {
        "id": "NpAxF75crO5f"
      },
      "source": [
        "model.compile(optimizer=optimizer, loss=\"binary_crossentropy\", metrics=['accuracy'])\n",
        "# loss=\"binary_crossentropy\" :  손실값을 어떻게 측정할지"
      ],
      "execution_count": 27,
      "outputs": []
    },
    {
      "cell_type": "code",
      "metadata": {
        "id": "dZujHFOPsP5D"
      },
      "source": [
        "model.fit(x_data, y_data, batch_size=4, epochs=1000) # 학습, batch_size=4 : 학습실 킬 때 4개 전부 넣겠다."
      ],
      "execution_count": null,
      "outputs": []
    },
    {
      "cell_type": "code",
      "metadata": {
        "id": "7LmFXsQasrRX",
        "outputId": "e366c71c-1d1d-4e60-b3ac-6154511cfb1c",
        "colab": {
          "base_uri": "https://localhost:8080/",
          "height": 87
        }
      },
      "source": [
        "np.round(model.predict(x_data))"
      ],
      "execution_count": 31,
      "outputs": [
        {
          "output_type": "execute_result",
          "data": {
            "text/plain": [
              "array([[0.],\n",
              "       [0.],\n",
              "       [0.],\n",
              "       [1.]], dtype=float32)"
            ]
          },
          "metadata": {
            "tags": []
          },
          "execution_count": 31
        }
      ]
    },
    {
      "cell_type": "code",
      "metadata": {
        "id": "9vTejjYctZUb"
      },
      "source": [
        "# OR\n",
        "x_data = np.array([[0, 0], [0,1], [1,0], [1,1]])\n",
        "y_data = np.array([[0], [1], [1], [1]])\n",
        "\n",
        "# 모델 개체 생성\n",
        "model = keras.Sequential()\n",
        "# Sequential() : 데이터를 순차적으로 쌓겠다."
      ],
      "execution_count": 29,
      "outputs": []
    },
    {
      "cell_type": "code",
      "metadata": {
        "id": "UZoIcFFmujEK",
        "outputId": "edf4679c-dc1b-464d-aed9-6adf8290fbb3",
        "colab": {
          "base_uri": "https://localhost:8080/",
          "height": 34
        }
      },
      "source": [
        "# x_data 모양 확인\n",
        "x_data.shape"
      ],
      "execution_count": 30,
      "outputs": [
        {
          "output_type": "execute_result",
          "data": {
            "text/plain": [
              "(4, 2)"
            ]
          },
          "metadata": {
            "tags": []
          },
          "execution_count": 30
        }
      ]
    },
    {
      "cell_type": "code",
      "metadata": {
        "id": "7BlJQjKWuj0c"
      },
      "source": [
        "# 출력값 형태, 활성화 함수 선택, 입력값 형태\n",
        "model.add(keras.layers.Dense(1, activation='sigmoid', input_shape=(2,) ))\n",
        "# 노드 1개 , 데이터(입력값)는 2개"
      ],
      "execution_count": 31,
      "outputs": []
    },
    {
      "cell_type": "code",
      "metadata": {
        "id": "703HtmSIur_F"
      },
      "source": [
        "# 학습 방법 선택(옵티마이저), 사용할 비용함수 선택\n",
        "optimizer = keras.optimizers.SGD(lr=0.1)\n",
        "model.compile(optimizer=optimizer, loss=\"binary_crossentropy\", metrics=['accuracy'])"
      ],
      "execution_count": 37,
      "outputs": []
    },
    {
      "cell_type": "code",
      "metadata": {
        "id": "BkYuNJPkvV8r"
      },
      "source": [
        "# 학습\n",
        "model.fit(x_data, y_data, batch_size=4, epochs=500) "
      ],
      "execution_count": null,
      "outputs": []
    },
    {
      "cell_type": "code",
      "metadata": {
        "id": "CDPahacrvais",
        "outputId": "cc37946c-9111-44c3-8726-70ffb0ac0c75",
        "colab": {
          "base_uri": "https://localhost:8080/",
          "height": 87
        }
      },
      "source": [
        "# 예측\n",
        "np.round(model.predict(x_data))"
      ],
      "execution_count": 39,
      "outputs": [
        {
          "output_type": "execute_result",
          "data": {
            "text/plain": [
              "array([[0.],\n",
              "       [1.],\n",
              "       [1.],\n",
              "       [1.]], dtype=float32)"
            ]
          },
          "metadata": {
            "tags": []
          },
          "execution_count": 39
        }
      ]
    },
    {
      "cell_type": "code",
      "metadata": {
        "id": "kg1UjGj4vnWb",
        "outputId": "3f21c110-f335-4c08-d17d-a5536e7b59f9",
        "colab": {
          "base_uri": "https://localhost:8080/",
          "height": 265
        }
      },
      "source": [
        "import tensorflow as tf\n",
        "import numpy as np\n",
        "import matplotlib.pyplot as plt\n",
        "from tensorflow import keras\n",
        "\n",
        "np.random.seed(0)\n",
        "\n",
        "def make_random_data():\n",
        "    x = np.random.uniform(low=-2, high=2, size=200)\n",
        "    y = []\n",
        "    for t in x:\n",
        "        r = np.random.normal(loc=0.0, scale=(0.5 + t*t/3), size=None)\n",
        "        y.append(r)\n",
        "    return  x, 1.726*x -0.84 + np.array(y)\n",
        "\n",
        "\n",
        "x, y = make_random_data() \n",
        "\n",
        "plt.plot(x, y, 'o')\n",
        "plt.show()"
      ],
      "execution_count": 168,
      "outputs": [
        {
          "output_type": "display_data",
          "data": {
            "image/png": "[encoded data removed]",
            "text/plain": [
              "<Figure size 432x288 with 1 Axes>"
            ]
          },
          "metadata": {
            "tags": [],
            "needs_background": "light"
          }
        }
      ]
    },
    {
      "cell_type": "code",
      "metadata": {
        "id": "HJHh0Mp3I9Bg"
      },
      "source": [
        "model = keras.Sequential()"
      ],
      "execution_count": 169,
      "outputs": []
    },
    {
      "cell_type": "code",
      "metadata": {
        "id": "-CgGYfJqJONM",
        "outputId": "3182d26c-320b-41b9-ac1d-02877830fb8d",
        "colab": {
          "base_uri": "https://localhost:8080/",
          "height": 34
        }
      },
      "source": [
        "x.shape, y.shape"
      ],
      "execution_count": 170,
      "outputs": [
        {
          "output_type": "execute_result",
          "data": {
            "text/plain": [
              "((200,), (200,))"
            ]
          },
          "metadata": {
            "tags": []
          },
          "execution_count": 170
        }
      ]
    },
    {
      "cell_type": "code",
      "metadata": {
        "id": "KSHSNj98Jbot"
      },
      "source": [
        "#model.add(keras.layers.Dense(1, input_dim=1 ))\n",
        "model.add(keras.layers.Dense(1, input_shape=(1, )))\n",
        "# 노드 1개면, 직선 1개"
      ],
      "execution_count": 171,
      "outputs": []
    },
    {
      "cell_type": "code",
      "metadata": {
        "id": "P_95LS1NQJgS",
        "outputId": "9e06e89a-8564-481d-b9e4-bac2fbebfe8a",
        "colab": {
          "base_uri": "https://localhost:8080/",
          "height": 193
        }
      },
      "source": [
        "model.summary()"
      ],
      "execution_count": 172,
      "outputs": [
        {
          "output_type": "stream",
          "text": [
            "Model: \"sequential_9\"\n",
            "_________________________________________________________________\n",
            "Layer (type)                 Output Shape              Param #   \n",
            "=================================================================\n",
            "dense_32 (Dense)             (None, 1)                 2         \n",
            "=================================================================\n",
            "Total params: 2\n",
            "Trainable params: 2\n",
            "Non-trainable params: 0\n",
            "_________________________________________________________________\n"
          ],
          "name": "stdout"
        }
      ]
    },
    {
      "cell_type": "code",
      "metadata": {
        "id": "K-3tmbC3Jktl"
      },
      "source": [
        "#optimizer = keras.optimizers.SGD(lr=0.1)\n",
        "optimizer ='sgd'\n",
        "model.compile(optimizer=optimizer, loss=\"mse\")"
      ],
      "execution_count": 177,
      "outputs": []
    },
    {
      "cell_type": "code",
      "metadata": {
        "id": "PMNbnaOrKUtg",
        "outputId": "a46115ea-b835-44bb-9b3b-50a8bdfae565",
        "colab": {
          "base_uri": "https://localhost:8080/",
          "height": 1000
        }
      },
      "source": [
        "model.fit(x, y,  epochs=200)"
      ],
      "execution_count": 178,
      "outputs": [
        {
          "output_type": "stream",
          "text": [
            "Epoch 1/200\n",
            "7/7 [==============================] - 0s 2ms/step - loss: 0.8370\n",
            "Epoch 2/200\n",
            "7/7 [==============================] - 0s 2ms/step - loss: 0.8362\n",
            "Epoch 3/200\n",
            "7/7 [==============================] - 0s 2ms/step - loss: 0.8366\n",
            "Epoch 4/200\n",
            "7/7 [==============================] - 0s 2ms/step - loss: 0.8368\n",
            "Epoch 5/200\n",
            "7/7 [==============================] - 0s 2ms/step - loss: 0.8366\n",
            "Epoch 6/200\n",
            "7/7 [==============================] - 0s 2ms/step - loss: 0.8363\n",
            "Epoch 7/200\n",
            "7/7 [==============================] - 0s 2ms/step - loss: 0.8383\n",
            "Epoch 8/200\n",
            "7/7 [==============================] - 0s 2ms/step - loss: 0.8361\n",
            "Epoch 9/200\n",
            "7/7 [==============================] - 0s 2ms/step - loss: 0.8364\n",
            "Epoch 10/200\n",
            "7/7 [==============================] - 0s 2ms/step - loss: 0.8362\n",
            "Epoch 11/200\n",
            "7/7 [==============================] - 0s 2ms/step - loss: 0.8375\n",
            "Epoch 12/200\n",
            "7/7 [==============================] - 0s 2ms/step - loss: 0.8380\n",
            "Epoch 13/200\n",
            "7/7 [==============================] - 0s 2ms/step - loss: 0.8368\n",
            "Epoch 14/200\n",
            "7/7 [==============================] - 0s 2ms/step - loss: 0.8363\n",
            "Epoch 15/200\n",
            "7/7 [==============================] - 0s 2ms/step - loss: 0.8376\n",
            "Epoch 16/200\n",
            "7/7 [==============================] - 0s 2ms/step - loss: 0.8376\n",
            "Epoch 17/200\n",
            "7/7 [==============================] - 0s 2ms/step - loss: 0.8374\n",
            "Epoch 18/200\n",
            "7/7 [==============================] - 0s 2ms/step - loss: 0.8388\n",
            "Epoch 19/200\n",
            "7/7 [==============================] - 0s 2ms/step - loss: 0.8368\n",
            "Epoch 20/200\n",
            "7/7 [==============================] - 0s 2ms/step - loss: 0.8373\n",
            "Epoch 21/200\n",
            "7/7 [==============================] - 0s 2ms/step - loss: 0.8376\n",
            "Epoch 22/200\n",
            "7/7 [==============================] - 0s 2ms/step - loss: 0.8367\n",
            "Epoch 23/200\n",
            "7/7 [==============================] - 0s 2ms/step - loss: 0.8375\n",
            "Epoch 24/200\n",
            "7/7 [==============================] - 0s 2ms/step - loss: 0.8371\n",
            "Epoch 25/200\n",
            "7/7 [==============================] - 0s 2ms/step - loss: 0.8384\n",
            "Epoch 26/200\n",
            "7/7 [==============================] - 0s 2ms/step - loss: 0.8382\n",
            "Epoch 27/200\n",
            "7/7 [==============================] - 0s 2ms/step - loss: 0.8374\n",
            "Epoch 28/200\n",
            "7/7 [==============================] - 0s 2ms/step - loss: 0.8371\n",
            "Epoch 29/200\n",
            "7/7 [==============================] - 0s 2ms/step - loss: 0.8383\n",
            "Epoch 30/200\n",
            "7/7 [==============================] - 0s 2ms/step - loss: 0.8373\n",
            "Epoch 31/200\n",
            "7/7 [==============================] - 0s 2ms/step - loss: 0.8374\n",
            "Epoch 32/200\n",
            "7/7 [==============================] - 0s 2ms/step - loss: 0.8374\n",
            "Epoch 33/200\n",
            "7/7 [==============================] - 0s 2ms/step - loss: 0.8367\n",
            "Epoch 34/200\n",
            "7/7 [==============================] - 0s 2ms/step - loss: 0.8365\n",
            "Epoch 35/200\n",
            "7/7 [==============================] - 0s 2ms/step - loss: 0.8368\n",
            "Epoch 36/200\n",
            "7/7 [==============================] - 0s 2ms/step - loss: 0.8364\n",
            "Epoch 37/200\n",
            "7/7 [==============================] - 0s 2ms/step - loss: 0.8385\n",
            "Epoch 38/200\n",
            "7/7 [==============================] - 0s 2ms/step - loss: 0.8367\n",
            "Epoch 39/200\n",
            "7/7 [==============================] - 0s 2ms/step - loss: 0.8371\n",
            "Epoch 40/200\n",
            "7/7 [==============================] - 0s 2ms/step - loss: 0.8372\n",
            "Epoch 41/200\n",
            "7/7 [==============================] - 0s 2ms/step - loss: 0.8363\n",
            "Epoch 42/200\n",
            "7/7 [==============================] - 0s 2ms/step - loss: 0.8369\n",
            "Epoch 43/200\n",
            "7/7 [==============================] - 0s 2ms/step - loss: 0.8375\n",
            "Epoch 44/200\n",
            "7/7 [==============================] - 0s 2ms/step - loss: 0.8372\n",
            "Epoch 45/200\n",
            "7/7 [==============================] - 0s 2ms/step - loss: 0.8371\n",
            "Epoch 46/200\n",
            "7/7 [==============================] - 0s 2ms/step - loss: 0.8381\n",
            "Epoch 47/200\n",
            "7/7 [==============================] - 0s 2ms/step - loss: 0.8368\n",
            "Epoch 48/200\n",
            "7/7 [==============================] - 0s 2ms/step - loss: 0.8375\n",
            "Epoch 49/200\n",
            "7/7 [==============================] - 0s 2ms/step - loss: 0.8377\n",
            "Epoch 50/200\n",
            "7/7 [==============================] - 0s 2ms/step - loss: 0.8375\n",
            "Epoch 51/200\n",
            "7/7 [==============================] - 0s 2ms/step - loss: 0.8387\n",
            "Epoch 52/200\n",
            "7/7 [==============================] - 0s 2ms/step - loss: 0.8377\n",
            "Epoch 53/200\n",
            "7/7 [==============================] - 0s 2ms/step - loss: 0.8375\n",
            "Epoch 54/200\n",
            "7/7 [==============================] - 0s 2ms/step - loss: 0.8378\n",
            "Epoch 55/200\n",
            "7/7 [==============================] - 0s 3ms/step - loss: 0.8373\n",
            "Epoch 56/200\n",
            "7/7 [==============================] - 0s 2ms/step - loss: 0.8374\n",
            "Epoch 57/200\n",
            "7/7 [==============================] - 0s 2ms/step - loss: 0.8383\n",
            "Epoch 58/200\n",
            "7/7 [==============================] - 0s 2ms/step - loss: 0.8375\n",
            "Epoch 59/200\n",
            "7/7 [==============================] - 0s 2ms/step - loss: 0.8372\n",
            "Epoch 60/200\n",
            "7/7 [==============================] - 0s 2ms/step - loss: 0.8365\n",
            "Epoch 61/200\n",
            "7/7 [==============================] - 0s 2ms/step - loss: 0.8367\n",
            "Epoch 62/200\n",
            "7/7 [==============================] - 0s 2ms/step - loss: 0.8364\n",
            "Epoch 63/200\n",
            "7/7 [==============================] - 0s 2ms/step - loss: 0.8374\n",
            "Epoch 64/200\n",
            "7/7 [==============================] - 0s 2ms/step - loss: 0.8363\n",
            "Epoch 65/200\n",
            "7/7 [==============================] - 0s 2ms/step - loss: 0.8372\n",
            "Epoch 66/200\n",
            "7/7 [==============================] - 0s 2ms/step - loss: 0.8366\n",
            "Epoch 67/200\n",
            "7/7 [==============================] - 0s 2ms/step - loss: 0.8366\n",
            "Epoch 68/200\n",
            "7/7 [==============================] - 0s 2ms/step - loss: 0.8366\n",
            "Epoch 69/200\n",
            "7/7 [==============================] - 0s 2ms/step - loss: 0.8366\n",
            "Epoch 70/200\n",
            "7/7 [==============================] - 0s 2ms/step - loss: 0.8376\n",
            "Epoch 71/200\n",
            "7/7 [==============================] - 0s 2ms/step - loss: 0.8366\n",
            "Epoch 72/200\n",
            "7/7 [==============================] - 0s 2ms/step - loss: 0.8373\n",
            "Epoch 73/200\n",
            "7/7 [==============================] - 0s 2ms/step - loss: 0.8367\n",
            "Epoch 74/200\n",
            "7/7 [==============================] - 0s 2ms/step - loss: 0.8370\n",
            "Epoch 75/200\n",
            "7/7 [==============================] - 0s 2ms/step - loss: 0.8378\n",
            "Epoch 76/200\n",
            "7/7 [==============================] - 0s 2ms/step - loss: 0.8377\n",
            "Epoch 77/200\n",
            "7/7 [==============================] - 0s 3ms/step - loss: 0.8366\n",
            "Epoch 78/200\n",
            "7/7 [==============================] - 0s 2ms/step - loss: 0.8364\n",
            "Epoch 79/200\n",
            "7/7 [==============================] - 0s 2ms/step - loss: 0.8367\n",
            "Epoch 80/200\n",
            "7/7 [==============================] - 0s 2ms/step - loss: 0.8363\n",
            "Epoch 81/200\n",
            "7/7 [==============================] - 0s 2ms/step - loss: 0.8367\n",
            "Epoch 82/200\n",
            "7/7 [==============================] - 0s 2ms/step - loss: 0.8365\n",
            "Epoch 83/200\n",
            "7/7 [==============================] - 0s 2ms/step - loss: 0.8375\n",
            "Epoch 84/200\n",
            "7/7 [==============================] - 0s 3ms/step - loss: 0.8363\n",
            "Epoch 85/200\n",
            "7/7 [==============================] - 0s 2ms/step - loss: 0.8366\n",
            "Epoch 86/200\n",
            "7/7 [==============================] - 0s 2ms/step - loss: 0.8371\n",
            "Epoch 87/200\n",
            "7/7 [==============================] - 0s 2ms/step - loss: 0.8374\n",
            "Epoch 88/200\n",
            "7/7 [==============================] - 0s 2ms/step - loss: 0.8368\n",
            "Epoch 89/200\n",
            "7/7 [==============================] - 0s 2ms/step - loss: 0.8375\n",
            "Epoch 90/200\n",
            "7/7 [==============================] - 0s 2ms/step - loss: 0.8384\n",
            "Epoch 91/200\n",
            "7/7 [==============================] - 0s 2ms/step - loss: 0.8368\n",
            "Epoch 92/200\n",
            "7/7 [==============================] - 0s 2ms/step - loss: 0.8366\n",
            "Epoch 93/200\n",
            "7/7 [==============================] - 0s 2ms/step - loss: 0.8368\n",
            "Epoch 94/200\n",
            "7/7 [==============================] - 0s 2ms/step - loss: 0.8395\n",
            "Epoch 95/200\n",
            "7/7 [==============================] - 0s 2ms/step - loss: 0.8370\n",
            "Epoch 96/200\n",
            "7/7 [==============================] - 0s 2ms/step - loss: 0.8378\n",
            "Epoch 97/200\n",
            "7/7 [==============================] - 0s 2ms/step - loss: 0.8369\n",
            "Epoch 98/200\n",
            "7/7 [==============================] - 0s 2ms/step - loss: 0.8374\n",
            "Epoch 99/200\n",
            "7/7 [==============================] - 0s 2ms/step - loss: 0.8369\n",
            "Epoch 100/200\n",
            "7/7 [==============================] - 0s 2ms/step - loss: 0.8369\n",
            "Epoch 101/200\n",
            "7/7 [==============================] - 0s 2ms/step - loss: 0.8370\n",
            "Epoch 102/200\n",
            "7/7 [==============================] - 0s 2ms/step - loss: 0.8371\n",
            "Epoch 103/200\n",
            "7/7 [==============================] - 0s 2ms/step - loss: 0.8378\n",
            "Epoch 104/200\n",
            "7/7 [==============================] - 0s 2ms/step - loss: 0.8369\n",
            "Epoch 105/200\n",
            "7/7 [==============================] - 0s 2ms/step - loss: 0.8377\n",
            "Epoch 106/200\n",
            "7/7 [==============================] - 0s 2ms/step - loss: 0.8368\n",
            "Epoch 107/200\n",
            "7/7 [==============================] - 0s 2ms/step - loss: 0.8368\n",
            "Epoch 108/200\n",
            "7/7 [==============================] - 0s 2ms/step - loss: 0.8371\n",
            "Epoch 109/200\n",
            "7/7 [==============================] - 0s 2ms/step - loss: 0.8367\n",
            "Epoch 110/200\n",
            "7/7 [==============================] - 0s 2ms/step - loss: 0.8369\n",
            "Epoch 111/200\n",
            "7/7 [==============================] - 0s 2ms/step - loss: 0.8359\n",
            "Epoch 112/200\n",
            "7/7 [==============================] - 0s 2ms/step - loss: 0.8368\n",
            "Epoch 113/200\n",
            "7/7 [==============================] - 0s 2ms/step - loss: 0.8363\n",
            "Epoch 114/200\n",
            "7/7 [==============================] - 0s 2ms/step - loss: 0.8364\n",
            "Epoch 115/200\n",
            "7/7 [==============================] - 0s 2ms/step - loss: 0.8370\n",
            "Epoch 116/200\n",
            "7/7 [==============================] - 0s 2ms/step - loss: 0.8376\n",
            "Epoch 117/200\n",
            "7/7 [==============================] - 0s 2ms/step - loss: 0.8365\n",
            "Epoch 118/200\n",
            "7/7 [==============================] - 0s 2ms/step - loss: 0.8377\n",
            "Epoch 119/200\n",
            "7/7 [==============================] - 0s 2ms/step - loss: 0.8369\n",
            "Epoch 120/200\n",
            "7/7 [==============================] - 0s 2ms/step - loss: 0.8371\n",
            "Epoch 121/200\n",
            "7/7 [==============================] - 0s 2ms/step - loss: 0.8367\n",
            "Epoch 122/200\n",
            "7/7 [==============================] - 0s 2ms/step - loss: 0.8371\n",
            "Epoch 123/200\n",
            "7/7 [==============================] - 0s 2ms/step - loss: 0.8371\n",
            "Epoch 124/200\n",
            "7/7 [==============================] - 0s 2ms/step - loss: 0.8364\n",
            "Epoch 125/200\n",
            "7/7 [==============================] - 0s 2ms/step - loss: 0.8371\n",
            "Epoch 126/200\n",
            "7/7 [==============================] - 0s 2ms/step - loss: 0.8364\n",
            "Epoch 127/200\n",
            "7/7 [==============================] - 0s 2ms/step - loss: 0.8376\n",
            "Epoch 128/200\n",
            "7/7 [==============================] - 0s 2ms/step - loss: 0.8370\n",
            "Epoch 129/200\n",
            "7/7 [==============================] - 0s 2ms/step - loss: 0.8380\n",
            "Epoch 130/200\n",
            "7/7 [==============================] - 0s 2ms/step - loss: 0.8375\n",
            "Epoch 131/200\n",
            "7/7 [==============================] - 0s 2ms/step - loss: 0.8370\n",
            "Epoch 132/200\n",
            "7/7 [==============================] - 0s 2ms/step - loss: 0.8366\n",
            "Epoch 133/200\n",
            "7/7 [==============================] - 0s 2ms/step - loss: 0.8367\n",
            "Epoch 134/200\n",
            "7/7 [==============================] - 0s 2ms/step - loss: 0.8384\n",
            "Epoch 135/200\n",
            "7/7 [==============================] - 0s 2ms/step - loss: 0.8384\n",
            "Epoch 136/200\n",
            "7/7 [==============================] - 0s 2ms/step - loss: 0.8382\n",
            "Epoch 137/200\n",
            "7/7 [==============================] - 0s 2ms/step - loss: 0.8379\n",
            "Epoch 138/200\n",
            "7/7 [==============================] - 0s 2ms/step - loss: 0.8381\n",
            "Epoch 139/200\n",
            "7/7 [==============================] - 0s 2ms/step - loss: 0.8382\n",
            "Epoch 140/200\n",
            "7/7 [==============================] - 0s 2ms/step - loss: 0.8380\n",
            "Epoch 141/200\n",
            "7/7 [==============================] - 0s 2ms/step - loss: 0.8374\n",
            "Epoch 142/200\n",
            "7/7 [==============================] - 0s 2ms/step - loss: 0.8369\n",
            "Epoch 143/200\n",
            "7/7 [==============================] - 0s 2ms/step - loss: 0.8367\n",
            "Epoch 144/200\n",
            "7/7 [==============================] - 0s 2ms/step - loss: 0.8372\n",
            "Epoch 145/200\n",
            "7/7 [==============================] - 0s 3ms/step - loss: 0.8364\n",
            "Epoch 146/200\n",
            "7/7 [==============================] - 0s 2ms/step - loss: 0.8364\n",
            "Epoch 147/200\n",
            "7/7 [==============================] - 0s 2ms/step - loss: 0.8378\n",
            "Epoch 148/200\n",
            "7/7 [==============================] - 0s 2ms/step - loss: 0.8381\n",
            "Epoch 149/200\n",
            "7/7 [==============================] - 0s 2ms/step - loss: 0.8376\n",
            "Epoch 150/200\n",
            "7/7 [==============================] - 0s 2ms/step - loss: 0.8373\n",
            "Epoch 151/200\n",
            "7/7 [==============================] - 0s 2ms/step - loss: 0.8366\n",
            "Epoch 152/200\n",
            "7/7 [==============================] - 0s 2ms/step - loss: 0.8363\n",
            "Epoch 153/200\n",
            "7/7 [==============================] - 0s 2ms/step - loss: 0.8366\n",
            "Epoch 154/200\n",
            "7/7 [==============================] - 0s 2ms/step - loss: 0.8384\n",
            "Epoch 155/200\n",
            "7/7 [==============================] - 0s 2ms/step - loss: 0.8370\n",
            "Epoch 156/200\n",
            "7/7 [==============================] - 0s 2ms/step - loss: 0.8367\n",
            "Epoch 157/200\n",
            "7/7 [==============================] - 0s 2ms/step - loss: 0.8379\n",
            "Epoch 158/200\n",
            "7/7 [==============================] - 0s 2ms/step - loss: 0.8370\n",
            "Epoch 159/200\n",
            "7/7 [==============================] - 0s 2ms/step - loss: 0.8374\n",
            "Epoch 160/200\n",
            "7/7 [==============================] - 0s 2ms/step - loss: 0.8379\n",
            "Epoch 161/200\n",
            "7/7 [==============================] - 0s 2ms/step - loss: 0.8378\n",
            "Epoch 162/200\n",
            "7/7 [==============================] - 0s 2ms/step - loss: 0.8367\n",
            "Epoch 163/200\n",
            "7/7 [==============================] - 0s 3ms/step - loss: 0.8363\n",
            "Epoch 164/200\n",
            "7/7 [==============================] - 0s 2ms/step - loss: 0.8362\n",
            "Epoch 165/200\n",
            "7/7 [==============================] - 0s 2ms/step - loss: 0.8371\n",
            "Epoch 166/200\n",
            "7/7 [==============================] - 0s 2ms/step - loss: 0.8370\n",
            "Epoch 167/200\n",
            "7/7 [==============================] - 0s 2ms/step - loss: 0.8363\n",
            "Epoch 168/200\n",
            "7/7 [==============================] - 0s 2ms/step - loss: 0.8369\n",
            "Epoch 169/200\n",
            "7/7 [==============================] - 0s 2ms/step - loss: 0.8391\n",
            "Epoch 170/200\n",
            "7/7 [==============================] - 0s 2ms/step - loss: 0.8368\n",
            "Epoch 171/200\n",
            "7/7 [==============================] - 0s 2ms/step - loss: 0.8366\n",
            "Epoch 172/200\n",
            "7/7 [==============================] - 0s 2ms/step - loss: 0.8374\n",
            "Epoch 173/200\n",
            "7/7 [==============================] - 0s 2ms/step - loss: 0.8366\n",
            "Epoch 174/200\n",
            "7/7 [==============================] - 0s 2ms/step - loss: 0.8372\n",
            "Epoch 175/200\n",
            "7/7 [==============================] - 0s 2ms/step - loss: 0.8365\n",
            "Epoch 176/200\n",
            "7/7 [==============================] - 0s 2ms/step - loss: 0.8365\n",
            "Epoch 177/200\n",
            "7/7 [==============================] - 0s 3ms/step - loss: 0.8364\n",
            "Epoch 178/200\n",
            "7/7 [==============================] - 0s 2ms/step - loss: 0.8366\n",
            "Epoch 179/200\n",
            "7/7 [==============================] - 0s 2ms/step - loss: 0.8368\n",
            "Epoch 180/200\n",
            "7/7 [==============================] - 0s 2ms/step - loss: 0.8371\n",
            "Epoch 181/200\n",
            "7/7 [==============================] - 0s 2ms/step - loss: 0.8369\n",
            "Epoch 182/200\n",
            "7/7 [==============================] - 0s 2ms/step - loss: 0.8374\n",
            "Epoch 183/200\n",
            "7/7 [==============================] - 0s 2ms/step - loss: 0.8365\n",
            "Epoch 184/200\n",
            "7/7 [==============================] - 0s 3ms/step - loss: 0.8374\n",
            "Epoch 185/200\n",
            "7/7 [==============================] - 0s 2ms/step - loss: 0.8365\n",
            "Epoch 186/200\n",
            "7/7 [==============================] - 0s 2ms/step - loss: 0.8367\n",
            "Epoch 187/200\n",
            "7/7 [==============================] - 0s 2ms/step - loss: 0.8364\n",
            "Epoch 188/200\n",
            "7/7 [==============================] - 0s 2ms/step - loss: 0.8371\n",
            "Epoch 189/200\n",
            "7/7 [==============================] - 0s 2ms/step - loss: 0.8359\n",
            "Epoch 190/200\n",
            "7/7 [==============================] - 0s 2ms/step - loss: 0.8362\n",
            "Epoch 191/200\n",
            "7/7 [==============================] - 0s 2ms/step - loss: 0.8371\n",
            "Epoch 192/200\n",
            "7/7 [==============================] - 0s 3ms/step - loss: 0.8365\n",
            "Epoch 193/200\n",
            "7/7 [==============================] - 0s 2ms/step - loss: 0.8366\n",
            "Epoch 194/200\n",
            "7/7 [==============================] - 0s 2ms/step - loss: 0.8370\n",
            "Epoch 195/200\n",
            "7/7 [==============================] - 0s 2ms/step - loss: 0.8377\n",
            "Epoch 196/200\n",
            "7/7 [==============================] - 0s 2ms/step - loss: 0.8378\n",
            "Epoch 197/200\n",
            "7/7 [==============================] - 0s 2ms/step - loss: 0.8373\n",
            "Epoch 198/200\n",
            "7/7 [==============================] - 0s 2ms/step - loss: 0.8378\n",
            "Epoch 199/200\n",
            "7/7 [==============================] - 0s 3ms/step - loss: 0.8379\n",
            "Epoch 200/200\n",
            "7/7 [==============================] - 0s 2ms/step - loss: 0.8388\n"
          ],
          "name": "stdout"
        },
        {
          "output_type": "execute_result",
          "data": {
            "text/plain": [
              "<tensorflow.python.keras.callbacks.History at 0x7f7b48b67f60>"
            ]
          },
          "metadata": {
            "tags": []
          },
          "execution_count": 178
        }
      ]
    },
    {
      "cell_type": "code",
      "metadata": {
        "id": "EaW23myoKrRE"
      },
      "source": [
        "x_test = np.arange(-2, 2, 0.1)\n",
        "y_test = model.predict(x_test)"
      ],
      "execution_count": 179,
      "outputs": []
    },
    {
      "cell_type": "code",
      "metadata": {
        "id": "XVtVtUewLSID",
        "outputId": "52b2b8d3-b20e-46d9-c535-0e1e8640f07c",
        "colab": {
          "base_uri": "https://localhost:8080/",
          "height": 300
        }
      },
      "source": [
        "plt.plot(x,y, 'o'), plt.plot(x_test, y_test)"
      ],
      "execution_count": 180,
      "outputs": [
        {
          "output_type": "execute_result",
          "data": {
            "text/plain": [
              "([<matplotlib.lines.Line2D at 0x7f7b4693f9e8>],\n",
              " [<matplotlib.lines.Line2D at 0x7f7b4693fac8>])"
            ]
          },
          "metadata": {
            "tags": []
          },
          "execution_count": 180
        },
        {
          "output_type": "display_data",
          "data": {
            "image/png": "[encoded data removed]",
            "text/plain": [
              "<Figure size 432x288 with 1 Axes>"
            ]
          },
          "metadata": {
            "tags": [],
            "needs_background": "light"
          }
        }
      ]
    },
    {
      "cell_type": "code",
      "metadata": {
        "id": "jW3WuvnaRpXK",
        "outputId": "01c0a6ca-93bc-4208-e2d4-2235cf5f51be",
        "colab": {
          "base_uri": "https://localhost:8080/",
          "height": 34
        }
      },
      "source": [
        "x = np.array([1,2])\n",
        "w = np.array([[1,3,5],[2,4,6,]])\n",
        "np.dot(x,w)"
      ],
      "execution_count": 159,
      "outputs": [
        {
          "output_type": "execute_result",
          "data": {
            "text/plain": [
              "array([ 5, 11, 17])"
            ]
          },
          "metadata": {
            "tags": []
          },
          "execution_count": 159
        }
      ]
    },
    {
      "cell_type": "code",
      "metadata": {
        "id": "6-urCFgqUszQ"
      },
      "source": [
        "np.dot?"
      ],
      "execution_count": 161,
      "outputs": []
    },
    {
      "cell_type": "code",
      "metadata": {
        "id": "B8WmPH2nUx6F",
        "outputId": "09432670-70f1-423d-a8af-91858266cd87",
        "colab": {
          "base_uri": "https://localhost:8080/",
          "height": 282
        }
      },
      "source": [
        "# step function 실습\n",
        "def step_function(x):\n",
        "  y = x > 0\n",
        "  return y.astype(np.int)\n",
        "\n",
        "x_3 = np.arange(-5.0, 0.5, 0.1)\n",
        "y_3 = step_function(x_3)\n",
        "plt.plot(x_3, y_3)\n",
        "plt.ylim(-0.1, 1.1)\n"
      ],
      "execution_count": 199,
      "outputs": [
        {
          "output_type": "execute_result",
          "data": {
            "text/plain": [
              "(-0.1, 1.1)"
            ]
          },
          "metadata": {
            "tags": []
          },
          "execution_count": 199
        },
        {
          "output_type": "display_data",
          "data": {
            "image/png": "[encoded data removed]",
            "text/plain": [
              "<Figure size 432x288 with 1 Axes>"
            ]
          },
          "metadata": {
            "tags": [],
            "needs_background": "light"
          }
        }
      ]
    },
    {
      "cell_type": "code",
      "metadata": {
        "id": "siM32ZYJ1gLp",
        "outputId": "52c3fbda-db91-4016-87af-2c8d0a19eb3a",
        "colab": {
          "base_uri": "https://localhost:8080/",
          "height": 282
        }
      },
      "source": [
        "# ReLU 함수\n",
        "def relu(x):\n",
        "  return np.maximum(0,x)\n",
        "\n",
        "x_7 = x_3\n",
        "y_7 = relu(x_7)\n",
        "plt.plot(x_7, y_7)"
      ],
      "execution_count": 205,
      "outputs": [
        {
          "output_type": "execute_result",
          "data": {
            "text/plain": [
              "[<matplotlib.lines.Line2D at 0x7f7b464e5cf8>]"
            ]
          },
          "metadata": {
            "tags": []
          },
          "execution_count": 205
        },
        {
          "output_type": "display_data",
          "data": {
            "image/png": "[encoded data removed]",
            "text/plain": [
              "<Figure size 432x288 with 1 Axes>"
            ]
          },
          "metadata": {
            "tags": [],
            "needs_background": "light"
          }
        }
      ]
    },
    {
      "cell_type": "code",
      "metadata": {
        "id": "-XvUCgHE24xa"
      },
      "source": [
        ""
      ],
      "execution_count": null,
      "outputs": []
    }
  ]
}