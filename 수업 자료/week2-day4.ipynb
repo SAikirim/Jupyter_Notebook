{
 "cells": [
  {
   "cell_type": "markdown",
   "metadata": {},
   "source": [
    "# 다중분류\n",
    "- OvR/OVA\n",
    "    - 0 vs all/{0}\n",
    "    - 1 vs all/{1}\n",
    "    - 2 vs all/{2}\n",
    "    \n",
    "- OvO : 각 Class 마다 2진 분류실행 N(N-1)/2 = n_C_2\n",
    "    - 5 vs 0\n",
    "    - 5 vs 1\n",
    "    - 5 vs 2\n",
    "    - ..."
   ]
  }
 ],
 "metadata": {
  "kernelspec": {
   "display_name": "Python 3",
   "language": "python",
   "name": "python3"
  },
  "language_info": {
   "codemirror_mode": {
    "name": "ipython",
    "version": 3
   },
   "file_extension": ".py",
   "mimetype": "text/x-python",
   "name": "python",
   "nbconvert_exporter": "python",
   "pygments_lexer": "ipython3",
   "version": "3.8.5"
  }
 },
 "nbformat": 4,
 "nbformat_minor": 4
}
