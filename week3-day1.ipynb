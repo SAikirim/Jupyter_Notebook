{
 "cells": [
  {
   "cell_type": "code",
   "execution_count": 2,
   "metadata": {},
   "outputs": [
    {
     "data": {
      "image/png": "[encoded data removed]",
      "text/plain": [
       "<Figure size 432x288 with 1 Axes>"
      ]
     },
     "metadata": {
      "needs_background": "light"
     },
     "output_type": "display_data"
    }
   ],
   "source": [
    "import tensorflow as tf\n",
    "import numpy as np\n",
    "import matplotlib.pyplot as plt\n",
    "np.random.seed(0)\n",
    "\n",
    "def make_random_data():\n",
    "    x = np.random.uniform(low=-2, high=2, size=200)\n",
    "    y = []\n",
    "    for t in x:\n",
    "        r = np.random.normal(loc=0.0, scale=(0.5 + t*t/3), size=None)\n",
    "        y.append(r)\n",
    "    return  x, 1.726*x -0.84 + np.array(y)\n",
    "\n",
    "\n",
    "x, y = make_random_data() \n",
    "\n",
    "plt.plot(x, y, 'o')\n",
    "plt.show()"
   ]
  },
  {
   "cell_type": "markdown",
   "metadata": {},
   "source": [
    "1. 데이터 분리 안해도됨\n",
    "2. Sequential\n",
    "3. layer???\n",
    "4. optimizer 'sgd'\n",
    "5. loss = 'mse"
   ]
  },
  {
   "cell_type": "code",
   "execution_count": 24,
   "metadata": {},
   "outputs": [],
   "source": [
    "model = tf.keras.Sequential()\n",
    "model.add(tf.keras.layers.Dense(1,input_shape=(1,)))"
   ]
  },
  {
   "cell_type": "code",
   "execution_count": 25,
   "metadata": {},
   "outputs": [
    {
     "name": "stdout",
     "output_type": "stream",
     "text": [
      "Model: \"sequential_4\"\n",
      "_________________________________________________________________\n",
      "Layer (type)                 Output Shape              Param #   \n",
      "=================================================================\n",
      "dense_4 (Dense)              (None, 1)                 2         \n",
      "=================================================================\n",
      "Total params: 2\n",
      "Trainable params: 2\n",
      "Non-trainable params: 0\n",
      "_________________________________________________________________\n"
     ]
    }
   ],
   "source": [
    "model.summary()"
   ]
  },
  {
   "cell_type": "code",
   "execution_count": 26,
   "metadata": {},
   "outputs": [],
   "source": [
    "model.compile(optimizer='sgd', loss='mse')"
   ]
  },
  {
   "cell_type": "code",
   "execution_count": 27,
   "metadata": {
    "scrolled": true
   },
   "outputs": [
    {
     "name": "stdout",
     "output_type": "stream",
     "text": [
      "Epoch 1/100\n",
      "1/7 [===>..........................] - ETA: 0s - loss: 1.7601WARNING:tensorflow:Callbacks method `on_train_batch_end` is slow compared to the batch time (batch time: 0.0000s vs `on_train_batch_end` time: 0.0010s). Check your callbacks.\n",
      "7/7 [==============================] - 0s 1ms/step - loss: 1.6788\n",
      "Epoch 2/100\n",
      "7/7 [==============================] - 0s 712us/step - loss: 1.4666\n",
      "Epoch 3/100\n",
      "7/7 [==============================] - 0s 928us/step - loss: 1.3122\n",
      "Epoch 4/100\n",
      "7/7 [==============================] - 0s 570us/step - loss: 1.1938\n",
      "Epoch 5/100\n",
      "7/7 [==============================] - 0s 1ms/step - loss: 1.1033\n",
      "Epoch 6/100\n",
      "7/7 [==============================] - 0s 855us/step - loss: 1.0345\n",
      "Epoch 7/100\n",
      "7/7 [==============================] - 0s 1ms/step - loss: 0.9846\n",
      "Epoch 8/100\n",
      "7/7 [==============================] - 0s 712us/step - loss: 0.9454\n",
      "Epoch 9/100\n",
      "7/7 [==============================] - 0s 1ms/step - loss: 0.9219\n",
      "Epoch 10/100\n",
      "7/7 [==============================] - 0s 712us/step - loss: 0.8996\n",
      "Epoch 11/100\n",
      "7/7 [==============================] - 0s 712us/step - loss: 0.8876\n",
      "Epoch 12/100\n",
      "7/7 [==============================] - 0s 855us/step - loss: 0.8755\n",
      "Epoch 13/100\n",
      "7/7 [==============================] - 0s 1ms/step - loss: 0.8667\n",
      "Epoch 14/100\n",
      "7/7 [==============================] - 0s 712us/step - loss: 0.8608\n",
      "Epoch 15/100\n",
      "7/7 [==============================] - 0s 786us/step - loss: 0.8552\n",
      "Epoch 16/100\n",
      "7/7 [==============================] - 0s 712us/step - loss: 0.8501\n",
      "Epoch 17/100\n",
      "7/7 [==============================] - 0s 855us/step - loss: 0.8498\n",
      "Epoch 18/100\n",
      "7/7 [==============================] - 0s 855us/step - loss: 0.8450\n",
      "Epoch 19/100\n",
      "7/7 [==============================] - 0s 855us/step - loss: 0.8435\n",
      "Epoch 20/100\n",
      "7/7 [==============================] - 0s 712us/step - loss: 0.8409\n",
      "Epoch 21/100\n",
      "7/7 [==============================] - 0s 712us/step - loss: 0.8418\n",
      "Epoch 22/100\n",
      "7/7 [==============================] - 0s 855us/step - loss: 0.8398\n",
      "Epoch 23/100\n",
      "7/7 [==============================] - 0s 712us/step - loss: 0.8387\n",
      "Epoch 24/100\n",
      "7/7 [==============================] - 0s 855us/step - loss: 0.8394\n",
      "Epoch 25/100\n",
      "7/7 [==============================] - 0s 570us/step - loss: 0.8380\n",
      "Epoch 26/100\n",
      "7/7 [==============================] - 0s 855us/step - loss: 0.8385\n",
      "Epoch 27/100\n",
      "7/7 [==============================] - 0s 855us/step - loss: 0.8383\n",
      "Epoch 28/100\n",
      "7/7 [==============================] - 0s 855us/step - loss: 0.8377\n",
      "Epoch 29/100\n",
      "7/7 [==============================] - 0s 712us/step - loss: 0.8368\n",
      "Epoch 30/100\n",
      "7/7 [==============================] - 0s 855us/step - loss: 0.8377\n",
      "Epoch 31/100\n",
      "7/7 [==============================] - 0s 855us/step - loss: 0.8371\n",
      "Epoch 32/100\n",
      "7/7 [==============================] - 0s 855us/step - loss: 0.8360\n",
      "Epoch 33/100\n",
      "7/7 [==============================] - 0s 712us/step - loss: 0.8373\n",
      "Epoch 34/100\n",
      "7/7 [==============================] - 0s 855us/step - loss: 0.8363\n",
      "Epoch 35/100\n",
      "7/7 [==============================] - 0s 712us/step - loss: 0.8368\n",
      "Epoch 36/100\n",
      "7/7 [==============================] - 0s 855us/step - loss: 0.8368\n",
      "Epoch 37/100\n",
      "7/7 [==============================] - 0s 712us/step - loss: 0.8366\n",
      "Epoch 38/100\n",
      "7/7 [==============================] - 0s 855us/step - loss: 0.8374\n",
      "Epoch 39/100\n",
      "7/7 [==============================] - 0s 855us/step - loss: 0.8388\n",
      "Epoch 40/100\n",
      "7/7 [==============================] - 0s 855us/step - loss: 0.8374\n",
      "Epoch 41/100\n",
      "7/7 [==============================] - 0s 797us/step - loss: 0.8373\n",
      "Epoch 42/100\n",
      "7/7 [==============================] - 0s 712us/step - loss: 0.8378\n",
      "Epoch 43/100\n",
      "7/7 [==============================] - 0s 855us/step - loss: 0.8369\n",
      "Epoch 44/100\n",
      "7/7 [==============================] - 0s 855us/step - loss: 0.8375\n",
      "Epoch 45/100\n",
      "7/7 [==============================] - 0s 855us/step - loss: 0.8372\n",
      "Epoch 46/100\n",
      "7/7 [==============================] - 0s 855us/step - loss: 0.8366\n",
      "Epoch 47/100\n",
      "7/7 [==============================] - 0s 855us/step - loss: 0.8366\n",
      "Epoch 48/100\n",
      "7/7 [==============================] - 0s 855us/step - loss: 0.8377\n",
      "Epoch 49/100\n",
      "7/7 [==============================] - 0s 855us/step - loss: 0.8366\n",
      "Epoch 50/100\n",
      "7/7 [==============================] - 0s 855us/step - loss: 0.8364\n",
      "Epoch 51/100\n",
      "7/7 [==============================] - 0s 855us/step - loss: 0.8367\n",
      "Epoch 52/100\n",
      "7/7 [==============================] - 0s 712us/step - loss: 0.8379\n",
      "Epoch 53/100\n",
      "7/7 [==============================] - 0s 855us/step - loss: 0.8374\n",
      "Epoch 54/100\n",
      "7/7 [==============================] - 0s 855us/step - loss: 0.8381\n",
      "Epoch 55/100\n",
      "7/7 [==============================] - 0s 712us/step - loss: 0.8375\n",
      "Epoch 56/100\n",
      "7/7 [==============================] - 0s 855us/step - loss: 0.8368\n",
      "Epoch 57/100\n",
      "7/7 [==============================] - 0s 855us/step - loss: 0.8362\n",
      "Epoch 58/100\n",
      "7/7 [==============================] - 0s 855us/step - loss: 0.8388\n",
      "Epoch 59/100\n",
      "7/7 [==============================] - 0s 712us/step - loss: 0.8377\n",
      "Epoch 60/100\n",
      "7/7 [==============================] - 0s 712us/step - loss: 0.8373\n",
      "Epoch 61/100\n",
      "7/7 [==============================] - 0s 712us/step - loss: 0.8374\n",
      "Epoch 62/100\n",
      "7/7 [==============================] - 0s 997us/step - loss: 0.8367\n",
      "Epoch 63/100\n",
      "7/7 [==============================] - 0s 712us/step - loss: 0.8377\n",
      "Epoch 64/100\n",
      "7/7 [==============================] - 0s 855us/step - loss: 0.8371\n",
      "Epoch 65/100\n",
      "7/7 [==============================] - 0s 570us/step - loss: 0.8367\n",
      "Epoch 66/100\n",
      "7/7 [==============================] - 0s 997us/step - loss: 0.8371\n",
      "Epoch 67/100\n",
      "7/7 [==============================] - 0s 712us/step - loss: 0.8363\n",
      "Epoch 68/100\n",
      "7/7 [==============================] - 0s 855us/step - loss: 0.8375\n",
      "Epoch 69/100\n",
      "7/7 [==============================] - 0s 855us/step - loss: 0.8371\n",
      "Epoch 70/100\n",
      "7/7 [==============================] - 0s 855us/step - loss: 0.8374\n",
      "Epoch 71/100\n",
      "7/7 [==============================] - 0s 855us/step - loss: 0.8390\n",
      "Epoch 72/100\n",
      "7/7 [==============================] - 0s 855us/step - loss: 0.8385\n",
      "Epoch 73/100\n",
      "7/7 [==============================] - 0s 712us/step - loss: 0.8376\n",
      "Epoch 74/100\n",
      "7/7 [==============================] - 0s 712us/step - loss: 0.8369\n",
      "Epoch 75/100\n",
      "7/7 [==============================] - 0s 855us/step - loss: 0.8373\n",
      "Epoch 76/100\n",
      "7/7 [==============================] - 0s 712us/step - loss: 0.8379\n",
      "Epoch 77/100\n",
      "7/7 [==============================] - 0s 712us/step - loss: 0.8367\n",
      "Epoch 78/100\n",
      "7/7 [==============================] - 0s 713us/step - loss: 0.8377\n",
      "Epoch 79/100\n",
      "7/7 [==============================] - 0s 1ms/step - loss: 0.8378\n",
      "Epoch 80/100\n",
      "7/7 [==============================] - 0s 855us/step - loss: 0.8371\n",
      "Epoch 81/100\n",
      "7/7 [==============================] - 0s 855us/step - loss: 0.8378\n",
      "Epoch 82/100\n",
      "7/7 [==============================] - 0s 712us/step - loss: 0.8368\n",
      "Epoch 83/100\n",
      "7/7 [==============================] - 0s 855us/step - loss: 0.8361\n",
      "Epoch 84/100\n",
      "7/7 [==============================] - 0s 712us/step - loss: 0.8363\n",
      "Epoch 85/100\n",
      "7/7 [==============================] - 0s 998us/step - loss: 0.8365\n",
      "Epoch 86/100\n",
      "7/7 [==============================] - 0s 712us/step - loss: 0.8376\n",
      "Epoch 87/100\n",
      "7/7 [==============================] - 0s 997us/step - loss: 0.8366\n",
      "Epoch 88/100\n",
      "7/7 [==============================] - 0s 712us/step - loss: 0.8372\n",
      "Epoch 89/100\n",
      "7/7 [==============================] - 0s 855us/step - loss: 0.8384\n",
      "Epoch 90/100\n",
      "7/7 [==============================] - 0s 712us/step - loss: 0.8390\n",
      "Epoch 91/100\n",
      "7/7 [==============================] - 0s 712us/step - loss: 0.8367\n",
      "Epoch 92/100\n",
      "7/7 [==============================] - 0s 928us/step - loss: 0.8367\n",
      "Epoch 93/100\n",
      "7/7 [==============================] - 0s 997us/step - loss: 0.8385\n",
      "Epoch 94/100\n",
      "7/7 [==============================] - 0s 712us/step - loss: 0.8360\n",
      "Epoch 95/100\n",
      "7/7 [==============================] - 0s 855us/step - loss: 0.8369\n",
      "Epoch 96/100\n",
      "7/7 [==============================] - 0s 855us/step - loss: 0.8365\n",
      "Epoch 97/100\n",
      "7/7 [==============================] - 0s 712us/step - loss: 0.8366\n",
      "Epoch 98/100\n",
      "7/7 [==============================] - 0s 855us/step - loss: 0.8389\n",
      "Epoch 99/100\n",
      "7/7 [==============================] - 0s 570us/step - loss: 0.8368\n",
      "Epoch 100/100\n",
      "7/7 [==============================] - 0s 997us/step - loss: 0.8365\n"
     ]
    },
    {
     "data": {
      "text/plain": [
       "<tensorflow.python.keras.callbacks.History at 0x2af3b303cd0>"
      ]
     },
     "execution_count": 27,
     "metadata": {},
     "output_type": "execute_result"
    }
   ],
   "source": [
    "model.fit(x,y, epochs=100)"
   ]
  },
  {
   "cell_type": "code",
   "execution_count": 17,
   "metadata": {},
   "outputs": [],
   "source": [
    "x_test = np.arange(-2, 2, 0.1)\n",
    "y_test = model.predict(x_test)"
   ]
  },
  {
   "cell_type": "code",
   "execution_count": 18,
   "metadata": {},
   "outputs": [
    {
     "data": {
      "text/plain": [
       "[<matplotlib.lines.Line2D at 0x2af39e69670>]"
      ]
     },
     "execution_count": 18,
     "metadata": {},
     "output_type": "execute_result"
    },
    {
     "data": {
      "image/png": "[encoded data removed]",
      "text/plain": [
       "<Figure size 432x288 with 1 Axes>"
      ]
     },
     "metadata": {
      "needs_background": "light"
     },
     "output_type": "display_data"
    }
   ],
   "source": [
    "plt.plot(x, y,'o')\n",
    "plt.plot(x_test, y_test)"
   ]
  },
  {
   "cell_type": "code",
   "execution_count": null,
   "metadata": {},
   "outputs": [],
   "source": []
  },
  {
   "cell_type": "code",
   "execution_count": null,
   "metadata": {},
   "outputs": [],
   "source": []
  }
 ],
 "metadata": {
  "kernelspec": {
   "display_name": "Python 3",
   "language": "python",
   "name": "python3"
  },
  "language_info": {
   "codemirror_mode": {
    "name": "ipython",
    "version": 3
   },
   "file_extension": ".py",
   "mimetype": "text/x-python",
   "name": "python",
   "nbconvert_exporter": "python",
   "pygments_lexer": "ipython3",
   "version": "3.8.3"
  }
 },
 "nbformat": 4,
 "nbformat_minor": 4
}
