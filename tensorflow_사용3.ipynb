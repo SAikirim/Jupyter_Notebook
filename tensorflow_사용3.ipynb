{
  "nbformat": 4,
  "nbformat_minor": 0,
  "metadata": {
    "colab": {
      "name": "tensorflow 사용3",
      "provenance": [],
      "collapsed_sections": []
    },
    "kernelspec": {
      "name": "python3",
      "display_name": "Python 3"
    },
    "accelerator": "GPU"
  },
  "cells": [
    {
      "cell_type": "code",
      "metadata": {
        "id": "lB3dxE9fs9fn",
        "outputId": "3ba8d9c3-085f-4d2a-eb57-45c1df5adba0",
        "colab": {
          "base_uri": "https://localhost:8080/",
          "height": 34
        }
      },
      "source": [
        "import tensorflow as tf\n",
        "from tensorflow import keras\n",
        "import numpy as np\n",
        "import random\n",
        "import matplotlib.pyplot as plt\n",
        "\n",
        "tf.config.list_physical_devices('GPU')"
      ],
      "execution_count": 6,
      "outputs": [
        {
          "output_type": "execute_result",
          "data": {
            "text/plain": [
              "[PhysicalDevice(name='/physical_device:GPU:0', device_type='GPU')]"
            ]
          },
          "metadata": {
            "tags": []
          },
          "execution_count": 6
        }
      ]
    },
    {
      "cell_type": "code",
      "metadata": {
        "id": "ZXactmxltDOy"
      },
      "source": [
        "data = [\n",
        "    [0.72,0.82,-1],\n",
        "    [0.91,-0.69,-1],\n",
        "    [0.03,0.93,-1],\n",
        "    [0.12,0.25,-1],\n",
        "    [0.96,0.47,-1],\n",
        "    [0.8,-0.75,-1],\n",
        "    [0.46,0.98,-1],\n",
        "    [0.66,0.24,-1],\n",
        "    [0.72,-0.15,-1],\n",
        "    [0.35,0.01,-1],\n",
        "    [-0.11,0.1,1],\n",
        "    [0.31,-0.96,1],\n",
        "    [0.0,-0.26,1],\n",
        "    [-0.43,-0.65,1],\n",
        "    [0.57,-0.97,1],\n",
        "    [-0.72,-0.64,1],\n",
        "    [-0.25,-0.43,1],\n",
        "    [-0.12,-0.9,1],\n",
        "    [-0.58,0.62,1],\n",
        "    [-0.77,-0.76,1]\n",
        "]"
      ],
      "execution_count": 7,
      "outputs": []
    },
    {
      "cell_type": "code",
      "metadata": {
        "id": "af2xi_nit3mX"
      },
      "source": [
        "# x,y 나누기\n",
        "# y_dat = np.array(data)\n",
        "array_data = np.array(data)\n",
        "X_train = array_data[:-4,[0,1]]\n",
        "X_test = array_data[-4:,[0,1]]\n",
        "y_train = array_data[:-4,[2]]\n",
        "y_test = array_data[-4:,[2]]"
      ],
      "execution_count": 8,
      "outputs": []
    },
    {
      "cell_type": "code",
      "metadata": {
        "id": "Kh4Nk9tz3jpQ"
      },
      "source": [
        "# y의 -1를 0으로 변경\n",
        "#\n",
        "# from sklearn.preprocessing import MinMaxScaler\n",
        "# scaler = MinMaxScaler()\n",
        "# scaler.fit(y_data)\n",
        "# y_data = scaler.transform(y_data)\n",
        "\n",
        "y_train[y_train == -1] = 0\n",
        "y_test[y_test == -1] = 0"
      ],
      "execution_count": 9,
      "outputs": []
    },
    {
      "cell_type": "code",
      "metadata": {
        "id": "KLf-y3rptJaI",
        "outputId": "b28f5ff1-a7ff-49a1-f132-406cd2f8e8a5",
        "colab": {
          "base_uri": "https://localhost:8080/",
          "height": 34
        }
      },
      "source": [
        "X_train.shape"
      ],
      "execution_count": 10,
      "outputs": [
        {
          "output_type": "execute_result",
          "data": {
            "text/plain": [
              "((16, 2), array([0.72, 0.82]))"
            ]
          },
          "metadata": {
            "tags": []
          },
          "execution_count": 10
        }
      ]
    },
    {
      "cell_type": "code",
      "metadata": {
        "id": "WHYP5gp3tbUP"
      },
      "source": [
        "model = tf.keras.Sequential()\n",
        "model.add(tf.keras.layers.Dense(2, activation='tanh', input_shape=(2,)))\n",
        "#model.add(tf.keras.layers.Dense(8, activation='elu'))\n",
        "#model.add(tf.keras.layers.Dense(4, activation='tanh'))\n",
        "model.add(tf.keras.layers.Dense(1, activation='sigmoid'))\n",
        "# 첫번째 인자 : 출력 뉴런 수\n",
        "# 선이 하나라 하나의 계층만 사용해도 된다."
      ],
      "execution_count": 13,
      "outputs": []
    },
    {
      "cell_type": "code",
      "metadata": {
        "id": "OO19X-P6tggo",
        "outputId": "d7ee6329-6cd8-4969-d39f-3a9db07ca101",
        "colab": {
          "base_uri": "https://localhost:8080/",
          "height": 228
        }
      },
      "source": [
        "model.summary()"
      ],
      "execution_count": null,
      "outputs": [
        {
          "output_type": "stream",
          "text": [
            "Model: \"sequential_2\"\n",
            "_________________________________________________________________\n",
            "Layer (type)                 Output Shape              Param #   \n",
            "=================================================================\n",
            "dense_4 (Dense)              (None, 2)                 6         \n",
            "_________________________________________________________________\n",
            "dense_5 (Dense)              (None, 1)                 3         \n",
            "=================================================================\n",
            "Total params: 9\n",
            "Trainable params: 9\n",
            "Non-trainable params: 0\n",
            "_________________________________________________________________\n"
          ],
          "name": "stdout"
        }
      ]
    },
    {
      "cell_type": "code",
      "metadata": {
        "id": "vAKnMxEytet8"
      },
      "source": [
        "optimizer= keras.optimizers.SGD(lr=0.1)  # adam\n",
        "model.compile(optimizer=optimizer, loss='binary_crossentropy', metrics=['accuracy'])"
      ],
      "execution_count": null,
      "outputs": []
    },
    {
      "cell_type": "code",
      "metadata": {
        "id": "V4Xvj1N3tmZW"
      },
      "source": [
        "model.fit(X_train, y_train, batch_size=4, epochs=200, validation_split=0.1)\n",
        "# batch_size 사용이유 : 메모리를 효율적으로 사용하기 위해(배치 사이즈가 너무 많으면 메모리 부족!)"
      ],
      "execution_count": null,
      "outputs": []
    },
    {
      "cell_type": "code",
      "metadata": {
        "id": "8kuKfREFtmj5",
        "outputId": "ac4623c0-0b85-44c6-fbe7-fa6d80bf64da",
        "colab": {
          "base_uri": "https://localhost:8080/",
          "height": 87
        }
      },
      "source": [
        "# 예측\n",
        "model.predict(X_test)"
      ],
      "execution_count": null,
      "outputs": [
        {
          "output_type": "execute_result",
          "data": {
            "text/plain": [
              "array([[0.99276733],\n",
              "       [0.9945009 ],\n",
              "       [0.978091  ],\n",
              "       [0.9961611 ]], dtype=float32)"
            ]
          },
          "metadata": {
            "tags": []
          },
          "execution_count": 24
        }
      ]
    },
    {
      "cell_type": "code",
      "metadata": {
        "id": "_r9BD7ZIxTK_",
        "outputId": "2c50817d-2ee3-4513-89a3-0e236f9b9c12",
        "colab": {
          "base_uri": "https://localhost:8080/",
          "height": 52
        }
      },
      "source": [
        "# 모델 평가\n",
        "model.evaluate(X_test, y_test)"
      ],
      "execution_count": 27,
      "outputs": [
        {
          "output_type": "stream",
          "text": [
            "1/1 [==============================] - 0s 2ms/step - loss: 0.0097 - accuracy: 1.0000\n"
          ],
          "name": "stdout"
        },
        {
          "output_type": "execute_result",
          "data": {
            "text/plain": [
              "[0.009693010710179806, 1.0]"
            ]
          },
          "metadata": {
            "tags": []
          },
          "execution_count": 27
        }
      ]
    },
    {
      "cell_type": "code",
      "metadata": {
        "id": "gUKwMtnwtrrd",
        "outputId": "56020f21-2d33-495f-b4c6-3c8488bb488f",
        "colab": {
          "base_uri": "https://localhost:8080/",
          "height": 158
        }
      },
      "source": [
        "# 예측\n",
        "for i in range(len(X_test)):\n",
        "  print(\"predict:\",np.round(model.predict(X_test[[i]])))\n",
        "  print(\"real:\",y_test[i])"
      ],
      "execution_count": null,
      "outputs": [
        {
          "output_type": "stream",
          "text": [
            "predict: [[1.]]\n",
            "real: [1.]\n",
            "predict: [[1.]]\n",
            "real: [1.]\n",
            "predict: [[1.]]\n",
            "real: [1.]\n",
            "predict: [[1.]]\n",
            "real: [1.]\n"
          ],
          "name": "stdout"
        }
      ]
    },
    {
      "cell_type": "code",
      "metadata": {
        "id": "k0eciPiM4rFl"
      },
      "source": [
        "for i in range(len(X_train)):\n",
        "  print(\"predict:\",np.round(model.predict(X_train[[i]])))\n",
        "  print(\"real:\",y_train[i])"
      ],
      "execution_count": null,
      "outputs": []
    },
    {
      "cell_type": "code",
      "metadata": {
        "id": "ZaRxolF6_2jZ"
      },
      "source": [
        "# 그래프\n",
        "fore = np.round(model.predict(X_train))\n",
        "# fore = scaler.invers(fore)\n",
        "fore[fore == 0] = -1"
      ],
      "execution_count": null,
      "outputs": []
    },
    {
      "cell_type": "code",
      "metadata": {
        "id": "8QAj0bEX5L_O"
      },
      "source": [
        "weig = model.layers[0].get_weights()[0]\n",
        "bias = model.layers[0].get_weights()[1]"
      ],
      "execution_count": null,
      "outputs": []
    },
    {
      "cell_type": "code",
      "metadata": {
        "id": "U6FtiXdLYSBi",
        "outputId": "7e62e032-f562-4d53-e5ea-6b95595bbf9d",
        "colab": {
          "base_uri": "https://localhost:8080/",
          "height": 52
        }
      },
      "source": [
        "weig"
      ],
      "execution_count": null,
      "outputs": [
        {
          "output_type": "execute_result",
          "data": {
            "text/plain": [
              "array([[2.3611696, 2.4546876],\n",
              "       [1.6018839, 1.593173 ]], dtype=float32)"
            ]
          },
          "metadata": {
            "tags": []
          },
          "execution_count": 57
        }
      ]
    },
    {
      "cell_type": "code",
      "metadata": {
        "id": "Xc5Cl4BKYUqu",
        "outputId": "fea730d1-9c3f-478f-f84d-7968551fa3c6",
        "colab": {
          "base_uri": "https://localhost:8080/",
          "height": 34
        }
      },
      "source": [
        "bias"
      ],
      "execution_count": null,
      "outputs": [
        {
          "output_type": "execute_result",
          "data": {
            "text/plain": [
              "array([-0.2755546 , -0.31637135], dtype=float32)"
            ]
          },
          "metadata": {
            "tags": []
          },
          "execution_count": 43
        }
      ]
    },
    {
      "cell_type": "code",
      "metadata": {
        "id": "zDvo6Z3zBh_j",
        "outputId": "d6f7e05b-8db7-4a19-f0fb-e63653564fd6",
        "colab": {
          "base_uri": "https://localhost:8080/",
          "height": 300
        }
      },
      "source": [
        "plt.scatter(X_train[:,0], X_train[:,1], c=y_train)\n",
        "a = - weig[0]/weig[1]\n",
        "b = - bias[0]/weig[1]\n",
        "x = np.linspace(np.amin(X_train[:,:1]), np.amax(X_train[:,:1]))\n",
        "\n",
        "plt.plot(x, [a*i + b for i in x])"
      ],
      "execution_count": null,
      "outputs": [
        {
          "output_type": "execute_result",
          "data": {
            "text/plain": [
              "[<matplotlib.lines.Line2D at 0x7f34249fdcc0>,\n",
              " <matplotlib.lines.Line2D at 0x7f34249fddd8>]"
            ]
          },
          "metadata": {
            "tags": []
          },
          "execution_count": 52
        },
        {
          "output_type": "display_data",
          "data": {
            "image/png": "[encoded data removed]",
            "text/plain": [
              "<Figure size 432x288 with 1 Axes>"
            ]
          },
          "metadata": {
            "tags": [],
            "needs_background": "light"
          }
        }
      ]
    }
  ]
}