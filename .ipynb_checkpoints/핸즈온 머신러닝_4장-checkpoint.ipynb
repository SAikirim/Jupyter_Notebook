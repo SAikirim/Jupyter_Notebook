{
 "cells": [
  {
   "cell_type": "markdown",
   "metadata": {},
   "source": [
    "# CHAPTER 4 모델 훈련\n",
    "* Data -> 변수 1개, x -> y\n",
    "* 연속형 데이터\n",
    "    - 값을 예측\n",
    "\n",
    "* 분류형(범주) 데이터\n",
    "    - class를 분류\n",
    "\n",
    "## 선형회귀 모델\n",
    "* 선에서 벗어난 오차를 '입십론($\\epsilon$)'이라 부름\n",
    "    - f(Xn) + 입실론 = Yn\n",
    "    - 에측            실제값\n",
    "* 각각의 '입실론'을 최소화시키는게 선형 회귀 모델임\n",
    "    - $ f(X) = \\beta0 + \\beta1X + \\epsilon(범위) $\n",
    "        + predict=$\\beta0+\\beta1X$\n",
    "    - 오차 : 우리가 인정할 수 있어야 한다.\n",
    "        + \\epsilon_i$의 분포가 정규분포 안쪽 -> 인정 가능\n",
    "    - 정규 분포는 : E(입실론i) = 0\n",
    "    \n",
    "### Cost function\n",
    "* $\\displaystyle \\sum_{i=1}^n (Y_i-\\widehat{Y_i})^2$\n",
    "* Cost function이 최소화 되는 값을 찾는게 목표!\n",
    "* root 금지 - 미분이 어렵게 됨\n",
    "* 거리의 방향을 제거한\n",
    "* 예)\n",
    "    - 범위 : 1 ~ 6\n",
    "    - predict function : 2\n",
    "    - cost : (1-2)^2 + (6-1)^2 = 17\n",
    "    - predict function : 3\n",
    "    - cost : (1-3)^2 + (6-3)^2 = 13\n",
    "    - predict function : 4\n",
    "    - cost : (1-4)^2 + (6-4)^2 = 13\n",
    "    - 그래프는 곡선($\\cup$)일 것이다.\n",
    "        + 그래프의 최하단이 cost값을 최소화 한다.\n",
    "        \n",
    "* $f(\\beta_{0},\\beta_{1})$\n",
    "    + 변수 $\\beta_{0}, \\beta_{1}$\n",
    "\n",
    "* $\\beta$가 2개면 그래프가 입체적으로 변함 곡선뿔(아래로 볼록?)같은 형태\n",
    "\n",
    "### 미분\n",
    "* 기울기 0을 찾을 때 사용 가능\n",
    "    - __기울기가 0이 cost값이 최소__\n",
    "    \n",
    "* $\\beta$가 1개\n",
    "    - 그냥 '미분'함\n",
    "    - $\\beta_0$에 대해 미분\n",
    "\n",
    "* $\\beta$가 2개\n",
    "    - 다변량 '미분'함\n",
    "    - $\\beta_{0}, ..., \\beta_{1}$에 대해 미분\n",
    "\n",
    "#### 미분\n",
    "* __접하는 선(line)의 기울기__\n",
    "    - 순간 속력(순간 변화량)\n",
    "* 이동거리 : 2km -> 3시간\n",
    "* 평균속력 : 2/3 -> km/시간\n",
    "    - 평균속력 : 거리의 변화량 / 시간의 변화량 = __기울기__\n",
    "\n",
    "$\\displaystyle \\lim_{\\vartriangle t \\to 0}  {f(t) - f(t+\\vartriangle t) \\over \\vartriangle{t}}$ : 순간 속력\n",
    "\n",
    "* __기울기 = 0 => 미분 = 0__\n",
    "\n",
    "## Cost function의 미분\n",
    "### 1) $\\beta$가 1개\n",
    "* $cost'(\\beta_{0})$, ${d \\over d\\beta_{0}} cost(\\beta_{0})$\n",
    "* ${d \\over d\\beta_{0}} cost(\\beta_{0})$ = $0 -2Y_i +2\\beta_0$\n",
    "    - $\\beta_0$ = $\\sum Y_i$\n",
    "    \n",
    "### 2) $\\beta$가 2개 (편미분, 다변수 미분)\n",
    "* 이미지 참조 : 1.pdf\n",
    "\n",
    "* $\\partial$(파셜)\n",
    "    - $\\partial cost(\\beta_{0},\\beta_{1}) \\over \\partial \\beta_{0} = 0$\n",
    "    - $\\partial cost(\\beta_{0},\\beta_{1}) \\over \\partial \\beta_{1} = 0$\n",
    "    \n",
    "* 변수 2개 식 2개 => 연립 방정식\n",
    "    - 이미지 참조 : 1.pdf\n",
    "    \n",
    "* 변수 3개, 미분 3번, $\\beta_0, \\beta_1, \\beta_2$ => 연립방정식\n",
    "    - $\\beta_0 + \\beta_1 X_1 + \\beta_2 X_2$\n",
    "    \n",
    "### 다변량 '미분'이 '일반화'되면?\n",
    "* __정규방정식__이 나타난다.\n",
    "* 정규방정식의 표기법?\n",
    "    - 이미지 참조\n",
    "\n",
    "### cost function\n",
    "* 정규방적식 사용은 컴퓨터에게 부담이 된다.\n",
    "    - => $ \\sum_{i=1}^n (XB-y)^2$ '미분'하면 => 0\n",
    "    - $0 - 2X^T(XB-y)$\n",
    "    - ...\n",
    "    - $B = (X^TX)^{-1} X^Ty$ : 정규 방정식\n"
   ]
  },
  {
   "cell_type": "code",
   "execution_count": 3,
   "metadata": {},
   "outputs": [],
   "source": [
    "# 선형회귀\n",
    "import numpy as np\n",
    "import matplotlib.pyplot as plt\n",
    "\n",
    "X = 2 * np.random.rand(100, 1)\n",
    "y = 4 + 3 * X + np.random.randn(100, 1)"
   ]
  },
  {
   "cell_type": "code",
   "execution_count": 4,
   "metadata": {},
   "outputs": [
    {
     "data": {
      "image/png": "[encoded data removed]",
      "text/plain": [
       "<Figure size 432x288 with 1 Axes>"
      ]
     },
     "metadata": {
      "needs_background": "light"
     },
     "output_type": "display_data"
    }
   ],
   "source": [
    "plt.plot(X, y, \"b.\")\n",
    "plt.xlabel(\"$x_1$\", fontsize=18)\n",
    "plt.ylabel(\"$y$\", rotation=0, fontsize=18)\n",
    "plt.axis([0, 2, 0, 15])\n",
    "plt.show()"
   ]
  },
  {
   "cell_type": "markdown",
   "metadata": {},
   "source": [
    "## 정규 방정식\n",
    "* 선형회귀 풀이 1번째\n",
    "\n",
    "$\\hat{\\boldsymbol{\\theta}} = (\\mathbf{X}^T \\mathbf{X})^{-1} \\mathbf{X}^T \\mathbf{y}$"
   ]
  },
  {
   "cell_type": "code",
   "execution_count": 16,
   "metadata": {},
   "outputs": [],
   "source": [
    "X_b = np.c_[np.ones((100, 1)), X]  # 모든 샘플에 x0 = 1을 추가합니다.\n",
    "theta_best = np.linalg.inv(X_b.T.dot(X_b)).dot(X_b.T).dot(y)"
   ]
  },
  {
   "cell_type": "code",
   "execution_count": 6,
   "metadata": {},
   "outputs": [
    {
     "data": {
      "text/plain": [
       "array([[4.14609228],\n",
       "       [2.92292157]])"
      ]
     },
     "execution_count": 6,
     "metadata": {},
     "output_type": "execute_result"
    }
   ],
   "source": [
    "theta_best  # 절편, 기울기"
   ]
  },
  {
   "cell_type": "code",
   "execution_count": 13,
   "metadata": {},
   "outputs": [
    {
     "data": {
      "text/plain": [
       "array([[4.14609228],\n",
       "       [9.99193541]])"
      ]
     },
     "execution_count": 13,
     "metadata": {},
     "output_type": "execute_result"
    }
   ],
   "source": [
    "X_new = np.array([[0], [2]])\n",
    "X_new_b = np.c_[np.ones((2, 1)), X_new]  # 모든 샘플에 x0 = 1을 추가합니다.\n",
    "y_predict = X_new_b.dot(theta_best)\n",
    "y_predict"
   ]
  },
  {
   "cell_type": "code",
   "execution_count": 14,
   "metadata": {},
   "outputs": [
    {
     "data": {
      "image/png": "[encoded data removed]",
      "text/plain": [
       "<Figure size 432x288 with 1 Axes>"
      ]
     },
     "metadata": {
      "needs_background": "light"
     },
     "output_type": "display_data"
    }
   ],
   "source": [
    "plt.plot(X_new, y_predict, \"r-\")\n",
    "plt.plot(X, y, \"b.\")\n",
    "plt.axis([0, 2, 0, 15])\n",
    "plt.show()"
   ]
  },
  {
   "cell_type": "code",
   "execution_count": 11,
   "metadata": {},
   "outputs": [
    {
     "data": {
      "text/plain": [
       "(array([4.14609228]), array([[2.92292157]]))"
      ]
     },
     "execution_count": 11,
     "metadata": {},
     "output_type": "execute_result"
    }
   ],
   "source": [
    "from sklearn.linear_model import LinearRegression\n",
    "\n",
    "lin_reg = LinearRegression()\n",
    "lin_reg.fit(X, y)\n",
    "lin_reg.intercept_, lin_reg.coef_"
   ]
  },
  {
   "cell_type": "code",
   "execution_count": 15,
   "metadata": {},
   "outputs": [
    {
     "data": {
      "text/plain": [
       "array([[4.14609228],\n",
       "       [9.99193541]])"
      ]
     },
     "execution_count": 15,
     "metadata": {},
     "output_type": "execute_result"
    }
   ],
   "source": [
    "lin_reg.predict(X_new)"
   ]
  },
  {
   "cell_type": "markdown",
   "metadata": {},
   "source": [
    "### 유사역행렬\n",
    "* 책 참고 : p163"
   ]
  },
  {
   "cell_type": "markdown",
   "metadata": {},
   "source": [
    "## 경사 하강법\n",
    "* 선형회귀 풀이 2번째\n",
    "* Cost functinon => cost($\\beta$)\n",
    "    - 목적 : $cost'(\\beta) = 0 인 \\beta을 찾는것$\n",
    "    - 방법 1 : $\\beta \\in R^n$에 대해 무차별 대입\n",
    "    - 방법 2 : 적당한 규칙을 적용 => 순차적으로 업데이트 => 결과\n",
    "        + 적당한 규칙 : 이미지 참조(1.pdf)\n",
    "        + 기울기가 0이 될 때까지 반복 => B = B - n*0 = B\n",
    "        \n",
    "* 정규방적식 풀이는 컴퓨터에게 엄청난 부담을 준다.\n",
    "* 에타($\\eta$) : 학습률(Learning rate), 사용자가 정하는 값, 하이퍼파라미터\n",
    "* 베타($\\beta$) : 구할려는값(기울기, 절편)"
   ]
  },
  {
   "cell_type": "markdown",
   "metadata": {},
   "source": [
    "## 배치 경사 하강법의 종류\n",
    "* BATCH(배치) 사이즈를 기준으로 종류를 나눔\n",
    "1. 많은 피처(Feature, 특성)를 몽땅 학습시키면\n",
    "    - 문제 : 오래거림, 메모리 부족\n",
    "2. 데이터를 나눠서 여러번의 학습 과정\n",
    "\n",
    "1. epoch, step, batch size\n",
    "    - epoch : 전체 샘플(Sample) 한 바퀴 돌면, 1 epoch\n",
    "    - step : 기울기(가중치, Weight),  편향(절편, Bias) 1회 업데이트, 1 setp\n",
    "    - batch size : 1 step에서 사용한 데이터의 수\n",
    "        + 몇 개를 학습 시킬지 정함"
   ]
  },
  {
   "cell_type": "markdown",
   "metadata": {},
   "source": [
    "## GD(Gradient descent,경사 하강법)\n",
    "* Full Batch GD\n",
    "* Batch size = m = 전체 데이터\n",
    "* matrix 연산\n",
    "    - m번 계산후 업데이트\n",
    "\n",
    "## SGD(Stochastic Gradient Descent, 확률적 경사 하강법)\n",
    "* batch size = m = 1 (랜덤으로 추출된 1개의 데이터를 사용하여 업데이트)\n",
    "* 벡터단위 연산\n",
    "    - 장점 : 업데이트가 빠르다. (1번 계산으로 업데이트)\n",
    "    - 단점 : 행렬 연산의 장점이 사라진다.\n",
    "    \n",
    "## Mini Batch GD\n",
    "* batch size = m = 사용자가 지정 $2^n$로 지정\n",
    "    - 장점 : matrix 연산 사용\n",
    "    - 단점 : SGD보다 느리다."
   ]
  },
  {
   "cell_type": "code",
   "execution_count": null,
   "metadata": {},
   "outputs": [],
   "source": [
    "## Cost function\n",
    "* 입력한 Training Set에 대하여 가장 적합한 직선을 우리가 가질 수 있게 해줌 = 목표\n",
    "* Cost = (h - y)^2\n",
    "    - Cost = 예측된 결과 값(h) - 실제 결과 값(y)\n",
    "    - 음수로 값이 없어지면 안되기 때문에 제곱함"
   ]
  },
  {
   "cell_type": "markdown",
   "metadata": {},
   "source": [
    "# 개인 정리\n",
    "1. 선형 회귀에서 미분을 사용하는 이유?\n",
    "  - __Cost function__의 최소값을 구하기 위해서\n",
    "  - 미분을 사용하면 기울기 0을 구할 수 있어서, 기울기 0이 최소값\n",
    "2. 미분이 순간속력을 구하는 거고, 미분은 방향(-/+)을 가지고 있는게 맞나요?\n",
    "  - 미분 : 순간적인 변화\n",
    "  - yes\n",
    "3. 구하는 $\\beta$는 '기울기'와 '절편'을 뜻하는가?\n",
    "  - yes\n",
    "4. cost function이 MSE와 같다고 할수 있나요?\n",
    "  - MSE 는 Cost Function의 한 종류 입니다"
   ]
  }
 ],
 "metadata": {
  "kernelspec": {
   "display_name": "Python 3",
   "language": "python",
   "name": "python3"
  },
  "language_info": {
   "codemirror_mode": {
    "name": "ipython",
    "version": 3
   },
   "file_extension": ".py",
   "mimetype": "text/x-python",
   "name": "python",
   "nbconvert_exporter": "python",
   "pygments_lexer": "ipython3",
   "version": "3.8.5"
  }
 },
 "nbformat": 4,
 "nbformat_minor": 4
}
