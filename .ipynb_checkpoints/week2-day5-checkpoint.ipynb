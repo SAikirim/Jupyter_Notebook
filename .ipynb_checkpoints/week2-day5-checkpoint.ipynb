{
 "cells": [
  {
   "cell_type": "code",
   "execution_count": 21,
   "metadata": {},
   "outputs": [],
   "source": [
    "# 파이썬 ≥3.5 필수\n",
    "import sys\n",
    "assert sys.version_info >= (3, 5)\n",
    "\n",
    "# 사이킷런 ≥0.20 필수\n",
    "import sklearn\n",
    "assert sklearn.__version__ >= \"0.20\"\n",
    "\n",
    "# 공통 모듈 임포트\n",
    "import numpy as np\n",
    "import os\n",
    "\n",
    "# 노트북 실행 결과를 동일하게 유지하기 위해\n",
    "np.random.seed(42)\n",
    "\n",
    "# 깔끔한 그래프 출력을 위해\n",
    "%matplotlib inline\n",
    "import matplotlib as mpl\n",
    "import matplotlib.pyplot as plt\n",
    "mpl.rc('axes', labelsize=14)\n",
    "mpl.rc('xtick', labelsize=12)\n",
    "mpl.rc('ytick', labelsize=12)\n",
    "\n",
    "# 그림을 저장할 위치\n",
    "PROJECT_ROOT_DIR = \".\"\n",
    "CHAPTER_ID = \"training_linear_models\"\n",
    "IMAGES_PATH = os.path.join(PROJECT_ROOT_DIR, \"images\", CHAPTER_ID)\n",
    "os.makedirs(IMAGES_PATH, exist_ok=True)\n",
    "\n",
    "def save_fig(fig_id, tight_layout=True, fig_extension=\"png\", resolution=300):\n",
    "    path = os.path.join(IMAGES_PATH, fig_id + \".\" + fig_extension)\n",
    "    print(\"그림 저장:\", fig_id)\n",
    "    if tight_layout:\n",
    "        plt.tight_layout()\n",
    "    plt.savefig(path, format=fig_extension, dpi=resolution)\n",
    "\n",
    "# 불필요한 경고를 무시합니다 (사이파이 이슈 #5998 참조)\n",
    "import warnings\n",
    "warnings.filterwarnings(action=\"ignore\", message=\"^internal gelsd\")"
   ]
  },
  {
   "cell_type": "code",
   "execution_count": 23,
   "metadata": {},
   "outputs": [],
   "source": [
    "import numpy as np\n",
    "import numpy.random as rnd"
   ]
  },
  {
   "cell_type": "code",
   "execution_count": 24,
   "metadata": {},
   "outputs": [],
   "source": [
    "m = 100\n",
    "X = 6 * np.random.rand(m, 1) - 3\n",
    "y = 0.5 * X**2 + X + 2 + np.random.randn(m, 1)"
   ]
  },
  {
   "cell_type": "code",
   "execution_count": 25,
   "metadata": {},
   "outputs": [
    {
     "name": "stdout",
     "output_type": "stream",
     "text": [
      "그림 저장: quadratic_data_plot\n"
     ]
    },
    {
     "data": {
      "image/png": "[encoded data removed]",
      "text/plain": [
       "<Figure size 432x288 with 1 Axes>"
      ]
     },
     "metadata": {
      "needs_background": "light"
     },
     "output_type": "display_data"
    }
   ],
   "source": [
    "plt.plot(X, y, \"b.\")\n",
    "plt.xlabel(\"$x_1$\", fontsize=18)\n",
    "plt.ylabel(\"$y$\", rotation=0, fontsize=18)\n",
    "plt.axis([-3, 3, 0, 10])\n",
    "save_fig(\"quadratic_data_plot\")\n",
    "plt.show()"
   ]
  },
  {
   "cell_type": "code",
   "execution_count": 26,
   "metadata": {},
   "outputs": [],
   "source": [
    "from sklearn.preprocessing import PolynomialFeatures"
   ]
  },
  {
   "cell_type": "code",
   "execution_count": 27,
   "metadata": {},
   "outputs": [],
   "source": [
    "poly_features = PolynomialFeatures(degree=2, include_bias=False)\n",
    "X_poly = poly_features.fit_transform(X)"
   ]
  },
  {
   "cell_type": "code",
   "execution_count": 33,
   "metadata": {
    "scrolled": true
   },
   "outputs": [
    {
     "data": {
      "text/plain": [
       "\u001b[1;31mInit signature:\u001b[0m\n",
       "\u001b[0mPolynomialFeatures\u001b[0m\u001b[1;33m(\u001b[0m\u001b[1;33m\n",
       "\u001b[0m    \u001b[0mdegree\u001b[0m\u001b[1;33m=\u001b[0m\u001b[1;36m2\u001b[0m\u001b[1;33m,\u001b[0m\u001b[1;33m\n",
       "\u001b[0m    \u001b[1;33m*\u001b[0m\u001b[1;33m,\u001b[0m\u001b[1;33m\n",
       "\u001b[0m    \u001b[0minteraction_only\u001b[0m\u001b[1;33m=\u001b[0m\u001b[1;32mFalse\u001b[0m\u001b[1;33m,\u001b[0m\u001b[1;33m\n",
       "\u001b[0m    \u001b[0minclude_bias\u001b[0m\u001b[1;33m=\u001b[0m\u001b[1;32mTrue\u001b[0m\u001b[1;33m,\u001b[0m\u001b[1;33m\n",
       "\u001b[0m    \u001b[0morder\u001b[0m\u001b[1;33m=\u001b[0m\u001b[1;34m'C'\u001b[0m\u001b[1;33m,\u001b[0m\u001b[1;33m\n",
       "\u001b[0m\u001b[1;33m)\u001b[0m\u001b[1;33m\u001b[0m\u001b[1;33m\u001b[0m\u001b[0m\n",
       "\u001b[1;31mDocstring:\u001b[0m     \n",
       "Generate polynomial and interaction features.\n",
       "\n",
       "Generate a new feature matrix consisting of all polynomial combinations\n",
       "of the features with degree less than or equal to the specified degree.\n",
       "For example, if an input sample is two dimensional and of the form\n",
       "[a, b], the degree-2 polynomial features are [1, a, b, a^2, ab, b^2].\n",
       "\n",
       "Parameters\n",
       "----------\n",
       "degree : integer\n",
       "    The degree of the polynomial features. Default = 2.\n",
       "\n",
       "interaction_only : boolean, default = False\n",
       "    If true, only interaction features are produced: features that are\n",
       "    products of at most ``degree`` *distinct* input features (so not\n",
       "    ``x[1] ** 2``, ``x[0] * x[2] ** 3``, etc.).\n",
       "\n",
       "include_bias : boolean\n",
       "    If True (default), then include a bias column, the feature in which\n",
       "    all polynomial powers are zero (i.e. a column of ones - acts as an\n",
       "    intercept term in a linear model).\n",
       "\n",
       "order : str in {'C', 'F'}, default 'C'\n",
       "    Order of output array in the dense case. 'F' order is faster to\n",
       "    compute, but may slow down subsequent estimators.\n",
       "\n",
       "    .. versionadded:: 0.21\n",
       "\n",
       "Examples\n",
       "--------\n",
       ">>> import numpy as np\n",
       ">>> from sklearn.preprocessing import PolynomialFeatures\n",
       ">>> X = np.arange(6).reshape(3, 2)\n",
       ">>> X\n",
       "array([[0, 1],\n",
       "       [2, 3],\n",
       "       [4, 5]])\n",
       ">>> poly = PolynomialFeatures(2)\n",
       ">>> poly.fit_transform(X)\n",
       "array([[ 1.,  0.,  1.,  0.,  0.,  1.],\n",
       "       [ 1.,  2.,  3.,  4.,  6.,  9.],\n",
       "       [ 1.,  4.,  5., 16., 20., 25.]])\n",
       ">>> poly = PolynomialFeatures(interaction_only=True)\n",
       ">>> poly.fit_transform(X)\n",
       "array([[ 1.,  0.,  1.,  0.],\n",
       "       [ 1.,  2.,  3.,  6.],\n",
       "       [ 1.,  4.,  5., 20.]])\n",
       "\n",
       "Attributes\n",
       "----------\n",
       "powers_ : array, shape (n_output_features, n_input_features)\n",
       "    powers_[i, j] is the exponent of the jth input in the ith output.\n",
       "\n",
       "n_input_features_ : int\n",
       "    The total number of input features.\n",
       "\n",
       "n_output_features_ : int\n",
       "    The total number of polynomial output features. The number of output\n",
       "    features is computed by iterating over all suitably sized combinations\n",
       "    of input features.\n",
       "\n",
       "Notes\n",
       "-----\n",
       "Be aware that the number of features in the output array scales\n",
       "polynomially in the number of features of the input array, and\n",
       "exponentially in the degree. High degrees can cause overfitting.\n",
       "\n",
       "See :ref:`examples/linear_model/plot_polynomial_interpolation.py\n",
       "<sphx_glr_auto_examples_linear_model_plot_polynomial_interpolation.py>`\n",
       "\u001b[1;31mFile:\u001b[0m           c:\\users\\apollo\\anaconda3\\envs\\tensorflow\\lib\\site-packages\\sklearn\\preprocessing\\_data.py\n",
       "\u001b[1;31mType:\u001b[0m           type\n",
       "\u001b[1;31mSubclasses:\u001b[0m     \n"
      ]
     },
     "metadata": {},
     "output_type": "display_data"
    }
   ],
   "source": [
    "PolynomialFeatures?"
   ]
  },
  {
   "cell_type": "markdown",
   "metadata": {},
   "source": [
    "- 선형 회귀 데이터 -> 다항 회귀 데이터로 변경\n",
    "    - degree : n 차 다항식으로 지정\n",
    "        - include_bias : 편향(y절편) Flase -> sklearn LinearRegression은 평향을 스스로 조절한다."
   ]
  },
  {
   "cell_type": "code",
   "execution_count": 36,
   "metadata": {
    "scrolled": true
   },
   "outputs": [
    {
     "data": {
      "text/plain": [
       "array([[-0.75275929],\n",
       "       [ 2.70428584],\n",
       "       [ 1.39196365],\n",
       "       [ 0.59195091],\n",
       "       [-2.06388816],\n",
       "       [-2.06403288],\n",
       "       [-2.65149833],\n",
       "       [ 2.19705687],\n",
       "       [ 0.60669007],\n",
       "       [ 1.24843547],\n",
       "       [-2.87649303],\n",
       "       [ 2.81945911],\n",
       "       [ 1.99465584],\n",
       "       [-1.72596534],\n",
       "       [-1.9090502 ],\n",
       "       [-1.89957294],\n",
       "       [-1.17454654],\n",
       "       [ 0.14853859],\n",
       "       [-0.40832989],\n",
       "       [-1.25262516],\n",
       "       [ 0.67111737],\n",
       "       [-2.16303684],\n",
       "       [-1.24713211],\n",
       "       [-0.80182894],\n",
       "       [-0.26358009],\n",
       "       [ 1.71105577],\n",
       "       [-1.80195731],\n",
       "       [ 0.08540663],\n",
       "       [ 0.55448741],\n",
       "       [-2.72129752],\n",
       "       [ 0.64526911],\n",
       "       [-1.97685526],\n",
       "       [-2.60969044],\n",
       "       [ 2.69331322],\n",
       "       [ 2.7937922 ],\n",
       "       [ 1.85038409],\n",
       "       [-1.17231738],\n",
       "       [-2.41396732],\n",
       "       [ 1.10539816],\n",
       "       [-0.35908504],\n",
       "       [-2.26777059],\n",
       "       [-0.02893854],\n",
       "       [-2.79366887],\n",
       "       [ 2.45592241],\n",
       "       [-1.44732011],\n",
       "       [ 0.97513371],\n",
       "       [-1.12973354],\n",
       "       [ 0.12040813],\n",
       "       [ 0.28026168],\n",
       "       [-1.89087327],\n",
       "       [ 2.81750777],\n",
       "       [ 1.65079694],\n",
       "       [ 2.63699365],\n",
       "       [ 2.3689641 ],\n",
       "       [ 0.58739987],\n",
       "       [ 2.53124541],\n",
       "       [-2.46904499],\n",
       "       [-1.82410283],\n",
       "       [-2.72863627],\n",
       "       [-1.04801802],\n",
       "       [-0.66793626],\n",
       "       [-1.37190581],\n",
       "       [ 1.97242505],\n",
       "       [-0.85948004],\n",
       "       [-1.31439294],\n",
       "       [ 0.2561765 ],\n",
       "       [-2.15445465],\n",
       "       [ 1.81318188],\n",
       "       [-2.55269614],\n",
       "       [ 2.92132162],\n",
       "       [ 1.63346862],\n",
       "       [-1.80770591],\n",
       "       [-2.9668673 ],\n",
       "       [ 1.89276857],\n",
       "       [ 1.24114406],\n",
       "       [ 1.37404301],\n",
       "       [ 1.62762208],\n",
       "       [-2.55573209],\n",
       "       [-0.84920563],\n",
       "       [-2.30478564],\n",
       "       [ 2.17862056],\n",
       "       [ 0.73978876],\n",
       "       [-1.01461185],\n",
       "       [-2.6186499 ],\n",
       "       [-1.13410607],\n",
       "       [-1.04890007],\n",
       "       [ 1.37763707],\n",
       "       [ 0.82534483],\n",
       "       [ 2.32327646],\n",
       "       [-0.16671045],\n",
       "       [-2.28243452],\n",
       "       [ 1.27946872],\n",
       "       [ 1.56471029],\n",
       "       [ 0.36766319],\n",
       "       [ 1.62580308],\n",
       "       [-0.03722642],\n",
       "       [ 0.13639698],\n",
       "       [-0.43475389],\n",
       "       [-2.84748524],\n",
       "       [-2.35265144]])"
      ]
     },
     "execution_count": 36,
     "metadata": {},
     "output_type": "execute_result"
    }
   ],
   "source": [
    "X"
   ]
  },
  {
   "cell_type": "code",
   "execution_count": 38,
   "metadata": {
    "scrolled": true
   },
   "outputs": [
    {
     "data": {
      "text/plain": [
       "array([[-7.52759287e-01,  5.66646544e-01],\n",
       "       [ 2.70428584e+00,  7.31316190e+00],\n",
       "       [ 1.39196365e+00,  1.93756281e+00],\n",
       "       [ 5.91950905e-01,  3.50405874e-01],\n",
       "       [-2.06388816e+00,  4.25963433e+00],\n",
       "       [-2.06403288e+00,  4.26023172e+00],\n",
       "       [-2.65149833e+00,  7.03044338e+00],\n",
       "       [ 2.19705687e+00,  4.82705891e+00],\n",
       "       [ 6.06690070e-01,  3.68072842e-01],\n",
       "       [ 1.24843547e+00,  1.55859111e+00],\n",
       "       [-2.87649303e+00,  8.27421218e+00],\n",
       "       [ 2.81945911e+00,  7.94934969e+00],\n",
       "       [ 1.99465584e+00,  3.97865194e+00],\n",
       "       [-1.72596534e+00,  2.97895634e+00],\n",
       "       [-1.90905020e+00,  3.64447265e+00],\n",
       "       [-1.89957294e+00,  3.60837736e+00],\n",
       "       [-1.17454654e+00,  1.37955958e+00],\n",
       "       [ 1.48538590e-01,  2.20637127e-02],\n",
       "       [-4.08329888e-01,  1.66733298e-01],\n",
       "       [-1.25262516e+00,  1.56906979e+00],\n",
       "       [ 6.71117368e-01,  4.50398522e-01],\n",
       "       [-2.16303684e+00,  4.67872835e+00],\n",
       "       [-1.24713211e+00,  1.55533850e+00],\n",
       "       [-8.01828940e-01,  6.42929649e-01],\n",
       "       [-2.63580095e-01,  6.94744663e-02],\n",
       "       [ 1.71105577e+00,  2.92771184e+00],\n",
       "       [-1.80195731e+00,  3.24705014e+00],\n",
       "       [ 8.54066305e-02,  7.29429253e-03],\n",
       "       [ 5.54487413e-01,  3.07456291e-01],\n",
       "       [-2.72129752e+00,  7.40546021e+00],\n",
       "       [ 6.45269111e-01,  4.16372226e-01],\n",
       "       [-1.97685526e+00,  3.90795671e+00],\n",
       "       [-2.60969044e+00,  6.81048420e+00],\n",
       "       [ 2.69331322e+00,  7.25393612e+00],\n",
       "       [ 2.79379220e+00,  7.80527485e+00],\n",
       "       [ 1.85038409e+00,  3.42392128e+00],\n",
       "       [-1.17231738e+00,  1.37432805e+00],\n",
       "       [-2.41396732e+00,  5.82723820e+00],\n",
       "       [ 1.10539816e+00,  1.22190509e+00],\n",
       "       [-3.59085038e-01,  1.28942064e-01],\n",
       "       [-2.26777059e+00,  5.14278345e+00],\n",
       "       [-2.89385393e-02,  8.37439059e-04],\n",
       "       [-2.79366887e+00,  7.80458577e+00],\n",
       "       [ 2.45592241e+00,  6.03155490e+00],\n",
       "       [-1.44732011e+00,  2.09473550e+00],\n",
       "       [ 9.75133706e-01,  9.50885745e-01],\n",
       "       [-1.12973354e+00,  1.27629788e+00],\n",
       "       [ 1.20408127e-01,  1.44981171e-02],\n",
       "       [ 2.80261676e-01,  7.85466071e-02],\n",
       "       [-1.89087327e+00,  3.57540171e+00],\n",
       "       [ 2.81750777e+00,  7.93835001e+00],\n",
       "       [ 1.65079694e+00,  2.72513054e+00],\n",
       "       [ 2.63699365e+00,  6.95373551e+00],\n",
       "       [ 2.36896410e+00,  5.61199092e+00],\n",
       "       [ 5.87399873e-01,  3.45038611e-01],\n",
       "       [ 2.53124541e+00,  6.40720333e+00],\n",
       "       [-2.46904499e+00,  6.09618315e+00],\n",
       "       [-1.82410283e+00,  3.32735112e+00],\n",
       "       [-2.72863627e+00,  7.44545588e+00],\n",
       "       [-1.04801802e+00,  1.09834176e+00],\n",
       "       [-6.67936262e-01,  4.46138850e-01],\n",
       "       [-1.37190581e+00,  1.88212555e+00],\n",
       "       [ 1.97242505e+00,  3.89046060e+00],\n",
       "       [-8.59480040e-01,  7.38705939e-01],\n",
       "       [-1.31439294e+00,  1.72762881e+00],\n",
       "       [ 2.56176499e-01,  6.56263986e-02],\n",
       "       [-2.15445465e+00,  4.64167484e+00],\n",
       "       [ 1.81318188e+00,  3.28762855e+00],\n",
       "       [-2.55269614e+00,  6.51625757e+00],\n",
       "       [ 2.92132162e+00,  8.53412001e+00],\n",
       "       [ 1.63346862e+00,  2.66821972e+00],\n",
       "       [-1.80770591e+00,  3.26780066e+00],\n",
       "       [-2.96686730e+00,  8.80230156e+00],\n",
       "       [ 1.89276857e+00,  3.58257286e+00],\n",
       "       [ 1.24114406e+00,  1.54043859e+00],\n",
       "       [ 1.37404301e+00,  1.88799419e+00],\n",
       "       [ 1.62762208e+00,  2.64915364e+00],\n",
       "       [-2.55573209e+00,  6.53176651e+00],\n",
       "       [-8.49205629e-01,  7.21150200e-01],\n",
       "       [-2.30478564e+00,  5.31203686e+00],\n",
       "       [ 2.17862056e+00,  4.74638752e+00],\n",
       "       [ 7.39788761e-01,  5.47287411e-01],\n",
       "       [-1.01461185e+00,  1.02943721e+00],\n",
       "       [-2.61864990e+00,  6.85732729e+00],\n",
       "       [-1.13410607e+00,  1.28619658e+00],\n",
       "       [-1.04890007e+00,  1.10019135e+00],\n",
       "       [ 1.37763707e+00,  1.89788390e+00],\n",
       "       [ 8.25344828e-01,  6.81194085e-01],\n",
       "       [ 2.32327646e+00,  5.39761349e+00],\n",
       "       [-1.66710449e-01,  2.77923738e-02],\n",
       "       [-2.28243452e+00,  5.20950736e+00],\n",
       "       [ 1.27946872e+00,  1.63704021e+00],\n",
       "       [ 1.56471029e+00,  2.44831830e+00],\n",
       "       [ 3.67663185e-01,  1.35176218e-01],\n",
       "       [ 1.62580308e+00,  2.64323565e+00],\n",
       "       [-3.72264218e-02,  1.38580648e-03],\n",
       "       [ 1.36396976e-01,  1.86041351e-02],\n",
       "       [-4.34753890e-01,  1.89010945e-01],\n",
       "       [-2.84748524e+00,  8.10817219e+00],\n",
       "       [-2.35265144e+00,  5.53496879e+00]])"
      ]
     },
     "execution_count": 38,
     "metadata": {},
     "output_type": "execute_result"
    }
   ],
   "source": [
    "X_poly"
   ]
  },
  {
   "cell_type": "code",
   "execution_count": 41,
   "metadata": {},
   "outputs": [
    {
     "data": {
      "text/plain": [
       "['x0', 'x0^2']"
      ]
     },
     "execution_count": 41,
     "metadata": {},
     "output_type": "execute_result"
    }
   ],
   "source": [
    "poly_features.get_feature_names()"
   ]
  },
  {
   "cell_type": "markdown",
   "metadata": {},
   "source": [
    "- degree\n",
    "    - degree 1: 1,a 선형\n",
    "    - degree 2: 1,a,b\n",
    "        - 1,a,b,a^2,b^2,ab\n",
    "    - degree 3: 1,a,b,c\n",
    "        - 1,a,b,c,ab,ac,bc,...,a^3,b^3,c^3"
   ]
  },
  {
   "cell_type": "code",
   "execution_count": 28,
   "metadata": {},
   "outputs": [],
   "source": [
    "from sklearn.linear_model import LinearRegression"
   ]
  },
  {
   "cell_type": "code",
   "execution_count": 31,
   "metadata": {},
   "outputs": [
    {
     "data": {
      "text/plain": [
       "(array([1.78134581]), array([[0.93366893, 0.56456263]]))"
      ]
     },
     "execution_count": 31,
     "metadata": {},
     "output_type": "execute_result"
    }
   ],
   "source": [
    "lin_reg = LinearRegression()\n",
    "lin_reg.fit(X_poly, y)\n",
    "lin_reg.intercept_, lin_reg.coef_"
   ]
  },
  {
   "cell_type": "code",
   "execution_count": 32,
   "metadata": {},
   "outputs": [
    {
     "name": "stdout",
     "output_type": "stream",
     "text": [
      "그림 저장: quadratic_predictions_plot\n"
     ]
    },
    {
     "data": {
      "image/png": "[encoded data removed]",
      "text/plain": [
       "<Figure size 432x288 with 1 Axes>"
      ]
     },
     "metadata": {
      "needs_background": "light"
     },
     "output_type": "display_data"
    }
   ],
   "source": [
    "X_new=np.linspace(-3, 3, 100).reshape(100, 1)\n",
    "X_new_poly = poly_features.transform(X_new)\n",
    "y_new = lin_reg.predict(X_new_poly)\n",
    "plt.plot(X, y, \"b.\")\n",
    "plt.plot(X_new, y_new, \"r-\", linewidth=2, label=\"Predictions\")\n",
    "plt.xlabel(\"$x_1$\", fontsize=18)\n",
    "plt.ylabel(\"$y$\", rotation=0, fontsize=18)\n",
    "plt.legend(loc=\"upper left\", fontsize=14)\n",
    "plt.axis([-3, 3, 0, 10])\n",
    "save_fig(\"quadratic_predictions_plot\")\n",
    "plt.show()"
   ]
  },
  {
   "cell_type": "code",
   "execution_count": null,
   "metadata": {},
   "outputs": [],
   "source": []
  }
 ],
 "metadata": {
  "kernelspec": {
   "display_name": "Python 3",
   "language": "python",
   "name": "python3"
  },
  "language_info": {
   "codemirror_mode": {
    "name": "ipython",
    "version": 3
   },
   "file_extension": ".py",
   "mimetype": "text/x-python",
   "name": "python",
   "nbconvert_exporter": "python",
   "pygments_lexer": "ipython3",
   "version": "3.8.5"
  }
 },
 "nbformat": 4,
 "nbformat_minor": 4
}
