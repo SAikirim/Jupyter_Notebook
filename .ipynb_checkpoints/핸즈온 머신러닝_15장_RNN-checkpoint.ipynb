{
 "cells": [
  {
   "cell_type": "markdown",
   "metadata": {},
   "source": [
    "# 네트워크 순환 신경망(RNN)\n",
    "* '예측'할 때 사용\n",
    "    - 가변적인 시퀀스(Sequential) 데이터 사용\n",
    "* Sequential Data\n",
    "    - 주가\n",
    "    - 운정\n",
    "    - 목소리(성조)\n",
    "    - 동영상\n",
    "    - 문장\n",
    "    - 심전도 -> 건강 확인\n",
    "* Time series Data\n",
    "    1. Data metrics\n",
    "        + 입력(input) -> 출력(output)\n",
    "        + 점화식\n",
    "    2. stochastic(확률적)\n",
    "        + 이전 결과 + 확률 = 미래\n",
    "        + 확률(평균, 분산)을 통해 미시간 결과에 영향\n",
    "        \n",
    "## Markov Process\n",
    "* 사건 q_t가 일어난 경우의 수 {S_1, S_2, ..., S_N}\n",
    "*"
   ]
  },
  {
   "cell_type": "code",
   "execution_count": null,
   "metadata": {},
   "outputs": [],
   "source": []
  }
 ],
 "metadata": {
  "kernelspec": {
   "display_name": "Python 3",
   "language": "python",
   "name": "python3"
  },
  "language_info": {
   "codemirror_mode": {
    "name": "ipython",
    "version": 3
   },
   "file_extension": ".py",
   "mimetype": "text/x-python",
   "name": "python",
   "nbconvert_exporter": "python",
   "pygments_lexer": "ipython3",
   "version": "3.8.3"
  }
 },
 "nbformat": 4,
 "nbformat_minor": 4
}
