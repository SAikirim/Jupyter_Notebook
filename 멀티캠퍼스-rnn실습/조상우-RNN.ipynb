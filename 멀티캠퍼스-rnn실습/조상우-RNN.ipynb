{
 "cells": [
  {
   "cell_type": "code",
   "execution_count": 1,
   "metadata": {
    "executionInfo": {
     "elapsed": 849,
     "status": "ok",
     "timestamp": 1603421061324,
     "user": {
      "displayName": "조상우",
      "photoUrl": "",
      "userId": "07314295018904412395"
     },
     "user_tz": -540
    },
    "id": "bGXbTIv9V3BG"
   },
   "outputs": [],
   "source": [
    "import pandas as pd"
   ]
  },
  {
   "cell_type": "code",
   "execution_count": 2,
   "metadata": {
    "executionInfo": {
     "elapsed": 6365,
     "status": "ok",
     "timestamp": 1603421068243,
     "user": {
      "displayName": "조상우",
      "photoUrl": "",
      "userId": "07314295018904412395"
     },
     "user_tz": -540
    },
    "id": "XNI1gXvnV3BJ"
   },
   "outputs": [],
   "source": [
    "df = pd.read_html('http://kind.krx.co.kr/corpgeneral/corpList.do?method=download', header=0)[0]"
   ]
  },
  {
   "cell_type": "code",
   "execution_count": 3,
   "metadata": {
    "colab": {
     "base_uri": "https://localhost:8080/",
     "height": 35
    },
    "executionInfo": {
     "elapsed": 4375,
     "status": "ok",
     "timestamp": 1603421073279,
     "user": {
      "displayName": "조상우",
      "photoUrl": "",
      "userId": "07314295018904412395"
     },
     "user_tz": -540
    },
    "id": "3woV4zvcV3BL",
    "outputId": "beb74112-48d8-47ea-905c-f571e8854ea2"
   },
   "outputs": [
    {
     "name": "stdout",
     "output_type": "stream",
     "text": [
      "Requirement already satisfied: lxml in c:\\users\\apollo\\anaconda3\\envs\\tensorflow\\lib\\site-packages (4.6.1)\n"
     ]
    }
   ],
   "source": [
    "!pip install lxml"
   ]
  },
  {
   "cell_type": "code",
   "execution_count": 4,
   "metadata": {
    "colab": {
     "base_uri": "https://localhost:8080/",
     "height": 204
    },
    "executionInfo": {
     "elapsed": 787,
     "status": "ok",
     "timestamp": 1603421075757,
     "user": {
      "displayName": "조상우",
      "photoUrl": "",
      "userId": "07314295018904412395"
     },
     "user_tz": -540
    },
    "id": "BmQV2sq7V3BQ",
    "outputId": "e19e1157-4e89-4b34-bd00-349d0edf9e73"
   },
   "outputs": [
    {
     "data": {
      "text/html": [
       "<div>\n",
       "<style scoped>\n",
       "    .dataframe tbody tr th:only-of-type {\n",
       "        vertical-align: middle;\n",
       "    }\n",
       "\n",
       "    .dataframe tbody tr th {\n",
       "        vertical-align: top;\n",
       "    }\n",
       "\n",
       "    .dataframe thead th {\n",
       "        text-align: right;\n",
       "    }\n",
       "</style>\n",
       "<table border=\"1\" class=\"dataframe\">\n",
       "  <thead>\n",
       "    <tr style=\"text-align: right;\">\n",
       "      <th></th>\n",
       "      <th>회사명</th>\n",
       "      <th>종목코드</th>\n",
       "      <th>업종</th>\n",
       "      <th>주요제품</th>\n",
       "      <th>상장일</th>\n",
       "      <th>결산월</th>\n",
       "      <th>대표자명</th>\n",
       "      <th>홈페이지</th>\n",
       "      <th>지역</th>\n",
       "    </tr>\n",
       "  </thead>\n",
       "  <tbody>\n",
       "    <tr>\n",
       "      <th>0</th>\n",
       "      <td>JS전선</td>\n",
       "      <td>5560</td>\n",
       "      <td>절연선 및 케이블 제조업</td>\n",
       "      <td>선박선,고무선,전력선,통신선 제조</td>\n",
       "      <td>2007-11-12</td>\n",
       "      <td>12월</td>\n",
       "      <td>이익희</td>\n",
       "      <td>http://www.jscable.co.kr</td>\n",
       "      <td>충청남도</td>\n",
       "    </tr>\n",
       "    <tr>\n",
       "      <th>1</th>\n",
       "      <td>거북선2호</td>\n",
       "      <td>101380</td>\n",
       "      <td>NaN</td>\n",
       "      <td>운송장비(선박) 임대</td>\n",
       "      <td>2008-04-25</td>\n",
       "      <td>12월</td>\n",
       "      <td>신주선</td>\n",
       "      <td>NaN</td>\n",
       "      <td>부산광역시</td>\n",
       "    </tr>\n",
       "    <tr>\n",
       "      <th>2</th>\n",
       "      <td>거북선6호</td>\n",
       "      <td>114140</td>\n",
       "      <td>NaN</td>\n",
       "      <td>NaN</td>\n",
       "      <td>2009-10-01</td>\n",
       "      <td>12월</td>\n",
       "      <td>김연신</td>\n",
       "      <td>NaN</td>\n",
       "      <td>제주특별자치도</td>\n",
       "    </tr>\n",
       "    <tr>\n",
       "      <th>3</th>\n",
       "      <td>교보메리츠</td>\n",
       "      <td>64900</td>\n",
       "      <td>NaN</td>\n",
       "      <td>부동산 투자,운용</td>\n",
       "      <td>2002-01-30</td>\n",
       "      <td>12월</td>\n",
       "      <td>김 상 진</td>\n",
       "      <td>NaN</td>\n",
       "      <td>서울특별시</td>\n",
       "    </tr>\n",
       "    <tr>\n",
       "      <th>4</th>\n",
       "      <td>국제관광공사</td>\n",
       "      <td>28780</td>\n",
       "      <td>NaN</td>\n",
       "      <td>NaN</td>\n",
       "      <td>1966-03-18</td>\n",
       "      <td>12월</td>\n",
       "      <td>NaN</td>\n",
       "      <td>NaN</td>\n",
       "      <td>NaN</td>\n",
       "    </tr>\n",
       "  </tbody>\n",
       "</table>\n",
       "</div>"
      ],
      "text/plain": [
       "      회사명    종목코드             업종                주요제품         상장일  결산월   대표자명  \\\n",
       "0    JS전선    5560  절연선 및 케이블 제조업  선박선,고무선,전력선,통신선 제조  2007-11-12  12월    이익희   \n",
       "1   거북선2호  101380            NaN         운송장비(선박) 임대  2008-04-25  12월    신주선   \n",
       "2   거북선6호  114140            NaN                 NaN  2009-10-01  12월    김연신   \n",
       "3   교보메리츠   64900            NaN           부동산 투자,운용  2002-01-30  12월  김 상 진   \n",
       "4  국제관광공사   28780            NaN                 NaN  1966-03-18  12월    NaN   \n",
       "\n",
       "                       홈페이지       지역  \n",
       "0  http://www.jscable.co.kr     충청남도  \n",
       "1                       NaN    부산광역시  \n",
       "2                       NaN  제주특별자치도  \n",
       "3                       NaN    서울특별시  \n",
       "4                       NaN      NaN  "
      ]
     },
     "execution_count": 4,
     "metadata": {},
     "output_type": "execute_result"
    }
   ],
   "source": [
    "df.head()"
   ]
  },
  {
   "cell_type": "markdown",
   "metadata": {
    "id": "w25lIDEbV3BT"
   },
   "source": [
    "# 종목코드 갖고 오기"
   ]
  },
  {
   "cell_type": "code",
   "execution_count": 5,
   "metadata": {
    "colab": {
     "base_uri": "https://localhost:8080/",
     "height": 233
    },
    "executionInfo": {
     "elapsed": 3473,
     "status": "ok",
     "timestamp": 1603421083927,
     "user": {
      "displayName": "조상우",
      "photoUrl": "",
      "userId": "07314295018904412395"
     },
     "user_tz": -540
    },
    "id": "3wAYHgSWV3BT",
    "outputId": "a9aeed56-4554-4f7e-dbdf-4ae52e9e2570"
   },
   "outputs": [
    {
     "name": "stdout",
     "output_type": "stream",
     "text": [
      "Requirement already satisfied: pandas_datareader in c:\\users\\apollo\\anaconda3\\envs\\tensorflow\\lib\\site-packages (0.9.0)\n",
      "Requirement already satisfied: requests>=2.19.0 in c:\\users\\apollo\\anaconda3\\envs\\tensorflow\\lib\\site-packages (from pandas_datareader) (2.24.0)\n",
      "Requirement already satisfied: lxml in c:\\users\\apollo\\anaconda3\\envs\\tensorflow\\lib\\site-packages (from pandas_datareader) (4.6.1)\n",
      "Requirement already satisfied: pandas>=0.23 in c:\\users\\apollo\\anaconda3\\envs\\tensorflow\\lib\\site-packages (from pandas_datareader) (1.1.3)\n",
      "Requirement already satisfied: chardet<4,>=3.0.2 in c:\\users\\apollo\\anaconda3\\envs\\tensorflow\\lib\\site-packages (from requests>=2.19.0->pandas_datareader) (3.0.4)\n",
      "Requirement already satisfied: urllib3!=1.25.0,!=1.25.1,<1.26,>=1.21.1 in c:\\users\\apollo\\anaconda3\\envs\\tensorflow\\lib\\site-packages (from requests>=2.19.0->pandas_datareader) (1.25.10)\n",
      "Requirement already satisfied: certifi>=2017.4.17 in c:\\users\\apollo\\anaconda3\\envs\\tensorflow\\lib\\site-packages (from requests>=2.19.0->pandas_datareader) (2020.6.20)\n",
      "Requirement already satisfied: idna<3,>=2.5 in c:\\users\\apollo\\anaconda3\\envs\\tensorflow\\lib\\site-packages (from requests>=2.19.0->pandas_datareader) (2.10)\n",
      "Requirement already satisfied: python-dateutil>=2.7.3 in c:\\users\\apollo\\anaconda3\\envs\\tensorflow\\lib\\site-packages (from pandas>=0.23->pandas_datareader) (2.8.1)\n",
      "Requirement already satisfied: pytz>=2017.2 in c:\\users\\apollo\\anaconda3\\envs\\tensorflow\\lib\\site-packages (from pandas>=0.23->pandas_datareader) (2020.1)\n",
      "Requirement already satisfied: numpy>=1.15.4 in c:\\users\\apollo\\anaconda3\\envs\\tensorflow\\lib\\site-packages (from pandas>=0.23->pandas_datareader) (1.18.5)\n",
      "Requirement already satisfied: six>=1.5 in c:\\users\\apollo\\anaconda3\\envs\\tensorflow\\lib\\site-packages (from python-dateutil>=2.7.3->pandas>=0.23->pandas_datareader) (1.15.0)\n"
     ]
    }
   ],
   "source": [
    "!pip install pandas_datareader"
   ]
  },
  {
   "cell_type": "code",
   "execution_count": 6,
   "metadata": {
    "executionInfo": {
     "elapsed": 788,
     "status": "ok",
     "timestamp": 1603421089738,
     "user": {
      "displayName": "조상우",
      "photoUrl": "",
      "userId": "07314295018904412395"
     },
     "user_tz": -540
    },
    "id": "tjh4umzNV3BV"
   },
   "outputs": [],
   "source": [
    "import pandas_datareader as pdr"
   ]
  },
  {
   "cell_type": "code",
   "execution_count": 7,
   "metadata": {
    "colab": {
     "base_uri": "https://localhost:8080/",
     "height": 450
    },
    "executionInfo": {
     "elapsed": 956,
     "status": "ok",
     "timestamp": 1603425845558,
     "user": {
      "displayName": "조상우",
      "photoUrl": "",
      "userId": "07314295018904412395"
     },
     "user_tz": -540
    },
    "id": "M4lnr8ocV3BX",
    "outputId": "3e7c751b-34fd-4f26-8557-7610105bbd3a"
   },
   "outputs": [
    {
     "data": {
      "text/html": [
       "<div>\n",
       "<style scoped>\n",
       "    .dataframe tbody tr th:only-of-type {\n",
       "        vertical-align: middle;\n",
       "    }\n",
       "\n",
       "    .dataframe tbody tr th {\n",
       "        vertical-align: top;\n",
       "    }\n",
       "\n",
       "    .dataframe thead th {\n",
       "        text-align: right;\n",
       "    }\n",
       "</style>\n",
       "<table border=\"1\" class=\"dataframe\">\n",
       "  <thead>\n",
       "    <tr style=\"text-align: right;\">\n",
       "      <th></th>\n",
       "      <th>High</th>\n",
       "      <th>Low</th>\n",
       "      <th>Open</th>\n",
       "      <th>Close</th>\n",
       "      <th>Volume</th>\n",
       "      <th>Adj Close</th>\n",
       "    </tr>\n",
       "    <tr>\n",
       "      <th>Date</th>\n",
       "      <th></th>\n",
       "      <th></th>\n",
       "      <th></th>\n",
       "      <th></th>\n",
       "      <th></th>\n",
       "      <th></th>\n",
       "    </tr>\n",
       "  </thead>\n",
       "  <tbody>\n",
       "    <tr>\n",
       "      <th>2015-10-26</th>\n",
       "      <td>25960.0</td>\n",
       "      <td>25440.0</td>\n",
       "      <td>25960.0</td>\n",
       "      <td>25840.0</td>\n",
       "      <td>7608250.0</td>\n",
       "      <td>260.791168</td>\n",
       "    </tr>\n",
       "    <tr>\n",
       "      <th>2015-10-27</th>\n",
       "      <td>25980.0</td>\n",
       "      <td>25620.0</td>\n",
       "      <td>25640.0</td>\n",
       "      <td>25960.0</td>\n",
       "      <td>6612050.0</td>\n",
       "      <td>262.002289</td>\n",
       "    </tr>\n",
       "    <tr>\n",
       "      <th>2015-10-28</th>\n",
       "      <td>26160.0</td>\n",
       "      <td>25820.0</td>\n",
       "      <td>25880.0</td>\n",
       "      <td>26160.0</td>\n",
       "      <td>13565150.0</td>\n",
       "      <td>264.020813</td>\n",
       "    </tr>\n",
       "    <tr>\n",
       "      <th>2015-10-29</th>\n",
       "      <td>27840.0</td>\n",
       "      <td>26480.0</td>\n",
       "      <td>26600.0</td>\n",
       "      <td>26500.0</td>\n",
       "      <td>31523550.0</td>\n",
       "      <td>267.452271</td>\n",
       "    </tr>\n",
       "    <tr>\n",
       "      <th>2015-10-30</th>\n",
       "      <td>27800.0</td>\n",
       "      <td>26820.0</td>\n",
       "      <td>26900.0</td>\n",
       "      <td>27440.0</td>\n",
       "      <td>25469250.0</td>\n",
       "      <td>276.939209</td>\n",
       "    </tr>\n",
       "    <tr>\n",
       "      <th>...</th>\n",
       "      <td>...</td>\n",
       "      <td>...</td>\n",
       "      <td>...</td>\n",
       "      <td>...</td>\n",
       "      <td>...</td>\n",
       "      <td>...</td>\n",
       "    </tr>\n",
       "    <tr>\n",
       "      <th>2020-10-19</th>\n",
       "      <td>60200.0</td>\n",
       "      <td>59500.0</td>\n",
       "      <td>59600.0</td>\n",
       "      <td>60000.0</td>\n",
       "      <td>14474985.0</td>\n",
       "      <td>60000.000000</td>\n",
       "    </tr>\n",
       "    <tr>\n",
       "      <th>2020-10-20</th>\n",
       "      <td>60900.0</td>\n",
       "      <td>60100.0</td>\n",
       "      <td>60300.0</td>\n",
       "      <td>60900.0</td>\n",
       "      <td>19326115.0</td>\n",
       "      <td>60900.000000</td>\n",
       "    </tr>\n",
       "    <tr>\n",
       "      <th>2020-10-21</th>\n",
       "      <td>61500.0</td>\n",
       "      <td>60600.0</td>\n",
       "      <td>61200.0</td>\n",
       "      <td>60900.0</td>\n",
       "      <td>15703443.0</td>\n",
       "      <td>60900.000000</td>\n",
       "    </tr>\n",
       "    <tr>\n",
       "      <th>2020-10-22</th>\n",
       "      <td>60500.0</td>\n",
       "      <td>59800.0</td>\n",
       "      <td>60300.0</td>\n",
       "      <td>60100.0</td>\n",
       "      <td>14294095.0</td>\n",
       "      <td>60100.000000</td>\n",
       "    </tr>\n",
       "    <tr>\n",
       "      <th>2020-10-23</th>\n",
       "      <td>60400.0</td>\n",
       "      <td>59800.0</td>\n",
       "      <td>60400.0</td>\n",
       "      <td>60200.0</td>\n",
       "      <td>5561020.0</td>\n",
       "      <td>60200.000000</td>\n",
       "    </tr>\n",
       "  </tbody>\n",
       "</table>\n",
       "<p>1220 rows × 6 columns</p>\n",
       "</div>"
      ],
      "text/plain": [
       "               High      Low     Open    Close      Volume     Adj Close\n",
       "Date                                                                    \n",
       "2015-10-26  25960.0  25440.0  25960.0  25840.0   7608250.0    260.791168\n",
       "2015-10-27  25980.0  25620.0  25640.0  25960.0   6612050.0    262.002289\n",
       "2015-10-28  26160.0  25820.0  25880.0  26160.0  13565150.0    264.020813\n",
       "2015-10-29  27840.0  26480.0  26600.0  26500.0  31523550.0    267.452271\n",
       "2015-10-30  27800.0  26820.0  26900.0  27440.0  25469250.0    276.939209\n",
       "...             ...      ...      ...      ...         ...           ...\n",
       "2020-10-19  60200.0  59500.0  59600.0  60000.0  14474985.0  60000.000000\n",
       "2020-10-20  60900.0  60100.0  60300.0  60900.0  19326115.0  60900.000000\n",
       "2020-10-21  61500.0  60600.0  61200.0  60900.0  15703443.0  60900.000000\n",
       "2020-10-22  60500.0  59800.0  60300.0  60100.0  14294095.0  60100.000000\n",
       "2020-10-23  60400.0  59800.0  60400.0  60200.0   5561020.0  60200.000000\n",
       "\n",
       "[1220 rows x 6 columns]"
      ]
     },
     "execution_count": 7,
     "metadata": {},
     "output_type": "execute_result"
    }
   ],
   "source": [
    "pdr.get_data_yahoo('005930.KS')"
   ]
  },
  {
   "cell_type": "markdown",
   "metadata": {
    "id": "PstL5oYbV3BZ"
   },
   "source": [
    "1. 종목코드 뽑아내기\n",
    "2. 종목코드 입력해서 주가 뽑아내기\n",
    "3. RNN 이용해서 종목 분석"
   ]
  },
  {
   "cell_type": "code",
   "execution_count": 8,
   "metadata": {
    "executionInfo": {
     "elapsed": 742,
     "status": "ok",
     "timestamp": 1603421370248,
     "user": {
      "displayName": "조상우",
      "photoUrl": "",
      "userId": "07314295018904412395"
     },
     "user_tz": -540
    },
    "id": "9I7uZOPiWZbW"
   },
   "outputs": [],
   "source": [
    "df_code = df.loc[:, ['종목코드']]"
   ]
  },
  {
   "cell_type": "code",
   "execution_count": 9,
   "metadata": {
    "executionInfo": {
     "elapsed": 1448,
     "status": "ok",
     "timestamp": 1603428262512,
     "user": {
      "displayName": "조상우",
      "photoUrl": "",
      "userId": "07314295018904412395"
     },
     "user_tz": -540
    },
    "id": "c5-miQOGoduK"
   },
   "outputs": [],
   "source": [
    "lg_c = pdr.get_data_yahoo('051910.KS')"
   ]
  },
  {
   "cell_type": "code",
   "execution_count": 1,
   "metadata": {
    "executionInfo": {
     "elapsed": 797,
     "status": "ok",
     "timestamp": 1603428264657,
     "user": {
      "displayName": "조상우",
      "photoUrl": "",
      "userId": "07314295018904412395"
     },
     "user_tz": -540
    },
    "id": "fOAxvB3LooBZ"
   },
   "outputs": [
    {
     "ename": "NameError",
     "evalue": "name 'lg_c' is not defined",
     "output_type": "error",
     "traceback": [
      "\u001b[1;31m---------------------------------------------------------------------------\u001b[0m",
      "\u001b[1;31mNameError\u001b[0m                                 Traceback (most recent call last)",
      "\u001b[1;32m<ipython-input-1-557a8f774cc8>\u001b[0m in \u001b[0;36m<module>\u001b[1;34m\u001b[0m\n\u001b[1;32m----> 1\u001b[1;33m \u001b[0mlg_c\u001b[0m \u001b[1;33m=\u001b[0m \u001b[0mlg_c\u001b[0m\u001b[1;33m.\u001b[0m\u001b[0mloc\u001b[0m\u001b[1;33m[\u001b[0m\u001b[1;33m:\u001b[0m\u001b[1;33m,\u001b[0m \u001b[1;33m[\u001b[0m\u001b[1;34m'Close'\u001b[0m\u001b[1;33m]\u001b[0m\u001b[1;33m]\u001b[0m\u001b[1;33m\u001b[0m\u001b[1;33m\u001b[0m\u001b[0m\n\u001b[0m",
      "\u001b[1;31mNameError\u001b[0m: name 'lg_c' is not defined"
     ]
    }
   ],
   "source": [
    "lg_c = lg_c.loc[:, ['Close']]"
   ]
  },
  {
   "cell_type": "code",
   "execution_count": 11,
   "metadata": {
    "executionInfo": {
     "elapsed": 1107,
     "status": "ok",
     "timestamp": 1603426070301,
     "user": {
      "displayName": "조상우",
      "photoUrl": "",
      "userId": "07314295018904412395"
     },
     "user_tz": -540
    },
    "id": "4m4vTb03pCGA"
   },
   "outputs": [],
   "source": [
    "from sklearn.preprocessing import MinMaxScaler"
   ]
  },
  {
   "cell_type": "code",
   "execution_count": 12,
   "metadata": {
    "executionInfo": {
     "elapsed": 755,
     "status": "ok",
     "timestamp": 1603426076218,
     "user": {
      "displayName": "조상우",
      "photoUrl": "",
      "userId": "07314295018904412395"
     },
     "user_tz": -540
    },
    "id": "O2zGmP8EpCqN"
   },
   "outputs": [],
   "source": [
    "scaler = MinMaxScaler()"
   ]
  },
  {
   "cell_type": "code",
   "execution_count": 13,
   "metadata": {
    "colab": {
     "base_uri": "https://localhost:8080/",
     "height": 35
    },
    "executionInfo": {
     "elapsed": 990,
     "status": "ok",
     "timestamp": 1603428274082,
     "user": {
      "displayName": "조상우",
      "photoUrl": "",
      "userId": "07314295018904412395"
     },
     "user_tz": -540
    },
    "id": "QON6Rhi_pEMa",
    "outputId": "98bcd2a7-ffcd-4d34-8db6-327785391ffd"
   },
   "outputs": [
    {
     "data": {
      "text/plain": [
       "MinMaxScaler()"
      ]
     },
     "execution_count": 13,
     "metadata": {},
     "output_type": "execute_result"
    }
   ],
   "source": [
    "scaler.fit(lg_c)"
   ]
  },
  {
   "cell_type": "code",
   "execution_count": 14,
   "metadata": {
    "executionInfo": {
     "elapsed": 811,
     "status": "ok",
     "timestamp": 1603428276266,
     "user": {
      "displayName": "조상우",
      "photoUrl": "",
      "userId": "07314295018904412395"
     },
     "user_tz": -540
    },
    "id": "-xHQ08XZpITo"
   },
   "outputs": [],
   "source": [
    "s_train = scaler.transform(lg_c)"
   ]
  },
  {
   "cell_type": "code",
   "execution_count": 15,
   "metadata": {
    "executionInfo": {
     "elapsed": 2381,
     "status": "ok",
     "timestamp": 1603426261661,
     "user": {
      "displayName": "조상우",
      "photoUrl": "",
      "userId": "07314295018904412395"
     },
     "user_tz": -540
    },
    "id": "j4pUBWF3pu5c"
   },
   "outputs": [],
   "source": [
    "from tensorflow.keras.preprocessing.sequence import TimeseriesGenerator"
   ]
  },
  {
   "cell_type": "code",
   "execution_count": 16,
   "metadata": {
    "executionInfo": {
     "elapsed": 787,
     "status": "ok",
     "timestamp": 1603426516708,
     "user": {
      "displayName": "조상우",
      "photoUrl": "",
      "userId": "07314295018904412395"
     },
     "user_tz": -540
    },
    "id": "W0DkCNVjpxEa"
   },
   "outputs": [],
   "source": [
    "length = 30\n",
    "generator = TimeseriesGenerator(s_train, s_train, length=length, batch_size=2)"
   ]
  },
  {
   "cell_type": "code",
   "execution_count": 17,
   "metadata": {
    "executionInfo": {
     "elapsed": 575,
     "status": "ok",
     "timestamp": 1603426280618,
     "user": {
      "displayName": "조상우",
      "photoUrl": "",
      "userId": "07314295018904412395"
     },
     "user_tz": -540
    },
    "id": "40ubdQ5lp0Ht"
   },
   "outputs": [],
   "source": [
    "import tensorflow as tf"
   ]
  },
  {
   "cell_type": "code",
   "execution_count": 18,
   "metadata": {
    "executionInfo": {
     "elapsed": 797,
     "status": "ok",
     "timestamp": 1603427032064,
     "user": {
      "displayName": "조상우",
      "photoUrl": "",
      "userId": "07314295018904412395"
     },
     "user_tz": -540
    },
    "id": "8SEg04I3p2I6"
   },
   "outputs": [],
   "source": [
    "model_LSTM = tf.keras.models.Sequential()\n",
    "model_LSTM.add(tf.keras.layers.LSTM(50, input_shape=(30,1)))\n",
    "model_LSTM.add(tf.keras.layers.Dense(1))"
   ]
  },
  {
   "cell_type": "code",
   "execution_count": 19,
   "metadata": {
    "executionInfo": {
     "elapsed": 925,
     "status": "ok",
     "timestamp": 1603427034434,
     "user": {
      "displayName": "조상우",
      "photoUrl": "",
      "userId": "07314295018904412395"
     },
     "user_tz": -540
    },
    "id": "Koatki-ep-7w"
   },
   "outputs": [],
   "source": [
    "model_LSTM.compile(optimizer='adam', loss='mse')"
   ]
  },
  {
   "cell_type": "code",
   "execution_count": 20,
   "metadata": {
    "colab": {
     "base_uri": "https://localhost:8080/",
     "height": 215
    },
    "executionInfo": {
     "elapsed": 39508,
     "status": "ok",
     "timestamp": 1603427078609,
     "user": {
      "displayName": "조상우",
      "photoUrl": "",
      "userId": "07314295018904412395"
     },
     "user_tz": -540
    },
    "id": "2p8njCIRqBPR",
    "outputId": "8f04643f-328a-402c-d9d7-d34820a2f0c3"
   },
   "outputs": [
    {
     "name": "stdout",
     "output_type": "stream",
     "text": [
      "Epoch 1/5\n",
      "595/595 [==============================] - 1s 2ms/step - loss: 0.0021\n",
      "Epoch 2/5\n",
      "595/595 [==============================] - 1s 2ms/step - loss: 0.0011\n",
      "Epoch 3/5\n",
      "595/595 [==============================] - 1s 2ms/step - loss: 8.5398e-04\n",
      "Epoch 4/5\n",
      "595/595 [==============================] - 1s 2ms/step - loss: 6.3641e-04\n",
      "Epoch 5/5\n",
      "595/595 [==============================] - 1s 2ms/step - loss: 5.1456e-04\n"
     ]
    },
    {
     "data": {
      "text/plain": [
       "<tensorflow.python.keras.callbacks.History at 0x1ae5ad09eb0>"
      ]
     },
     "execution_count": 20,
     "metadata": {},
     "output_type": "execute_result"
    }
   ],
   "source": [
    "model_LSTM.fit(generator, epochs = 5)"
   ]
  },
  {
   "cell_type": "code",
   "execution_count": 21,
   "metadata": {
    "executionInfo": {
     "elapsed": 889,
     "status": "ok",
     "timestamp": 1603426996851,
     "user": {
      "displayName": "조상우",
      "photoUrl": "",
      "userId": "07314295018904412395"
     },
     "user_tz": -540
    },
    "id": "uyf4WlXVshfG"
   },
   "outputs": [],
   "source": [
    "batch = s_train[-length:]"
   ]
  },
  {
   "cell_type": "code",
   "execution_count": 22,
   "metadata": {
    "executionInfo": {
     "elapsed": 2064,
     "status": "ok",
     "timestamp": 1603427106836,
     "user": {
      "displayName": "조상우",
      "photoUrl": "",
      "userId": "07314295018904412395"
     },
     "user_tz": -540
    },
    "id": "Q2xq6viws93M"
   },
   "outputs": [],
   "source": [
    "import numpy as np"
   ]
  },
  {
   "cell_type": "code",
   "execution_count": 23,
   "metadata": {
    "executionInfo": {
     "elapsed": 2177,
     "status": "ok",
     "timestamp": 1603428722496,
     "user": {
      "displayName": "조상우",
      "photoUrl": "",
      "userId": "07314295018904412395"
     },
     "user_tz": -540
    },
    "id": "zy6vzZDxqEDK"
   },
   "outputs": [],
   "source": [
    "forecast_LSTM = []\n",
    "c_batch = batch.reshape((1, length, 1))\n",
    "\n",
    "for i in range(30):\n",
    "    c_predict = model_LSTM.predict(c_batch)[0]\n",
    "    forecast_LSTM.append(c_predict)\n",
    "    c_batch = np.append(c_batch[:,1:,:],[[c_predict]], axis = 1)"
   ]
  },
  {
   "cell_type": "code",
   "execution_count": 24,
   "metadata": {
    "executionInfo": {
     "elapsed": 926,
     "status": "ok",
     "timestamp": 1603428725387,
     "user": {
      "displayName": "조상우",
      "photoUrl": "",
      "userId": "07314295018904412395"
     },
     "user_tz": -540
    },
    "id": "LSMqGJkMtEB7"
   },
   "outputs": [],
   "source": [
    "forecast_LSTM = scaler.inverse_transform(forecast_LSTM)"
   ]
  },
  {
   "cell_type": "code",
   "execution_count": 25,
   "metadata": {
    "executionInfo": {
     "elapsed": 864,
     "status": "ok",
     "timestamp": 1603427369129,
     "user": {
      "displayName": "조상우",
      "photoUrl": "",
      "userId": "07314295018904412395"
     },
     "user_tz": -540
    },
    "id": "1YD85aMDtRgf"
   },
   "outputs": [],
   "source": [
    "import matplotlib.pyplot as plt\n",
    "import datetime as dt"
   ]
  },
  {
   "cell_type": "code",
   "execution_count": 26,
   "metadata": {
    "executionInfo": {
     "elapsed": 924,
     "status": "ok",
     "timestamp": 1603428728222,
     "user": {
      "displayName": "조상우",
      "photoUrl": "",
      "userId": "07314295018904412395"
     },
     "user_tz": -540
    },
    "id": "fAGCBe84uAU_"
   },
   "outputs": [],
   "source": [
    "forecast_ind = np.arange(1220, 1250 ,step = 1)"
   ]
  },
  {
   "cell_type": "code",
   "execution_count": 27,
   "metadata": {
    "executionInfo": {
     "elapsed": 791,
     "status": "ok",
     "timestamp": 1603428630711,
     "user": {
      "displayName": "조상우",
      "photoUrl": "",
      "userId": "07314295018904412395"
     },
     "user_tz": -540
    },
    "id": "89oWfrQcyvoE"
   },
   "outputs": [],
   "source": [
    "lg_c.set_index('Close', inplace=True)"
   ]
  },
  {
   "cell_type": "code",
   "execution_count": 28,
   "metadata": {
    "executionInfo": {
     "elapsed": 975,
     "status": "ok",
     "timestamp": 1603428664695,
     "user": {
      "displayName": "조상우",
      "photoUrl": "",
      "userId": "07314295018904412395"
     },
     "user_tz": -540
    },
    "id": "l9dw_cZ5yzaS"
   },
   "outputs": [],
   "source": [
    "lg_c_r = lg_c.reset_index()"
   ]
  },
  {
   "cell_type": "code",
   "execution_count": 29,
   "metadata": {
    "colab": {
     "base_uri": "https://localhost:8080/",
     "height": 283
    },
    "executionInfo": {
     "elapsed": 1099,
     "status": "ok",
     "timestamp": 1603428746513,
     "user": {
      "displayName": "조상우",
      "photoUrl": "",
      "userId": "07314295018904412395"
     },
     "user_tz": -540
    },
    "id": "gu75gKB0tJOS",
    "outputId": "47247367-83f5-4099-82bb-b2d8ca66927c"
   },
   "outputs": [
    {
     "data": {
      "text/plain": [
       "[<matplotlib.lines.Line2D at 0x1afdf0cc1f0>]"
      ]
     },
     "execution_count": 29,
     "metadata": {},
     "output_type": "execute_result"
    },
    {
     "data": {
      "image/png": "[encoded data removed]",
      "text/plain": [
       "<Figure size 432x288 with 1 Axes>"
      ]
     },
     "metadata": {
      "needs_background": "light"
     },
     "output_type": "display_data"
    }
   ],
   "source": [
    "plt.plot(lg_c_r.index, lg_c_r['Close'])\n",
    "plt.plot(forecast_ind, forecast_LSTM)"
   ]
  },
  {
   "cell_type": "code",
   "execution_count": null,
   "metadata": {},
   "outputs": [],
   "source": []
  }
 ],
 "metadata": {
  "colab": {
   "collapsed_sections": [],
   "name": "week3-day5-2.ipynb",
   "provenance": []
  },
  "kernelspec": {
   "display_name": "Python 3",
   "language": "python",
   "name": "python3"
  },
  "language_info": {
   "codemirror_mode": {
    "name": "ipython",
    "version": 3
   },
   "file_extension": ".py",
   "mimetype": "text/x-python",
   "name": "python",
   "nbconvert_exporter": "python",
   "pygments_lexer": "ipython3",
   "version": "3.8.3"
  }
 },
 "nbformat": 4,
 "nbformat_minor": 4
}
