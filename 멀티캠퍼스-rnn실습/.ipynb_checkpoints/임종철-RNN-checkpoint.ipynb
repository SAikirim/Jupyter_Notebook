{
  "nbformat": 4,
  "nbformat_minor": 0,
  "metadata": {
    "colab": {
      "name": "RNN-임종철.ipynb",
      "provenance": []
    },
    "kernelspec": {
      "name": "python3",
      "display_name": "Python 3"
    }
  },
  "cells": [
    {
      "cell_type": "code",
      "metadata": {
        "id": "ljwzZLeWqog-",
        "outputId": "80bf2c2c-67c5-45b6-86b2-5b16c210659a",
        "colab": {
          "base_uri": "https://localhost:8080/",
          "height": 34
        }
      },
      "source": [
        "import tensorflow as tf\n",
        "import numpy as np\n",
        "import pandas as pd\n",
        "import matplotlib.pyplot as plt\n",
        "\n",
        "tf.config.list_physical_devices('GPU')"
      ],
      "execution_count": 8,
      "outputs": [
        {
          "output_type": "execute_result",
          "data": {
            "text/plain": [
              "[]"
            ]
          },
          "metadata": {
            "tags": []
          },
          "execution_count": 8
        }
      ]
    },
    {
      "cell_type": "code",
      "metadata": {
        "id": "tE69sapVqABa",
        "outputId": "aafa43df-9932-45cc-9ff8-613e4807dca8",
        "colab": {
          "base_uri": "https://localhost:8080/",
          "height": 381
        }
      },
      "source": [
        "import pandas as pd\n",
        "\n",
        "df = pd.read_html('http://kind.krx.co.kr/corpgeneral/corpList.do?method=download', header=0)[0]\n",
        "!pip install lxml\n",
        "df.head()"
      ],
      "execution_count": 1,
      "outputs": [
        {
          "output_type": "stream",
          "text": [
            "Requirement already satisfied: lxml in /usr/local/lib/python3.6/dist-packages (4.2.6)\n"
          ],
          "name": "stdout"
        },
        {
          "output_type": "execute_result",
          "data": {
            "text/html": [
              "<div>\n",
              "<style scoped>\n",
              "    .dataframe tbody tr th:only-of-type {\n",
              "        vertical-align: middle;\n",
              "    }\n",
              "\n",
              "    .dataframe tbody tr th {\n",
              "        vertical-align: top;\n",
              "    }\n",
              "\n",
              "    .dataframe thead th {\n",
              "        text-align: right;\n",
              "    }\n",
              "</style>\n",
              "<table border=\"1\" class=\"dataframe\">\n",
              "  <thead>\n",
              "    <tr style=\"text-align: right;\">\n",
              "      <th></th>\n",
              "      <th>회사명</th>\n",
              "      <th>종목코드</th>\n",
              "      <th>업종</th>\n",
              "      <th>주요제품</th>\n",
              "      <th>상장일</th>\n",
              "      <th>결산월</th>\n",
              "      <th>대표자명</th>\n",
              "      <th>홈페이지</th>\n",
              "      <th>지역</th>\n",
              "    </tr>\n",
              "  </thead>\n",
              "  <tbody>\n",
              "    <tr>\n",
              "      <th>0</th>\n",
              "      <td>JS전선</td>\n",
              "      <td>5560</td>\n",
              "      <td>절연선 및 케이블 제조업</td>\n",
              "      <td>선박선,고무선,전력선,통신선 제조</td>\n",
              "      <td>2007-11-12</td>\n",
              "      <td>12월</td>\n",
              "      <td>이익희</td>\n",
              "      <td>http://www.jscable.co.kr</td>\n",
              "      <td>충청남도</td>\n",
              "    </tr>\n",
              "    <tr>\n",
              "      <th>1</th>\n",
              "      <td>거북선2호</td>\n",
              "      <td>101380</td>\n",
              "      <td>NaN</td>\n",
              "      <td>운송장비(선박) 임대</td>\n",
              "      <td>2008-04-25</td>\n",
              "      <td>12월</td>\n",
              "      <td>신주선</td>\n",
              "      <td>NaN</td>\n",
              "      <td>부산광역시</td>\n",
              "    </tr>\n",
              "    <tr>\n",
              "      <th>2</th>\n",
              "      <td>거북선6호</td>\n",
              "      <td>114140</td>\n",
              "      <td>NaN</td>\n",
              "      <td>NaN</td>\n",
              "      <td>2009-10-01</td>\n",
              "      <td>12월</td>\n",
              "      <td>김연신</td>\n",
              "      <td>NaN</td>\n",
              "      <td>제주특별자치도</td>\n",
              "    </tr>\n",
              "    <tr>\n",
              "      <th>3</th>\n",
              "      <td>교보메리츠</td>\n",
              "      <td>64900</td>\n",
              "      <td>NaN</td>\n",
              "      <td>부동산 투자,운용</td>\n",
              "      <td>2002-01-30</td>\n",
              "      <td>12월</td>\n",
              "      <td>김 상 진</td>\n",
              "      <td>NaN</td>\n",
              "      <td>서울특별시</td>\n",
              "    </tr>\n",
              "    <tr>\n",
              "      <th>4</th>\n",
              "      <td>국제관광공사</td>\n",
              "      <td>28780</td>\n",
              "      <td>NaN</td>\n",
              "      <td>NaN</td>\n",
              "      <td>1966-03-18</td>\n",
              "      <td>12월</td>\n",
              "      <td>NaN</td>\n",
              "      <td>NaN</td>\n",
              "      <td>NaN</td>\n",
              "    </tr>\n",
              "  </tbody>\n",
              "</table>\n",
              "</div>"
            ],
            "text/plain": [
              "      회사명    종목코드             업종  ...   대표자명                      홈페이지       지역\n",
              "0    JS전선    5560  절연선 및 케이블 제조업  ...    이익희  http://www.jscable.co.kr     충청남도\n",
              "1   거북선2호  101380            NaN  ...    신주선                       NaN    부산광역시\n",
              "2   거북선6호  114140            NaN  ...    김연신                       NaN  제주특별자치도\n",
              "3   교보메리츠   64900            NaN  ...  김 상 진                       NaN    서울특별시\n",
              "4  국제관광공사   28780            NaN  ...    NaN                       NaN      NaN\n",
              "\n",
              "[5 rows x 9 columns]"
            ]
          },
          "metadata": {
            "tags": []
          },
          "execution_count": 1
        }
      ]
    },
    {
      "cell_type": "markdown",
      "metadata": {
        "id": "CpOT6Y5dRMkL"
      },
      "source": [
        "# 종목코드 갖고 오기"
      ]
    },
    {
      "cell_type": "code",
      "metadata": {
        "id": "6bkHTVnQRB_c",
        "outputId": "e6949c90-47d2-40a1-f855-e47610b649ce",
        "colab": {
          "base_uri": "https://localhost:8080/",
          "height": 662
        }
      },
      "source": [
        "!pip install pandas_datareader\n",
        "import pandas_datareader as pdr\n",
        "yahoo = pdr.get_data_yahoo('000270.KS')\n",
        "yahoo"
      ],
      "execution_count": 2,
      "outputs": [
        {
          "output_type": "stream",
          "text": [
            "Requirement already satisfied: pandas_datareader in /usr/local/lib/python3.6/dist-packages (0.9.0)\n",
            "Requirement already satisfied: pandas>=0.23 in /usr/local/lib/python3.6/dist-packages (from pandas_datareader) (1.1.2)\n",
            "Requirement already satisfied: lxml in /usr/local/lib/python3.6/dist-packages (from pandas_datareader) (4.2.6)\n",
            "Requirement already satisfied: requests>=2.19.0 in /usr/local/lib/python3.6/dist-packages (from pandas_datareader) (2.23.0)\n",
            "Requirement already satisfied: pytz>=2017.2 in /usr/local/lib/python3.6/dist-packages (from pandas>=0.23->pandas_datareader) (2018.9)\n",
            "Requirement already satisfied: numpy>=1.15.4 in /usr/local/lib/python3.6/dist-packages (from pandas>=0.23->pandas_datareader) (1.18.5)\n",
            "Requirement already satisfied: python-dateutil>=2.7.3 in /usr/local/lib/python3.6/dist-packages (from pandas>=0.23->pandas_datareader) (2.8.1)\n",
            "Requirement already satisfied: chardet<4,>=3.0.2 in /usr/local/lib/python3.6/dist-packages (from requests>=2.19.0->pandas_datareader) (3.0.4)\n",
            "Requirement already satisfied: urllib3!=1.25.0,!=1.25.1,<1.26,>=1.21.1 in /usr/local/lib/python3.6/dist-packages (from requests>=2.19.0->pandas_datareader) (1.24.3)\n",
            "Requirement already satisfied: idna<3,>=2.5 in /usr/local/lib/python3.6/dist-packages (from requests>=2.19.0->pandas_datareader) (2.10)\n",
            "Requirement already satisfied: certifi>=2017.4.17 in /usr/local/lib/python3.6/dist-packages (from requests>=2.19.0->pandas_datareader) (2020.6.20)\n",
            "Requirement already satisfied: six>=1.5 in /usr/local/lib/python3.6/dist-packages (from python-dateutil>=2.7.3->pandas>=0.23->pandas_datareader) (1.15.0)\n"
          ],
          "name": "stdout"
        },
        {
          "output_type": "execute_result",
          "data": {
            "text/html": [
              "<div>\n",
              "<style scoped>\n",
              "    .dataframe tbody tr th:only-of-type {\n",
              "        vertical-align: middle;\n",
              "    }\n",
              "\n",
              "    .dataframe tbody tr th {\n",
              "        vertical-align: top;\n",
              "    }\n",
              "\n",
              "    .dataframe thead th {\n",
              "        text-align: right;\n",
              "    }\n",
              "</style>\n",
              "<table border=\"1\" class=\"dataframe\">\n",
              "  <thead>\n",
              "    <tr style=\"text-align: right;\">\n",
              "      <th></th>\n",
              "      <th>High</th>\n",
              "      <th>Low</th>\n",
              "      <th>Open</th>\n",
              "      <th>Close</th>\n",
              "      <th>Volume</th>\n",
              "      <th>Adj Close</th>\n",
              "    </tr>\n",
              "    <tr>\n",
              "      <th>Date</th>\n",
              "      <th></th>\n",
              "      <th></th>\n",
              "      <th></th>\n",
              "      <th></th>\n",
              "      <th></th>\n",
              "      <th></th>\n",
              "    </tr>\n",
              "  </thead>\n",
              "  <tbody>\n",
              "    <tr>\n",
              "      <th>2015-10-26</th>\n",
              "      <td>54800.0</td>\n",
              "      <td>53700.0</td>\n",
              "      <td>53700.0</td>\n",
              "      <td>54600.0</td>\n",
              "      <td>837088.0</td>\n",
              "      <td>49344.511719</td>\n",
              "    </tr>\n",
              "    <tr>\n",
              "      <th>2015-10-27</th>\n",
              "      <td>55300.0</td>\n",
              "      <td>54000.0</td>\n",
              "      <td>54900.0</td>\n",
              "      <td>55100.0</td>\n",
              "      <td>1037136.0</td>\n",
              "      <td>49796.386719</td>\n",
              "    </tr>\n",
              "    <tr>\n",
              "      <th>2015-10-28</th>\n",
              "      <td>55500.0</td>\n",
              "      <td>54100.0</td>\n",
              "      <td>55500.0</td>\n",
              "      <td>54800.0</td>\n",
              "      <td>762999.0</td>\n",
              "      <td>49525.261719</td>\n",
              "    </tr>\n",
              "    <tr>\n",
              "      <th>2015-10-29</th>\n",
              "      <td>55300.0</td>\n",
              "      <td>54200.0</td>\n",
              "      <td>54300.0</td>\n",
              "      <td>54800.0</td>\n",
              "      <td>511535.0</td>\n",
              "      <td>49525.261719</td>\n",
              "    </tr>\n",
              "    <tr>\n",
              "      <th>2015-10-30</th>\n",
              "      <td>55900.0</td>\n",
              "      <td>54300.0</td>\n",
              "      <td>54800.0</td>\n",
              "      <td>55800.0</td>\n",
              "      <td>979684.0</td>\n",
              "      <td>50429.007812</td>\n",
              "    </tr>\n",
              "    <tr>\n",
              "      <th>...</th>\n",
              "      <td>...</td>\n",
              "      <td>...</td>\n",
              "      <td>...</td>\n",
              "      <td>...</td>\n",
              "      <td>...</td>\n",
              "      <td>...</td>\n",
              "    </tr>\n",
              "    <tr>\n",
              "      <th>2020-10-19</th>\n",
              "      <td>47750.0</td>\n",
              "      <td>46600.0</td>\n",
              "      <td>47000.0</td>\n",
              "      <td>46700.0</td>\n",
              "      <td>1536628.0</td>\n",
              "      <td>46700.000000</td>\n",
              "    </tr>\n",
              "    <tr>\n",
              "      <th>2020-10-20</th>\n",
              "      <td>47150.0</td>\n",
              "      <td>43150.0</td>\n",
              "      <td>43150.0</td>\n",
              "      <td>46850.0</td>\n",
              "      <td>4399855.0</td>\n",
              "      <td>46850.000000</td>\n",
              "    </tr>\n",
              "    <tr>\n",
              "      <th>2020-10-21</th>\n",
              "      <td>46750.0</td>\n",
              "      <td>45050.0</td>\n",
              "      <td>46550.0</td>\n",
              "      <td>45450.0</td>\n",
              "      <td>2311018.0</td>\n",
              "      <td>45450.000000</td>\n",
              "    </tr>\n",
              "    <tr>\n",
              "      <th>2020-10-22</th>\n",
              "      <td>45450.0</td>\n",
              "      <td>44300.0</td>\n",
              "      <td>44900.0</td>\n",
              "      <td>45200.0</td>\n",
              "      <td>1650240.0</td>\n",
              "      <td>45200.000000</td>\n",
              "    </tr>\n",
              "    <tr>\n",
              "      <th>2020-10-23</th>\n",
              "      <td>46650.0</td>\n",
              "      <td>45250.0</td>\n",
              "      <td>45250.0</td>\n",
              "      <td>46350.0</td>\n",
              "      <td>1335058.0</td>\n",
              "      <td>46350.000000</td>\n",
              "    </tr>\n",
              "  </tbody>\n",
              "</table>\n",
              "<p>1220 rows × 6 columns</p>\n",
              "</div>"
            ],
            "text/plain": [
              "               High      Low     Open    Close     Volume     Adj Close\n",
              "Date                                                                   \n",
              "2015-10-26  54800.0  53700.0  53700.0  54600.0   837088.0  49344.511719\n",
              "2015-10-27  55300.0  54000.0  54900.0  55100.0  1037136.0  49796.386719\n",
              "2015-10-28  55500.0  54100.0  55500.0  54800.0   762999.0  49525.261719\n",
              "2015-10-29  55300.0  54200.0  54300.0  54800.0   511535.0  49525.261719\n",
              "2015-10-30  55900.0  54300.0  54800.0  55800.0   979684.0  50429.007812\n",
              "...             ...      ...      ...      ...        ...           ...\n",
              "2020-10-19  47750.0  46600.0  47000.0  46700.0  1536628.0  46700.000000\n",
              "2020-10-20  47150.0  43150.0  43150.0  46850.0  4399855.0  46850.000000\n",
              "2020-10-21  46750.0  45050.0  46550.0  45450.0  2311018.0  45450.000000\n",
              "2020-10-22  45450.0  44300.0  44900.0  45200.0  1650240.0  45200.000000\n",
              "2020-10-23  46650.0  45250.0  45250.0  46350.0  1335058.0  46350.000000\n",
              "\n",
              "[1220 rows x 6 columns]"
            ]
          },
          "metadata": {
            "tags": []
          },
          "execution_count": 2
        }
      ]
    },
    {
      "cell_type": "markdown",
      "metadata": {
        "id": "8Ps7c1y_WYDO"
      },
      "source": [
        "1. 종목 코드 뽑아내기\n",
        "2. 종목코드 입력해서 주가 뽑아내기\n",
        "3. RNN 이용해서 종목 분석\n",
        "* RNN-이름.ipynb : 메일로 제출\n",
        "* 추천종목 포함해서 보내세요"
      ]
    },
    {
      "cell_type": "code",
      "metadata": {
        "id": "TZbsgazpVJGI",
        "outputId": "8ed8860d-ddec-457d-c225-d0af044966d4",
        "colab": {
          "base_uri": "https://localhost:8080/",
          "height": 402
        }
      },
      "source": [
        "# 종목 코드 뽑아내기\n",
        "new_df = df[['회사명', '종목코드']]\n",
        "new_df"
      ],
      "execution_count": 3,
      "outputs": [
        {
          "output_type": "execute_result",
          "data": {
            "text/html": [
              "<div>\n",
              "<style scoped>\n",
              "    .dataframe tbody tr th:only-of-type {\n",
              "        vertical-align: middle;\n",
              "    }\n",
              "\n",
              "    .dataframe tbody tr th {\n",
              "        vertical-align: top;\n",
              "    }\n",
              "\n",
              "    .dataframe thead th {\n",
              "        text-align: right;\n",
              "    }\n",
              "</style>\n",
              "<table border=\"1\" class=\"dataframe\">\n",
              "  <thead>\n",
              "    <tr style=\"text-align: right;\">\n",
              "      <th></th>\n",
              "      <th>회사명</th>\n",
              "      <th>종목코드</th>\n",
              "    </tr>\n",
              "  </thead>\n",
              "  <tbody>\n",
              "    <tr>\n",
              "      <th>0</th>\n",
              "      <td>JS전선</td>\n",
              "      <td>5560</td>\n",
              "    </tr>\n",
              "    <tr>\n",
              "      <th>1</th>\n",
              "      <td>거북선2호</td>\n",
              "      <td>101380</td>\n",
              "    </tr>\n",
              "    <tr>\n",
              "      <th>2</th>\n",
              "      <td>거북선6호</td>\n",
              "      <td>114140</td>\n",
              "    </tr>\n",
              "    <tr>\n",
              "      <th>3</th>\n",
              "      <td>교보메리츠</td>\n",
              "      <td>64900</td>\n",
              "    </tr>\n",
              "    <tr>\n",
              "      <th>4</th>\n",
              "      <td>국제관광공사</td>\n",
              "      <td>28780</td>\n",
              "    </tr>\n",
              "    <tr>\n",
              "      <th>...</th>\n",
              "      <td>...</td>\n",
              "      <td>...</td>\n",
              "    </tr>\n",
              "    <tr>\n",
              "      <th>3874</th>\n",
              "      <td>툴젠</td>\n",
              "      <td>199800</td>\n",
              "    </tr>\n",
              "    <tr>\n",
              "      <th>3875</th>\n",
              "      <td>플럼라인생명과학</td>\n",
              "      <td>222670</td>\n",
              "    </tr>\n",
              "    <tr>\n",
              "      <th>3876</th>\n",
              "      <td>피엔에이치테크</td>\n",
              "      <td>239890</td>\n",
              "    </tr>\n",
              "    <tr>\n",
              "      <th>3877</th>\n",
              "      <td>한국미라클피플사</td>\n",
              "      <td>331660</td>\n",
              "    </tr>\n",
              "    <tr>\n",
              "      <th>3878</th>\n",
              "      <td>휴벡셀</td>\n",
              "      <td>212310</td>\n",
              "    </tr>\n",
              "  </tbody>\n",
              "</table>\n",
              "<p>3879 rows × 2 columns</p>\n",
              "</div>"
            ],
            "text/plain": [
              "           회사명    종목코드\n",
              "0         JS전선    5560\n",
              "1        거북선2호  101380\n",
              "2        거북선6호  114140\n",
              "3        교보메리츠   64900\n",
              "4       국제관광공사   28780\n",
              "...        ...     ...\n",
              "3874        툴젠  199800\n",
              "3875  플럼라인생명과학  222670\n",
              "3876   피엔에이치테크  239890\n",
              "3877  한국미라클피플사  331660\n",
              "3878       휴벡셀  212310\n",
              "\n",
              "[3879 rows x 2 columns]"
            ]
          },
          "metadata": {
            "tags": []
          },
          "execution_count": 3
        }
      ]
    },
    {
      "cell_type": "code",
      "metadata": {
        "id": "Hijjq2KyZsuR",
        "outputId": "678ac732-07fa-41e8-9536-f6e8afdf283b",
        "colab": {
          "base_uri": "https://localhost:8080/",
          "height": 402
        }
      },
      "source": [
        "# rename\n",
        "rename_df = new_df.rename(columns={'회사명':'name', '종목코드':'code'})\n",
        "rename_df"
      ],
      "execution_count": 4,
      "outputs": [
        {
          "output_type": "execute_result",
          "data": {
            "text/html": [
              "<div>\n",
              "<style scoped>\n",
              "    .dataframe tbody tr th:only-of-type {\n",
              "        vertical-align: middle;\n",
              "    }\n",
              "\n",
              "    .dataframe tbody tr th {\n",
              "        vertical-align: top;\n",
              "    }\n",
              "\n",
              "    .dataframe thead th {\n",
              "        text-align: right;\n",
              "    }\n",
              "</style>\n",
              "<table border=\"1\" class=\"dataframe\">\n",
              "  <thead>\n",
              "    <tr style=\"text-align: right;\">\n",
              "      <th></th>\n",
              "      <th>name</th>\n",
              "      <th>code</th>\n",
              "    </tr>\n",
              "  </thead>\n",
              "  <tbody>\n",
              "    <tr>\n",
              "      <th>0</th>\n",
              "      <td>JS전선</td>\n",
              "      <td>5560</td>\n",
              "    </tr>\n",
              "    <tr>\n",
              "      <th>1</th>\n",
              "      <td>거북선2호</td>\n",
              "      <td>101380</td>\n",
              "    </tr>\n",
              "    <tr>\n",
              "      <th>2</th>\n",
              "      <td>거북선6호</td>\n",
              "      <td>114140</td>\n",
              "    </tr>\n",
              "    <tr>\n",
              "      <th>3</th>\n",
              "      <td>교보메리츠</td>\n",
              "      <td>64900</td>\n",
              "    </tr>\n",
              "    <tr>\n",
              "      <th>4</th>\n",
              "      <td>국제관광공사</td>\n",
              "      <td>28780</td>\n",
              "    </tr>\n",
              "    <tr>\n",
              "      <th>...</th>\n",
              "      <td>...</td>\n",
              "      <td>...</td>\n",
              "    </tr>\n",
              "    <tr>\n",
              "      <th>3874</th>\n",
              "      <td>툴젠</td>\n",
              "      <td>199800</td>\n",
              "    </tr>\n",
              "    <tr>\n",
              "      <th>3875</th>\n",
              "      <td>플럼라인생명과학</td>\n",
              "      <td>222670</td>\n",
              "    </tr>\n",
              "    <tr>\n",
              "      <th>3876</th>\n",
              "      <td>피엔에이치테크</td>\n",
              "      <td>239890</td>\n",
              "    </tr>\n",
              "    <tr>\n",
              "      <th>3877</th>\n",
              "      <td>한국미라클피플사</td>\n",
              "      <td>331660</td>\n",
              "    </tr>\n",
              "    <tr>\n",
              "      <th>3878</th>\n",
              "      <td>휴벡셀</td>\n",
              "      <td>212310</td>\n",
              "    </tr>\n",
              "  </tbody>\n",
              "</table>\n",
              "<p>3879 rows × 2 columns</p>\n",
              "</div>"
            ],
            "text/plain": [
              "          name    code\n",
              "0         JS전선    5560\n",
              "1        거북선2호  101380\n",
              "2        거북선6호  114140\n",
              "3        교보메리츠   64900\n",
              "4       국제관광공사   28780\n",
              "...        ...     ...\n",
              "3874        툴젠  199800\n",
              "3875  플럼라인생명과학  222670\n",
              "3876   피엔에이치테크  239890\n",
              "3877  한국미라클피플사  331660\n",
              "3878       휴벡셀  212310\n",
              "\n",
              "[3879 rows x 2 columns]"
            ]
          },
          "metadata": {
            "tags": []
          },
          "execution_count": 4
        }
      ]
    },
    {
      "cell_type": "code",
      "metadata": {
        "id": "v-gxghOFuKyb",
        "outputId": "bdfae643-bd1f-411a-b7df-11dba55d55e8",
        "colab": {
          "base_uri": "https://localhost:8080/",
          "height": 70
        }
      },
      "source": [
        "def get_code(df, name):\n",
        "    code = df.query(\"name=='{}'\".format(name))['code'].to_string(index=False)\n",
        "    code = code.strip()"
      ],
      "execution_count": 50,
      "outputs": [
        {
          "output_type": "execute_result",
          "data": {
            "text/plain": [
              "name        툴젠\n",
              "code    199800\n",
              "Name: 3874, dtype: object"
            ]
          },
          "metadata": {
            "tags": []
          },
          "execution_count": 50
        }
      ]
    },
    {
      "cell_type": "code",
      "metadata": {
        "id": "OPcnfRNxnWof",
        "outputId": "b4d849ac-cb5d-4b2c-c46f-5d081662398a",
        "colab": {
          "base_uri": "https://localhost:8080/",
          "height": 35
        }
      },
      "source": [
        "# 종목코드 입력해서 주가 뽑아내기\n",
        "recode_df = rename_df.code.map('{:06d}'.format)\n",
        "code = recode_df[3874] + '.KS'\n",
        "code"
      ],
      "execution_count": 44,
      "outputs": [
        {
          "output_type": "execute_result",
          "data": {
            "application/vnd.google.colaboratory.intrinsic+json": {
              "type": "string"
            },
            "text/plain": [
              "'239890.KS'"
            ]
          },
          "metadata": {
            "tags": []
          },
          "execution_count": 44
        }
      ]
    },
    {
      "cell_type": "code",
      "metadata": {
        "id": "guQJuHzHU8Vk",
        "outputId": "848af8c6-815f-45d0-8a6b-f4e5d0662029",
        "colab": {
          "base_uri": "https://localhost:8080/",
          "height": 431
        }
      },
      "source": [
        "# 종목코드 입력해서 주가 뽑아내기\n",
        "data = pdr.get_data_yahoo('199800.KS')\n",
        "data"
      ],
      "execution_count": 51,
      "outputs": [
        {
          "output_type": "execute_result",
          "data": {
            "text/html": [
              "<div>\n",
              "<style scoped>\n",
              "    .dataframe tbody tr th:only-of-type {\n",
              "        vertical-align: middle;\n",
              "    }\n",
              "\n",
              "    .dataframe tbody tr th {\n",
              "        vertical-align: top;\n",
              "    }\n",
              "\n",
              "    .dataframe thead th {\n",
              "        text-align: right;\n",
              "    }\n",
              "</style>\n",
              "<table border=\"1\" class=\"dataframe\">\n",
              "  <thead>\n",
              "    <tr style=\"text-align: right;\">\n",
              "      <th></th>\n",
              "      <th>High</th>\n",
              "      <th>Low</th>\n",
              "      <th>Open</th>\n",
              "      <th>Close</th>\n",
              "      <th>Volume</th>\n",
              "      <th>Adj Close</th>\n",
              "    </tr>\n",
              "    <tr>\n",
              "      <th>Date</th>\n",
              "      <th></th>\n",
              "      <th></th>\n",
              "      <th></th>\n",
              "      <th></th>\n",
              "      <th></th>\n",
              "      <th></th>\n",
              "    </tr>\n",
              "  </thead>\n",
              "  <tbody>\n",
              "    <tr>\n",
              "      <th>2015-10-26</th>\n",
              "      <td>18650.0</td>\n",
              "      <td>16750.0</td>\n",
              "      <td>18650.0</td>\n",
              "      <td>18450.0</td>\n",
              "      <td>46.0</td>\n",
              "      <td>18450.0</td>\n",
              "    </tr>\n",
              "    <tr>\n",
              "      <th>2015-10-27</th>\n",
              "      <td>18250.0</td>\n",
              "      <td>17000.0</td>\n",
              "      <td>18250.0</td>\n",
              "      <td>17500.0</td>\n",
              "      <td>1274.0</td>\n",
              "      <td>17500.0</td>\n",
              "    </tr>\n",
              "    <tr>\n",
              "      <th>2015-10-28</th>\n",
              "      <td>18850.0</td>\n",
              "      <td>17500.0</td>\n",
              "      <td>18850.0</td>\n",
              "      <td>17800.0</td>\n",
              "      <td>1279.0</td>\n",
              "      <td>17800.0</td>\n",
              "    </tr>\n",
              "    <tr>\n",
              "      <th>2015-10-29</th>\n",
              "      <td>17800.0</td>\n",
              "      <td>17100.0</td>\n",
              "      <td>17800.0</td>\n",
              "      <td>17800.0</td>\n",
              "      <td>1206.0</td>\n",
              "      <td>17800.0</td>\n",
              "    </tr>\n",
              "    <tr>\n",
              "      <th>2015-10-30</th>\n",
              "      <td>18450.0</td>\n",
              "      <td>17400.0</td>\n",
              "      <td>18450.0</td>\n",
              "      <td>17950.0</td>\n",
              "      <td>142.0</td>\n",
              "      <td>17950.0</td>\n",
              "    </tr>\n",
              "    <tr>\n",
              "      <th>...</th>\n",
              "      <td>...</td>\n",
              "      <td>...</td>\n",
              "      <td>...</td>\n",
              "      <td>...</td>\n",
              "      <td>...</td>\n",
              "      <td>...</td>\n",
              "    </tr>\n",
              "    <tr>\n",
              "      <th>2020-10-16</th>\n",
              "      <td>68600.0</td>\n",
              "      <td>66900.0</td>\n",
              "      <td>67400.0</td>\n",
              "      <td>68300.0</td>\n",
              "      <td>6356.0</td>\n",
              "      <td>68300.0</td>\n",
              "    </tr>\n",
              "    <tr>\n",
              "      <th>2020-10-19</th>\n",
              "      <td>69900.0</td>\n",
              "      <td>67200.0</td>\n",
              "      <td>68500.0</td>\n",
              "      <td>68100.0</td>\n",
              "      <td>7589.0</td>\n",
              "      <td>68100.0</td>\n",
              "    </tr>\n",
              "    <tr>\n",
              "      <th>2020-10-20</th>\n",
              "      <td>68800.0</td>\n",
              "      <td>65600.0</td>\n",
              "      <td>68500.0</td>\n",
              "      <td>67800.0</td>\n",
              "      <td>4805.0</td>\n",
              "      <td>67800.0</td>\n",
              "    </tr>\n",
              "    <tr>\n",
              "      <th>2020-10-21</th>\n",
              "      <td>67800.0</td>\n",
              "      <td>65100.0</td>\n",
              "      <td>67800.0</td>\n",
              "      <td>66400.0</td>\n",
              "      <td>4877.0</td>\n",
              "      <td>66400.0</td>\n",
              "    </tr>\n",
              "    <tr>\n",
              "      <th>2020-10-22</th>\n",
              "      <td>67800.0</td>\n",
              "      <td>62600.0</td>\n",
              "      <td>67800.0</td>\n",
              "      <td>64000.0</td>\n",
              "      <td>10026.0</td>\n",
              "      <td>64000.0</td>\n",
              "    </tr>\n",
              "  </tbody>\n",
              "</table>\n",
              "<p>1255 rows × 6 columns</p>\n",
              "</div>"
            ],
            "text/plain": [
              "               High      Low     Open    Close   Volume  Adj Close\n",
              "Date                                                              \n",
              "2015-10-26  18650.0  16750.0  18650.0  18450.0     46.0    18450.0\n",
              "2015-10-27  18250.0  17000.0  18250.0  17500.0   1274.0    17500.0\n",
              "2015-10-28  18850.0  17500.0  18850.0  17800.0   1279.0    17800.0\n",
              "2015-10-29  17800.0  17100.0  17800.0  17800.0   1206.0    17800.0\n",
              "2015-10-30  18450.0  17400.0  18450.0  17950.0    142.0    17950.0\n",
              "...             ...      ...      ...      ...      ...        ...\n",
              "2020-10-16  68600.0  66900.0  67400.0  68300.0   6356.0    68300.0\n",
              "2020-10-19  69900.0  67200.0  68500.0  68100.0   7589.0    68100.0\n",
              "2020-10-20  68800.0  65600.0  68500.0  67800.0   4805.0    67800.0\n",
              "2020-10-21  67800.0  65100.0  67800.0  66400.0   4877.0    66400.0\n",
              "2020-10-22  67800.0  62600.0  67800.0  64000.0  10026.0    64000.0\n",
              "\n",
              "[1255 rows x 6 columns]"
            ]
          },
          "metadata": {
            "tags": []
          },
          "execution_count": 51
        }
      ]
    },
    {
      "cell_type": "code",
      "metadata": {
        "id": "24GgkPnwRaAy",
        "outputId": "6f77bf57-e706-4a4c-c623-7cb99bf98f12",
        "colab": {
          "base_uri": "https://localhost:8080/",
          "height": 282
        }
      },
      "source": [
        "# 시각화\n",
        "plt.plot(data.index, data[\"Close\"])"
      ],
      "execution_count": 52,
      "outputs": [
        {
          "output_type": "execute_result",
          "data": {
            "text/plain": [
              "[<matplotlib.lines.Line2D at 0x7f55345a11d0>]"
            ]
          },
          "metadata": {
            "tags": []
          },
          "execution_count": 52
        },
        {
          "output_type": "display_data",
          "data": {
            "image/png": "[encoded data removed]",
            "text/plain": [
              "<Figure size 432x288 with 1 Axes>"
            ]
          },
          "metadata": {
            "tags": [],
            "needs_background": "light"
          }
        }
      ]
    },
    {
      "cell_type": "code",
      "metadata": {
        "id": "qDxRrKHQSlB8",
        "outputId": "e7e926e7-f9dc-47e5-94cf-4ab7ab829c4b",
        "colab": {
          "base_uri": "https://localhost:8080/",
          "height": 34
        }
      },
      "source": [
        "cut_line =  int(np.round(data.shape[0] * 0.2))\n",
        "cut_line"
      ],
      "execution_count": 53,
      "outputs": [
        {
          "output_type": "execute_result",
          "data": {
            "text/plain": [
              "251"
            ]
          },
          "metadata": {
            "tags": []
          },
          "execution_count": 53
        }
      ]
    },
    {
      "cell_type": "code",
      "metadata": {
        "id": "BtD5wTuMSJ7Y",
        "outputId": "8a8984a4-38c1-4962-b9bc-d63269c1dab5",
        "colab": {
          "base_uri": "https://localhost:8080/",
          "height": 34
        }
      },
      "source": [
        "# 전처리\n",
        "x_train = pd.DataFrame(data.Close[:-cut_line])\n",
        "x_test = pd.DataFrame(data.Close[-cut_line:])\n",
        "data.shape, x_train.shape, x_test.shape"
      ],
      "execution_count": 54,
      "outputs": [
        {
          "output_type": "execute_result",
          "data": {
            "text/plain": [
              "((1255, 6), (1004, 1), (251, 1))"
            ]
          },
          "metadata": {
            "tags": []
          },
          "execution_count": 54
        }
      ]
    },
    {
      "cell_type": "code",
      "metadata": {
        "id": "XUtqqjlsT4kK",
        "outputId": "49344d1e-c539-402f-c98e-8fd33932963b",
        "colab": {
          "base_uri": "https://localhost:8080/",
          "height": 34
        }
      },
      "source": [
        "# Scale Data, 정규화 과정\n",
        "from sklearn.preprocessing import MinMaxScaler\n",
        "\n",
        "scaler = MinMaxScaler()\n",
        "# MinMaxScaler : 0 ~ 1 사이로 정규화함\n",
        "scaler.fit(x_train)\n",
        "s_train = scaler.transform(x_train)\n",
        "s_test = scaler.transform(x_test)\n",
        "s_train.shape, s_test.shape"
      ],
      "execution_count": 55,
      "outputs": [
        {
          "output_type": "execute_result",
          "data": {
            "text/plain": [
              "((1004, 1), (251, 1))"
            ]
          },
          "metadata": {
            "tags": []
          },
          "execution_count": 55
        }
      ]
    },
    {
      "cell_type": "code",
      "metadata": {
        "id": "8ALAfZwKqf3L"
      },
      "source": [
        "# time series Generator\n",
        "from tensorflow.keras.preprocessing.sequence import TimeseriesGenerator\n",
        "\n",
        "length = 50 # 길어질수록 학습의 정확도는 높아짐\n",
        "ts_train = TimeseriesGenerator(s_train, s_train, length=length, batch_size = 1)\n",
        "ts_test = TimeseriesGenerator(s_test, s_test, length=length, batch_size = 1)\n",
        "# stride: 연속되는 출력 시퀀스 사이의 기간. 보폭이 s이면, 연속되는 출력 샘플은 data[i]를 중심으로, data[i+s], data[i+2*s] 등이 됩니다.\n",
        "# batch_size: 각 배치의 (마지막을 제외한) 시간 단계 샘플의 수.\n",
        "# length = 50 : 50번째 값을 예측함"
      ],
      "execution_count": 57,
      "outputs": []
    },
    {
      "cell_type": "code",
      "metadata": {
        "id": "N5kHYOCcreXx"
      },
      "source": [
        "# lstm\n",
        "model_lstm = tf.keras.models.Sequential()\n",
        "model_lstm.add(tf.keras.layers.LSTM(60, input_shape=(10,1) ))\n",
        "model_lstm.add(tf.keras.layers.Dense(1))"
      ],
      "execution_count": 58,
      "outputs": []
    },
    {
      "cell_type": "code",
      "metadata": {
        "id": "9-pch2o1rnJS"
      },
      "source": [
        "model_lstm.compile(optimizer='adam', loss='mse')"
      ],
      "execution_count": 59,
      "outputs": []
    },
    {
      "cell_type": "code",
      "metadata": {
        "id": "l0e2UAtFrqXH",
        "outputId": "9a0a19c2-fb49-445a-ead6-e26a15b1c904",
        "colab": {
          "base_uri": "https://localhost:8080/",
          "height": 246
        }
      },
      "source": [
        "model_lstm.fit(ts_train, epochs=6)"
      ],
      "execution_count": 60,
      "outputs": [
        {
          "output_type": "stream",
          "text": [
            "Epoch 1/6\n",
            "954/954 [==============================] - 17s 18ms/step - loss: 0.0041\n",
            "Epoch 2/6\n",
            "954/954 [==============================] - 17s 18ms/step - loss: 0.0013\n",
            "Epoch 3/6\n",
            "954/954 [==============================] - 17s 18ms/step - loss: 0.0010\n",
            "Epoch 4/6\n",
            "954/954 [==============================] - 17s 18ms/step - loss: 8.6829e-04\n",
            "Epoch 5/6\n",
            "954/954 [==============================] - 17s 18ms/step - loss: 7.3776e-04\n",
            "Epoch 6/6\n",
            "954/954 [==============================] - 17s 18ms/step - loss: 6.5290e-04\n"
          ],
          "name": "stdout"
        },
        {
          "output_type": "execute_result",
          "data": {
            "text/plain": [
              "<tensorflow.python.keras.callbacks.History at 0x7f55347b9f98>"
            ]
          },
          "metadata": {
            "tags": []
          },
          "execution_count": 60
        }
      ]
    },
    {
      "cell_type": "code",
      "metadata": {
        "id": "7br-oMX7rtgD",
        "outputId": "3bd0b9e5-dfdf-407d-e23d-78de9bcfba02",
        "colab": {
          "base_uri": "https://localhost:8080/",
          "height": 34
        }
      },
      "source": [
        "# 예측 테스트\n",
        "p_test_lstm = model_lstm.predict(ts_test)\n",
        "ts_test[0][0].shape, p_test_lstm.shape"
      ],
      "execution_count": 61,
      "outputs": [
        {
          "output_type": "execute_result",
          "data": {
            "text/plain": [
              "((1, 50, 1), (201, 1))"
            ]
          },
          "metadata": {
            "tags": []
          },
          "execution_count": 61
        }
      ]
    },
    {
      "cell_type": "code",
      "metadata": {
        "id": "pYS3KEBzrzAT"
      },
      "source": [
        "# 정규화 원상복귀\n",
        "r_test_lstm = scaler.inverse_transform(p_test_lstm)\n",
        "# .inverse_transfor : 정규화(0~1) 한 것을 다시 원상 복귀"
      ],
      "execution_count": 62,
      "outputs": []
    },
    {
      "cell_type": "code",
      "metadata": {
        "id": "MPf-vfX2r2s4",
        "outputId": "3d9f1e72-02eb-40f0-afee-d1cae2972738",
        "colab": {
          "base_uri": "https://localhost:8080/",
          "height": 431
        }
      },
      "source": [
        "# x_test 크기 맞추고, 합치기\n",
        "cut_x_test = x_test.drop(x_test.index[0:length])\n",
        "cut_x_test['lstm'] = r_test_lstm\n",
        "cut_x_test"
      ],
      "execution_count": 63,
      "outputs": [
        {
          "output_type": "execute_result",
          "data": {
            "text/html": [
              "<div>\n",
              "<style scoped>\n",
              "    .dataframe tbody tr th:only-of-type {\n",
              "        vertical-align: middle;\n",
              "    }\n",
              "\n",
              "    .dataframe tbody tr th {\n",
              "        vertical-align: top;\n",
              "    }\n",
              "\n",
              "    .dataframe thead th {\n",
              "        text-align: right;\n",
              "    }\n",
              "</style>\n",
              "<table border=\"1\" class=\"dataframe\">\n",
              "  <thead>\n",
              "    <tr style=\"text-align: right;\">\n",
              "      <th></th>\n",
              "      <th>Close</th>\n",
              "      <th>lstm</th>\n",
              "    </tr>\n",
              "    <tr>\n",
              "      <th>Date</th>\n",
              "      <th></th>\n",
              "      <th></th>\n",
              "    </tr>\n",
              "  </thead>\n",
              "  <tbody>\n",
              "    <tr>\n",
              "      <th>2020-01-03</th>\n",
              "      <td>53300.0</td>\n",
              "      <td>55245.972656</td>\n",
              "    </tr>\n",
              "    <tr>\n",
              "      <th>2020-01-06</th>\n",
              "      <td>51900.0</td>\n",
              "      <td>55072.019531</td>\n",
              "    </tr>\n",
              "    <tr>\n",
              "      <th>2020-01-07</th>\n",
              "      <td>51000.0</td>\n",
              "      <td>54063.308594</td>\n",
              "    </tr>\n",
              "    <tr>\n",
              "      <th>2020-01-08</th>\n",
              "      <td>43400.0</td>\n",
              "      <td>52925.660156</td>\n",
              "    </tr>\n",
              "    <tr>\n",
              "      <th>2020-01-09</th>\n",
              "      <td>46050.0</td>\n",
              "      <td>47866.972656</td>\n",
              "    </tr>\n",
              "    <tr>\n",
              "      <th>...</th>\n",
              "      <td>...</td>\n",
              "      <td>...</td>\n",
              "    </tr>\n",
              "    <tr>\n",
              "      <th>2020-10-16</th>\n",
              "      <td>68300.0</td>\n",
              "      <td>70385.812500</td>\n",
              "    </tr>\n",
              "    <tr>\n",
              "      <th>2020-10-19</th>\n",
              "      <td>68100.0</td>\n",
              "      <td>69689.570312</td>\n",
              "    </tr>\n",
              "    <tr>\n",
              "      <th>2020-10-20</th>\n",
              "      <td>67800.0</td>\n",
              "      <td>69520.875000</td>\n",
              "    </tr>\n",
              "    <tr>\n",
              "      <th>2020-10-21</th>\n",
              "      <td>66400.0</td>\n",
              "      <td>69433.828125</td>\n",
              "    </tr>\n",
              "    <tr>\n",
              "      <th>2020-10-22</th>\n",
              "      <td>64000.0</td>\n",
              "      <td>68570.601562</td>\n",
              "    </tr>\n",
              "  </tbody>\n",
              "</table>\n",
              "<p>201 rows × 2 columns</p>\n",
              "</div>"
            ],
            "text/plain": [
              "              Close          lstm\n",
              "Date                             \n",
              "2020-01-03  53300.0  55245.972656\n",
              "2020-01-06  51900.0  55072.019531\n",
              "2020-01-07  51000.0  54063.308594\n",
              "2020-01-08  43400.0  52925.660156\n",
              "2020-01-09  46050.0  47866.972656\n",
              "...             ...           ...\n",
              "2020-10-16  68300.0  70385.812500\n",
              "2020-10-19  68100.0  69689.570312\n",
              "2020-10-20  67800.0  69520.875000\n",
              "2020-10-21  66400.0  69433.828125\n",
              "2020-10-22  64000.0  68570.601562\n",
              "\n",
              "[201 rows x 2 columns]"
            ]
          },
          "metadata": {
            "tags": []
          },
          "execution_count": 63
        }
      ]
    },
    {
      "cell_type": "code",
      "metadata": {
        "id": "6AaOeIJIr6JN",
        "outputId": "5ace3528-e401-446f-a572-582087de7ad0",
        "colab": {
          "base_uri": "https://localhost:8080/",
          "height": 282
        }
      },
      "source": [
        "# 시각화\n",
        "plt.plot(cut_x_test.index, cut_x_test[\"Close\"], linewidth = 4.0)\n",
        "plt.plot(cut_x_test.index, cut_x_test.lstm,color='red', linewidth = 2.0)"
      ],
      "execution_count": 82,
      "outputs": [
        {
          "output_type": "execute_result",
          "data": {
            "text/plain": [
              "[<matplotlib.lines.Line2D at 0x7f552b3239b0>]"
            ]
          },
          "metadata": {
            "tags": []
          },
          "execution_count": 82
        },
        {
          "output_type": "display_data",
          "data": {
            "image/png": "[encoded data removed]",
            "text/plain": [
              "<Figure size 432x288 with 1 Axes>"
            ]
          },
          "metadata": {
            "tags": [],
            "needs_background": "light"
          }
        }
      ]
    },
    {
      "cell_type": "code",
      "metadata": {
        "id": "vz1VbaBusGM0"
      },
      "source": [
        "# 미래 예측\n",
        "batch = s_test[-length:]\n",
        "\n",
        "forecast_LSTM = []\n",
        "c_batch_lstm = batch.reshape((1, length, 1))\n",
        "num = 10\n",
        "\n",
        "for i in range(num):\n",
        "  c_predict_lstm = model_lstm.predict(c_batch_lstm)[0]\n",
        "  forecast_LSTM.append(c_predict_lstm)\n",
        "  c_batch_lstm = np.append(c_batch_lstm[:,1:,:], [[c_predict_lstm]], axis=1)"
      ],
      "execution_count": 93,
      "outputs": []
    },
    {
      "cell_type": "code",
      "metadata": {
        "id": "Ad43OFB_smih",
        "outputId": "68c02e26-0288-4bc5-aa48-0d35f0b7ace3",
        "colab": {
          "base_uri": "https://localhost:8080/",
          "height": 34
        }
      },
      "source": [
        "# 정규화 되돌리기\n",
        "forecast_lstm = scaler.inverse_transform(forecast_LSTM)\n",
        "forecast_lstm.shape"
      ],
      "execution_count": 94,
      "outputs": [
        {
          "output_type": "execute_result",
          "data": {
            "text/plain": [
              "(10, 1)"
            ]
          },
          "metadata": {
            "tags": []
          },
          "execution_count": 94
        }
      ]
    },
    {
      "cell_type": "code",
      "metadata": {
        "id": "GaFrePa-so0j"
      },
      "source": [
        "# shape 맞추기\n",
        "reset_df = cut_x_test.reset_index()\n",
        "forecast_ind = np.arange(reset_df.index[-1], reset_df.index[-1]+num )\n",
        "#forecast_ind"
      ],
      "execution_count": 95,
      "outputs": []
    },
    {
      "cell_type": "code",
      "metadata": {
        "id": "Oxnps9GitAWu",
        "outputId": "074b8f3d-50e1-4e4e-83a6-894505a60275",
        "colab": {
          "base_uri": "https://localhost:8080/",
          "height": 282
        }
      },
      "source": [
        "# 시각화\n",
        "plt.plot(reset_df.index, reset_df[\"Close\"])\n",
        "plt.plot(forecast_ind, forecast_lstm, color='red')"
      ],
      "execution_count": 96,
      "outputs": [
        {
          "output_type": "execute_result",
          "data": {
            "text/plain": [
              "[<matplotlib.lines.Line2D at 0x7f552b2cc278>]"
            ]
          },
          "metadata": {
            "tags": []
          },
          "execution_count": 96
        },
        {
          "output_type": "display_data",
          "data": {
            "image/png": "[encoded data removed]",
            "text/plain": [
              "<Figure size 432x288 with 1 Axes>"
            ]
          },
          "metadata": {
            "tags": [],
            "needs_background": "light"
          }
        }
      ]
    },
    {
      "cell_type": "code",
      "metadata": {
        "id": "9rismtOytAvi"
      },
      "source": [
        ""
      ],
      "execution_count": null,
      "outputs": []
    }
  ]
}