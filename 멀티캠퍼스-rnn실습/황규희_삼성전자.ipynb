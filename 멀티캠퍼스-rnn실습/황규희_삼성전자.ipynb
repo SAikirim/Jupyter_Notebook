{
  "nbformat": 4,
  "nbformat_minor": 0,
  "metadata": {
    "colab": {
      "name": "Untitled2.ipynb",
      "provenance": []
    },
    "kernelspec": {
      "name": "python3",
      "display_name": "Python 3"
    },
    "accelerator": "GPU"
  },
  "cells": [
    {
      "cell_type": "code",
      "metadata": {
        "id": "e6ncsacyQdkm"
      },
      "source": [
        "import pandas as pd"
      ],
      "execution_count": 237,
      "outputs": []
    },
    {
      "cell_type": "code",
      "metadata": {
        "id": "eKfF4NGfQiCm"
      },
      "source": [
        "df = pd.read_html('http://kind.krx.co.kr/corpgeneral/corpList.do?method=download', header=0)[0]"
      ],
      "execution_count": 238,
      "outputs": []
    },
    {
      "cell_type": "code",
      "metadata": {
        "id": "NmfgB6n3Q2gu",
        "outputId": "fb07c8f6-2a03-4e63-c185-29650f9dddfa",
        "colab": {
          "base_uri": "https://localhost:8080/",
          "height": 35
        }
      },
      "source": [
        "!pip install lxml"
      ],
      "execution_count": 239,
      "outputs": [
        {
          "output_type": "stream",
          "text": [
            "Requirement already satisfied: lxml in /usr/local/lib/python3.6/dist-packages (4.2.6)\n"
          ],
          "name": "stdout"
        }
      ]
    },
    {
      "cell_type": "code",
      "metadata": {
        "id": "_yzhBAEjQ4kq"
      },
      "source": [
        "df = df[['회사명', '종목코드']]"
      ],
      "execution_count": 240,
      "outputs": []
    },
    {
      "cell_type": "code",
      "metadata": {
        "id": "CYH8MFy_Q6bi"
      },
      "source": [
        "df = df.rename(columns={'회사명': 'name', '종목코드': 'code'})"
      ],
      "execution_count": 241,
      "outputs": []
    },
    {
      "cell_type": "code",
      "metadata": {
        "id": "oJKQTJa7Q8de",
        "outputId": "3ba8977b-ed0a-4c5f-ee8a-e2f1e807fe3b",
        "colab": {
          "base_uri": "https://localhost:8080/",
          "height": 419
        }
      },
      "source": [
        "df"
      ],
      "execution_count": 242,
      "outputs": [
        {
          "output_type": "execute_result",
          "data": {
            "text/html": [
              "<div>\n",
              "<style scoped>\n",
              "    .dataframe tbody tr th:only-of-type {\n",
              "        vertical-align: middle;\n",
              "    }\n",
              "\n",
              "    .dataframe tbody tr th {\n",
              "        vertical-align: top;\n",
              "    }\n",
              "\n",
              "    .dataframe thead th {\n",
              "        text-align: right;\n",
              "    }\n",
              "</style>\n",
              "<table border=\"1\" class=\"dataframe\">\n",
              "  <thead>\n",
              "    <tr style=\"text-align: right;\">\n",
              "      <th></th>\n",
              "      <th>name</th>\n",
              "      <th>code</th>\n",
              "    </tr>\n",
              "  </thead>\n",
              "  <tbody>\n",
              "    <tr>\n",
              "      <th>0</th>\n",
              "      <td>JS전선</td>\n",
              "      <td>5560</td>\n",
              "    </tr>\n",
              "    <tr>\n",
              "      <th>1</th>\n",
              "      <td>거북선2호</td>\n",
              "      <td>101380</td>\n",
              "    </tr>\n",
              "    <tr>\n",
              "      <th>2</th>\n",
              "      <td>거북선6호</td>\n",
              "      <td>114140</td>\n",
              "    </tr>\n",
              "    <tr>\n",
              "      <th>3</th>\n",
              "      <td>교보메리츠</td>\n",
              "      <td>64900</td>\n",
              "    </tr>\n",
              "    <tr>\n",
              "      <th>4</th>\n",
              "      <td>국제관광공사</td>\n",
              "      <td>28780</td>\n",
              "    </tr>\n",
              "    <tr>\n",
              "      <th>...</th>\n",
              "      <td>...</td>\n",
              "      <td>...</td>\n",
              "    </tr>\n",
              "    <tr>\n",
              "      <th>3874</th>\n",
              "      <td>툴젠</td>\n",
              "      <td>199800</td>\n",
              "    </tr>\n",
              "    <tr>\n",
              "      <th>3875</th>\n",
              "      <td>플럼라인생명과학</td>\n",
              "      <td>222670</td>\n",
              "    </tr>\n",
              "    <tr>\n",
              "      <th>3876</th>\n",
              "      <td>피엔에이치테크</td>\n",
              "      <td>239890</td>\n",
              "    </tr>\n",
              "    <tr>\n",
              "      <th>3877</th>\n",
              "      <td>한국미라클피플사</td>\n",
              "      <td>331660</td>\n",
              "    </tr>\n",
              "    <tr>\n",
              "      <th>3878</th>\n",
              "      <td>휴벡셀</td>\n",
              "      <td>212310</td>\n",
              "    </tr>\n",
              "  </tbody>\n",
              "</table>\n",
              "<p>3879 rows × 2 columns</p>\n",
              "</div>"
            ],
            "text/plain": [
              "          name    code\n",
              "0         JS전선    5560\n",
              "1        거북선2호  101380\n",
              "2        거북선6호  114140\n",
              "3        교보메리츠   64900\n",
              "4       국제관광공사   28780\n",
              "...        ...     ...\n",
              "3874        툴젠  199800\n",
              "3875  플럼라인생명과학  222670\n",
              "3876   피엔에이치테크  239890\n",
              "3877  한국미라클피플사  331660\n",
              "3878       휴벡셀  212310\n",
              "\n",
              "[3879 rows x 2 columns]"
            ]
          },
          "metadata": {
            "tags": []
          },
          "execution_count": 242
        }
      ]
    },
    {
      "cell_type": "code",
      "metadata": {
        "id": "ZGaiZ2aQQ-5p"
      },
      "source": [
        "df.code = df.code.map('{:06d}'.format)"
      ],
      "execution_count": 243,
      "outputs": []
    },
    {
      "cell_type": "code",
      "metadata": {
        "id": "T-aM4klFRtdh"
      },
      "source": [
        "import pandas_datareader as pdr"
      ],
      "execution_count": 244,
      "outputs": []
    },
    {
      "cell_type": "code",
      "metadata": {
        "id": "SGUEbgY2ngAT"
      },
      "source": [
        "df = pdr.get_data_yahoo('005930.KS')"
      ],
      "execution_count": 245,
      "outputs": []
    },
    {
      "cell_type": "code",
      "metadata": {
        "id": "2Xtr90_Pnhq0"
      },
      "source": [
        "df = df[['Close']]"
      ],
      "execution_count": 246,
      "outputs": []
    },
    {
      "cell_type": "code",
      "metadata": {
        "id": "C0qZkMP6oyMr",
        "outputId": "4be319c9-baed-4005-fda4-8be5213a743e",
        "colab": {
          "base_uri": "https://localhost:8080/",
          "height": 287
        }
      },
      "source": [
        "df['Close'].plot()"
      ],
      "execution_count": 247,
      "outputs": [
        {
          "output_type": "execute_result",
          "data": {
            "text/plain": [
              "<matplotlib.axes._subplots.AxesSubplot at 0x7ffaf009c6a0>"
            ]
          },
          "metadata": {
            "tags": []
          },
          "execution_count": 247
        },
        {
          "output_type": "display_data",
          "data": {
            "image/png": "[encoded data removed]",
            "text/plain": [
              "<Figure size 432x288 with 1 Axes>"
            ]
          },
          "metadata": {
            "tags": [],
            "needs_background": "light"
          }
        }
      ]
    },
    {
      "cell_type": "code",
      "metadata": {
        "id": "A87htAvMo0gn",
        "outputId": "b72639d9-c9c9-40cc-d2ae-438a5142126e",
        "colab": {
          "base_uri": "https://localhost:8080/",
          "height": 283
        }
      },
      "source": [
        "plt.plot(df.index, df['Close'])"
      ],
      "execution_count": 284,
      "outputs": [
        {
          "output_type": "execute_result",
          "data": {
            "text/plain": [
              "[<matplotlib.lines.Line2D at 0x7ffaf4d29a58>]"
            ]
          },
          "metadata": {
            "tags": []
          },
          "execution_count": 284
        },
        {
          "output_type": "display_data",
          "data": {
            "image/png": "[encoded data removed]",
            "text/plain": [
              "<Figure size 432x288 with 1 Axes>"
            ]
          },
          "metadata": {
            "tags": [],
            "needs_background": "light"
          }
        }
      ]
    },
    {
      "cell_type": "code",
      "metadata": {
        "id": "qiS4A_r0pAzN"
      },
      "source": [
        "from sklearn.preprocessing import MinMaxScaler"
      ],
      "execution_count": 195,
      "outputs": []
    },
    {
      "cell_type": "code",
      "metadata": {
        "id": "C0rB3RvBpK6e"
      },
      "source": [
        "scaler = MinMaxScaler()"
      ],
      "execution_count": 196,
      "outputs": []
    },
    {
      "cell_type": "code",
      "metadata": {
        "id": "-p-02vxSpMfi",
        "outputId": "63260ddc-3f82-432b-edf2-a1fff0e1087d",
        "colab": {
          "base_uri": "https://localhost:8080/",
          "height": 35
        }
      },
      "source": [
        "scaler.fit(df)"
      ],
      "execution_count": 197,
      "outputs": [
        {
          "output_type": "execute_result",
          "data": {
            "text/plain": [
              "MinMaxScaler(copy=True, feature_range=(0, 1))"
            ]
          },
          "metadata": {
            "tags": []
          },
          "execution_count": 197
        }
      ]
    },
    {
      "cell_type": "code",
      "metadata": {
        "id": "etQpOD3CpNoq",
        "outputId": "f41f0f50-c331-4177-dbd7-a41531f7fc41",
        "colab": {
          "base_uri": "https://localhost:8080/",
          "height": 35
        }
      },
      "source": [
        "s_train = scaler.transform(df)\n",
        "s_train.shape"
      ],
      "execution_count": 287,
      "outputs": [
        {
          "output_type": "execute_result",
          "data": {
            "text/plain": [
              "(1220, 1)"
            ]
          },
          "metadata": {
            "tags": []
          },
          "execution_count": 287
        }
      ]
    },
    {
      "cell_type": "code",
      "metadata": {
        "id": "r8w_u6-ApPWt"
      },
      "source": [
        "from tensorflow.keras.preprocessing.sequence import TimeseriesGenerator"
      ],
      "execution_count": 199,
      "outputs": []
    },
    {
      "cell_type": "code",
      "metadata": {
        "id": "ICc6-2ZbpRBm"
      },
      "source": [
        "length = 20\n",
        "generator = TimeseriesGenerator(s_train, s_train, length=length, batch_size=1)"
      ],
      "execution_count": 200,
      "outputs": []
    },
    {
      "cell_type": "code",
      "metadata": {
        "id": "2XtJrntWpSdL",
        "outputId": "a2f9c9e9-0621-4718-ddac-c7e2907d528d",
        "colab": {
          "base_uri": "https://localhost:8080/",
          "height": 143
        }
      },
      "source": [
        "s_train[:1020]"
      ],
      "execution_count": 285,
      "outputs": [
        {
          "output_type": "execute_result",
          "data": {
            "text/plain": [
              "array([[0.08324975],\n",
              "       [0.08625878],\n",
              "       [0.09127382],\n",
              "       ...,\n",
              "       [0.85205617],\n",
              "       [0.83450351],\n",
              "       [0.81945838]])"
            ]
          },
          "metadata": {
            "tags": []
          },
          "execution_count": 285
        }
      ]
    },
    {
      "cell_type": "code",
      "metadata": {
        "id": "lQ82RdeKpTvQ"
      },
      "source": [
        "model_LSTM = tf.keras.models.Sequential()\n",
        "model_LSTM.add(tf.keras.layers.LSTM(100, input_shape=(1220,1)))\n",
        "model_LSTM.add(tf.keras.layers.Dense(1))"
      ],
      "execution_count": 288,
      "outputs": []
    },
    {
      "cell_type": "code",
      "metadata": {
        "id": "KRncgdlypV3i"
      },
      "source": [
        "model_LSTM.compile(optimizer='adam', loss='mse')"
      ],
      "execution_count": 289,
      "outputs": []
    },
    {
      "cell_type": "code",
      "metadata": {
        "id": "MyGCT4bhpXmw",
        "outputId": "615aef48-51ea-4abf-ee90-4142eb3067e2",
        "colab": {
          "base_uri": "https://localhost:8080/",
          "height": 215
        }
      },
      "source": [
        "model_LSTM.fit(generator, epochs = 5)"
      ],
      "execution_count": 290,
      "outputs": [
        {
          "output_type": "stream",
          "text": [
            "Epoch 1/5\n",
            "1200/1200 [==============================] - 4s 3ms/step - loss: 0.0034\n",
            "Epoch 2/5\n",
            "1200/1200 [==============================] - 4s 3ms/step - loss: 0.0011\n",
            "Epoch 3/5\n",
            "1200/1200 [==============================] - 4s 3ms/step - loss: 8.5186e-04\n",
            "Epoch 4/5\n",
            "1200/1200 [==============================] - 4s 3ms/step - loss: 7.6328e-04\n",
            "Epoch 5/5\n",
            "1200/1200 [==============================] - 4s 4ms/step - loss: 5.9366e-04\n"
          ],
          "name": "stdout"
        },
        {
          "output_type": "execute_result",
          "data": {
            "text/plain": [
              "<tensorflow.python.keras.callbacks.History at 0x7ffaedd42eb8>"
            ]
          },
          "metadata": {
            "tags": []
          },
          "execution_count": 290
        }
      ]
    },
    {
      "cell_type": "code",
      "metadata": {
        "id": "kUMmeHErpYsJ"
      },
      "source": [
        "batch = s_train[-30:]"
      ],
      "execution_count": 312,
      "outputs": []
    },
    {
      "cell_type": "code",
      "metadata": {
        "id": "CUzGbp0HpeHO",
        "outputId": "eb397675-961f-4559-a169-246e2a3786bd",
        "colab": {
          "base_uri": "https://localhost:8080/",
          "height": 55
        }
      },
      "source": [
        "forecast_LSTM = []\n",
        "c_batch = batch.reshape((1, 30, 1))\n",
        "\n",
        "for i in range(100):\n",
        "    c_predict = model_LSTM.predict(c_batch)[0]\n",
        "    forecast_LSTM.append(c_predict)\n",
        "    c_batch = np.append(c_batch[:,1:,:],[[c_predict]], axis = 1)"
      ],
      "execution_count": 318,
      "outputs": [
        {
          "output_type": "stream",
          "text": [
            "WARNING:tensorflow:Model was constructed with shape (None, 1220, 1) for input Tensor(\"lstm_8_input:0\", shape=(None, 1220, 1), dtype=float32), but it was called on an input with incompatible shape (None, 30, 1).\n"
          ],
          "name": "stdout"
        }
      ]
    },
    {
      "cell_type": "code",
      "metadata": {
        "id": "Moq1UySapiYG"
      },
      "source": [
        "forecast_LSTM = scaler.inverse_transform(forecast_LSTM)"
      ],
      "execution_count": 319,
      "outputs": []
    },
    {
      "cell_type": "code",
      "metadata": {
        "id": "_sqTz5v-pj_e",
        "outputId": "1cbb4868-7d7a-4d33-b5c0-21c141a1c791",
        "colab": {
          "base_uri": "https://localhost:8080/",
          "height": 1000
        }
      },
      "source": [
        "forecast_LSTM"
      ],
      "execution_count": 320,
      "outputs": [
        {
          "output_type": "execute_result",
          "data": {
            "text/plain": [
              "array([[60538.5428977 ],\n",
              "       [60858.15640926],\n",
              "       [61195.61193228],\n",
              "       [61515.91478348],\n",
              "       [61818.55865479],\n",
              "       [62106.37696981],\n",
              "       [62381.50905848],\n",
              "       [62645.19097805],\n",
              "       [62898.19288731],\n",
              "       [63141.06388092],\n",
              "       [63374.30313587],\n",
              "       [63598.37179661],\n",
              "       [63813.71199131],\n",
              "       [64020.74683189],\n",
              "       [64219.86615181],\n",
              "       [64411.42175198],\n",
              "       [64595.73215485],\n",
              "       [64773.08260441],\n",
              "       [64943.72982025],\n",
              "       [65107.90675163],\n",
              "       [65265.85585594],\n",
              "       [65417.77680397],\n",
              "       [65563.85975838],\n",
              "       [65704.31389809],\n",
              "       [65839.33889389],\n",
              "       [65969.12490845],\n",
              "       [66093.82407188],\n",
              "       [66213.60277653],\n",
              "       [66328.61790657],\n",
              "       [66439.05011654],\n",
              "       [66545.05153656],\n",
              "       [66646.76478863],\n",
              "       [66744.351511  ],\n",
              "       [66837.93530941],\n",
              "       [66927.66831398],\n",
              "       [67013.68839264],\n",
              "       [67096.12390518],\n",
              "       [67175.11271954],\n",
              "       [67250.77368736],\n",
              "       [67323.24943066],\n",
              "       [67392.64929295],\n",
              "       [67459.09212589],\n",
              "       [67522.69202709],\n",
              "       [67583.56784821],\n",
              "       [67641.8241787 ],\n",
              "       [67697.56560802],\n",
              "       [67750.88721752],\n",
              "       [67801.89835072],\n",
              "       [67850.6845808 ],\n",
              "       [67897.33623505],\n",
              "       [67941.94839478],\n",
              "       [67984.59712505],\n",
              "       [68025.37275314],\n",
              "       [68064.35134411],\n",
              "       [68101.60896301],\n",
              "       [68137.21216679],\n",
              "       [68171.23702049],\n",
              "       [68203.75008106],\n",
              "       [68234.81315136],\n",
              "       [68264.49278831],\n",
              "       [68292.84128666],\n",
              "       [68319.92044926],\n",
              "       [68345.79207897],\n",
              "       [68370.4989624 ],\n",
              "       [68394.09339428],\n",
              "       [68416.62766933],\n",
              "       [68438.14457417],\n",
              "       [68458.69164944],\n",
              "       [68478.31643581],\n",
              "       [68497.05696583],\n",
              "       [68514.94176388],\n",
              "       [68532.01837063],\n",
              "       [68548.32006454],\n",
              "       [68563.87537003],\n",
              "       [68578.7365818 ],\n",
              "       [68592.91796207],\n",
              "       [68606.45754337],\n",
              "       [68619.37434196],\n",
              "       [68631.70163631],\n",
              "       [68643.46319675],\n",
              "       [68654.69230175],\n",
              "       [68665.4174757 ],\n",
              "       [68675.64347267],\n",
              "       [68685.4083252 ],\n",
              "       [68694.72629547],\n",
              "       [68703.62115383],\n",
              "       [68712.10716248],\n",
              "       [68720.20333767],\n",
              "       [68727.92869568],\n",
              "       [68735.30225277],\n",
              "       [68742.33351707],\n",
              "       [68749.04150486],\n",
              "       [68755.44047832],\n",
              "       [68761.54945374],\n",
              "       [68767.37793922],\n",
              "       [68772.93068886],\n",
              "       [68778.23147297],\n",
              "       [68783.29455376],\n",
              "       [68788.11993122],\n",
              "       [68792.73137569]])"
            ]
          },
          "metadata": {
            "tags": []
          },
          "execution_count": 320
        }
      ]
    },
    {
      "cell_type": "code",
      "metadata": {
        "id": "8rRPogBkplBv",
        "outputId": "e77ea031-204b-4170-c992-b540188510dd",
        "colab": {
          "base_uri": "https://localhost:8080/",
          "height": 485
        }
      },
      "source": [
        "forecast_index = pd.date_range('2020-10-23', periods=100)\n",
        "forecast_index"
      ],
      "execution_count": 321,
      "outputs": [
        {
          "output_type": "execute_result",
          "data": {
            "text/plain": [
              "DatetimeIndex(['2020-10-23', '2020-10-24', '2020-10-25', '2020-10-26',\n",
              "               '2020-10-27', '2020-10-28', '2020-10-29', '2020-10-30',\n",
              "               '2020-10-31', '2020-11-01', '2020-11-02', '2020-11-03',\n",
              "               '2020-11-04', '2020-11-05', '2020-11-06', '2020-11-07',\n",
              "               '2020-11-08', '2020-11-09', '2020-11-10', '2020-11-11',\n",
              "               '2020-11-12', '2020-11-13', '2020-11-14', '2020-11-15',\n",
              "               '2020-11-16', '2020-11-17', '2020-11-18', '2020-11-19',\n",
              "               '2020-11-20', '2020-11-21', '2020-11-22', '2020-11-23',\n",
              "               '2020-11-24', '2020-11-25', '2020-11-26', '2020-11-27',\n",
              "               '2020-11-28', '2020-11-29', '2020-11-30', '2020-12-01',\n",
              "               '2020-12-02', '2020-12-03', '2020-12-04', '2020-12-05',\n",
              "               '2020-12-06', '2020-12-07', '2020-12-08', '2020-12-09',\n",
              "               '2020-12-10', '2020-12-11', '2020-12-12', '2020-12-13',\n",
              "               '2020-12-14', '2020-12-15', '2020-12-16', '2020-12-17',\n",
              "               '2020-12-18', '2020-12-19', '2020-12-20', '2020-12-21',\n",
              "               '2020-12-22', '2020-12-23', '2020-12-24', '2020-12-25',\n",
              "               '2020-12-26', '2020-12-27', '2020-12-28', '2020-12-29',\n",
              "               '2020-12-30', '2020-12-31', '2021-01-01', '2021-01-02',\n",
              "               '2021-01-03', '2021-01-04', '2021-01-05', '2021-01-06',\n",
              "               '2021-01-07', '2021-01-08', '2021-01-09', '2021-01-10',\n",
              "               '2021-01-11', '2021-01-12', '2021-01-13', '2021-01-14',\n",
              "               '2021-01-15', '2021-01-16', '2021-01-17', '2021-01-18',\n",
              "               '2021-01-19', '2021-01-20', '2021-01-21', '2021-01-22',\n",
              "               '2021-01-23', '2021-01-24', '2021-01-25', '2021-01-26',\n",
              "               '2021-01-27', '2021-01-28', '2021-01-29', '2021-01-30'],\n",
              "              dtype='datetime64[ns]', freq='D')"
            ]
          },
          "metadata": {
            "tags": []
          },
          "execution_count": 321
        }
      ]
    },
    {
      "cell_type": "code",
      "metadata": {
        "id": "EibC6mhmpuzE",
        "outputId": "80925046-8282-4f35-9f19-66d4b7a83585",
        "colab": {
          "base_uri": "https://localhost:8080/",
          "height": 283
        }
      },
      "source": [
        "plt.plot(df.index, df['Close'])\n",
        "plt.plot(forecast_index, forecast_LSTM)"
      ],
      "execution_count": 322,
      "outputs": [
        {
          "output_type": "execute_result",
          "data": {
            "text/plain": [
              "[<matplotlib.lines.Line2D at 0x7ffaec9de5c0>]"
            ]
          },
          "metadata": {
            "tags": []
          },
          "execution_count": 322
        },
        {
          "output_type": "display_data",
          "data": {
            "image/png": "[encoded data removed]",
            "text/plain": [
              "<Figure size 432x288 with 1 Axes>"
            ]
          },
          "metadata": {
            "tags": [],
            "needs_background": "light"
          }
        }
      ]
    },
    {
      "cell_type": "code",
      "metadata": {
        "id": "ITs0ofLRrbg2"
      },
      "source": [
        ""
      ],
      "execution_count": null,
      "outputs": []
    }
  ]
}