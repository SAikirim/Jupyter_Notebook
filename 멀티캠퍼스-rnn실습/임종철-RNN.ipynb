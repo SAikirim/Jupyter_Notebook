{
 "cells": [
  {
   "cell_type": "code",
   "execution_count": 1,
   "metadata": {
    "colab": {
     "base_uri": "https://localhost:8080/",
     "height": 34
    },
    "id": "ljwzZLeWqog-",
    "outputId": "249c049d-338c-4fa7-92bf-f1936612ffe3"
   },
   "outputs": [
    {
     "data": {
      "text/plain": [
       "[PhysicalDevice(name='/physical_device:GPU:0', device_type='GPU')]"
      ]
     },
     "execution_count": 1,
     "metadata": {
      "tags": []
     },
     "output_type": "execute_result"
    }
   ],
   "source": [
    "import tensorflow as tf\n",
    "import numpy as np\n",
    "import pandas as pd\n",
    "import matplotlib.pyplot as plt\n",
    "\n",
    "tf.config.list_physical_devices('GPU')"
   ]
  },
  {
   "cell_type": "code",
   "execution_count": 2,
   "metadata": {
    "colab": {
     "base_uri": "https://localhost:8080/",
     "height": 381
    },
    "id": "tE69sapVqABa",
    "outputId": "410e3af9-2a39-43f4-edd8-16029bf7582d"
   },
   "outputs": [
    {
     "name": "stdout",
     "output_type": "stream",
     "text": [
      "Requirement already satisfied: lxml in /usr/local/lib/python3.6/dist-packages (4.2.6)\n"
     ]
    },
    {
     "data": {
      "text/html": [
       "<div>\n",
       "<style scoped>\n",
       "    .dataframe tbody tr th:only-of-type {\n",
       "        vertical-align: middle;\n",
       "    }\n",
       "\n",
       "    .dataframe tbody tr th {\n",
       "        vertical-align: top;\n",
       "    }\n",
       "\n",
       "    .dataframe thead th {\n",
       "        text-align: right;\n",
       "    }\n",
       "</style>\n",
       "<table border=\"1\" class=\"dataframe\">\n",
       "  <thead>\n",
       "    <tr style=\"text-align: right;\">\n",
       "      <th></th>\n",
       "      <th>회사명</th>\n",
       "      <th>종목코드</th>\n",
       "      <th>업종</th>\n",
       "      <th>주요제품</th>\n",
       "      <th>상장일</th>\n",
       "      <th>결산월</th>\n",
       "      <th>대표자명</th>\n",
       "      <th>홈페이지</th>\n",
       "      <th>지역</th>\n",
       "    </tr>\n",
       "  </thead>\n",
       "  <tbody>\n",
       "    <tr>\n",
       "      <th>0</th>\n",
       "      <td>JS전선</td>\n",
       "      <td>5560</td>\n",
       "      <td>절연선 및 케이블 제조업</td>\n",
       "      <td>선박선,고무선,전력선,통신선 제조</td>\n",
       "      <td>2007-11-12</td>\n",
       "      <td>12월</td>\n",
       "      <td>이익희</td>\n",
       "      <td>http://www.jscable.co.kr</td>\n",
       "      <td>충청남도</td>\n",
       "    </tr>\n",
       "    <tr>\n",
       "      <th>1</th>\n",
       "      <td>거북선2호</td>\n",
       "      <td>101380</td>\n",
       "      <td>NaN</td>\n",
       "      <td>운송장비(선박) 임대</td>\n",
       "      <td>2008-04-25</td>\n",
       "      <td>12월</td>\n",
       "      <td>신주선</td>\n",
       "      <td>NaN</td>\n",
       "      <td>부산광역시</td>\n",
       "    </tr>\n",
       "    <tr>\n",
       "      <th>2</th>\n",
       "      <td>거북선6호</td>\n",
       "      <td>114140</td>\n",
       "      <td>NaN</td>\n",
       "      <td>NaN</td>\n",
       "      <td>2009-10-01</td>\n",
       "      <td>12월</td>\n",
       "      <td>김연신</td>\n",
       "      <td>NaN</td>\n",
       "      <td>제주특별자치도</td>\n",
       "    </tr>\n",
       "    <tr>\n",
       "      <th>3</th>\n",
       "      <td>교보메리츠</td>\n",
       "      <td>64900</td>\n",
       "      <td>NaN</td>\n",
       "      <td>부동산 투자,운용</td>\n",
       "      <td>2002-01-30</td>\n",
       "      <td>12월</td>\n",
       "      <td>김 상 진</td>\n",
       "      <td>NaN</td>\n",
       "      <td>서울특별시</td>\n",
       "    </tr>\n",
       "    <tr>\n",
       "      <th>4</th>\n",
       "      <td>국제관광공사</td>\n",
       "      <td>28780</td>\n",
       "      <td>NaN</td>\n",
       "      <td>NaN</td>\n",
       "      <td>1966-03-18</td>\n",
       "      <td>12월</td>\n",
       "      <td>NaN</td>\n",
       "      <td>NaN</td>\n",
       "      <td>NaN</td>\n",
       "    </tr>\n",
       "  </tbody>\n",
       "</table>\n",
       "</div>"
      ],
      "text/plain": [
       "      회사명    종목코드             업종  ...   대표자명                      홈페이지       지역\n",
       "0    JS전선    5560  절연선 및 케이블 제조업  ...    이익희  http://www.jscable.co.kr     충청남도\n",
       "1   거북선2호  101380            NaN  ...    신주선                       NaN    부산광역시\n",
       "2   거북선6호  114140            NaN  ...    김연신                       NaN  제주특별자치도\n",
       "3   교보메리츠   64900            NaN  ...  김 상 진                       NaN    서울특별시\n",
       "4  국제관광공사   28780            NaN  ...    NaN                       NaN      NaN\n",
       "\n",
       "[5 rows x 9 columns]"
      ]
     },
     "execution_count": 2,
     "metadata": {
      "tags": []
     },
     "output_type": "execute_result"
    }
   ],
   "source": [
    "import pandas as pd\n",
    "\n",
    "df = pd.read_html('http://kind.krx.co.kr/corpgeneral/corpList.do?method=download', header=0)[0]\n",
    "!pip install lxml\n",
    "df.head()"
   ]
  },
  {
   "cell_type": "markdown",
   "metadata": {
    "id": "CpOT6Y5dRMkL"
   },
   "source": [
    "# 종목코드 갖고 오기"
   ]
  },
  {
   "cell_type": "code",
   "execution_count": 3,
   "metadata": {
    "colab": {
     "base_uri": "https://localhost:8080/",
     "height": 662
    },
    "id": "6bkHTVnQRB_c",
    "outputId": "7b9035a6-575e-45c4-bede-42d7dafceffb"
   },
   "outputs": [
    {
     "name": "stdout",
     "output_type": "stream",
     "text": [
      "Requirement already satisfied: pandas_datareader in /usr/local/lib/python3.6/dist-packages (0.9.0)\n",
      "Requirement already satisfied: lxml in /usr/local/lib/python3.6/dist-packages (from pandas_datareader) (4.2.6)\n",
      "Requirement already satisfied: requests>=2.19.0 in /usr/local/lib/python3.6/dist-packages (from pandas_datareader) (2.23.0)\n",
      "Requirement already satisfied: pandas>=0.23 in /usr/local/lib/python3.6/dist-packages (from pandas_datareader) (1.1.2)\n",
      "Requirement already satisfied: chardet<4,>=3.0.2 in /usr/local/lib/python3.6/dist-packages (from requests>=2.19.0->pandas_datareader) (3.0.4)\n",
      "Requirement already satisfied: urllib3!=1.25.0,!=1.25.1,<1.26,>=1.21.1 in /usr/local/lib/python3.6/dist-packages (from requests>=2.19.0->pandas_datareader) (1.24.3)\n",
      "Requirement already satisfied: certifi>=2017.4.17 in /usr/local/lib/python3.6/dist-packages (from requests>=2.19.0->pandas_datareader) (2020.6.20)\n",
      "Requirement already satisfied: idna<3,>=2.5 in /usr/local/lib/python3.6/dist-packages (from requests>=2.19.0->pandas_datareader) (2.10)\n",
      "Requirement already satisfied: python-dateutil>=2.7.3 in /usr/local/lib/python3.6/dist-packages (from pandas>=0.23->pandas_datareader) (2.8.1)\n",
      "Requirement already satisfied: numpy>=1.15.4 in /usr/local/lib/python3.6/dist-packages (from pandas>=0.23->pandas_datareader) (1.18.5)\n",
      "Requirement already satisfied: pytz>=2017.2 in /usr/local/lib/python3.6/dist-packages (from pandas>=0.23->pandas_datareader) (2018.9)\n",
      "Requirement already satisfied: six>=1.5 in /usr/local/lib/python3.6/dist-packages (from python-dateutil>=2.7.3->pandas>=0.23->pandas_datareader) (1.15.0)\n"
     ]
    },
    {
     "data": {
      "text/html": [
       "<div>\n",
       "<style scoped>\n",
       "    .dataframe tbody tr th:only-of-type {\n",
       "        vertical-align: middle;\n",
       "    }\n",
       "\n",
       "    .dataframe tbody tr th {\n",
       "        vertical-align: top;\n",
       "    }\n",
       "\n",
       "    .dataframe thead th {\n",
       "        text-align: right;\n",
       "    }\n",
       "</style>\n",
       "<table border=\"1\" class=\"dataframe\">\n",
       "  <thead>\n",
       "    <tr style=\"text-align: right;\">\n",
       "      <th></th>\n",
       "      <th>High</th>\n",
       "      <th>Low</th>\n",
       "      <th>Open</th>\n",
       "      <th>Close</th>\n",
       "      <th>Volume</th>\n",
       "      <th>Adj Close</th>\n",
       "    </tr>\n",
       "    <tr>\n",
       "      <th>Date</th>\n",
       "      <th></th>\n",
       "      <th></th>\n",
       "      <th></th>\n",
       "      <th></th>\n",
       "      <th></th>\n",
       "      <th></th>\n",
       "    </tr>\n",
       "  </thead>\n",
       "  <tbody>\n",
       "    <tr>\n",
       "      <th>2015-10-26</th>\n",
       "      <td>54800.0</td>\n",
       "      <td>53700.0</td>\n",
       "      <td>53700.0</td>\n",
       "      <td>54600.0</td>\n",
       "      <td>837088.0</td>\n",
       "      <td>49344.511719</td>\n",
       "    </tr>\n",
       "    <tr>\n",
       "      <th>2015-10-27</th>\n",
       "      <td>55300.0</td>\n",
       "      <td>54000.0</td>\n",
       "      <td>54900.0</td>\n",
       "      <td>55100.0</td>\n",
       "      <td>1037136.0</td>\n",
       "      <td>49796.386719</td>\n",
       "    </tr>\n",
       "    <tr>\n",
       "      <th>2015-10-28</th>\n",
       "      <td>55500.0</td>\n",
       "      <td>54100.0</td>\n",
       "      <td>55500.0</td>\n",
       "      <td>54800.0</td>\n",
       "      <td>762999.0</td>\n",
       "      <td>49525.261719</td>\n",
       "    </tr>\n",
       "    <tr>\n",
       "      <th>2015-10-29</th>\n",
       "      <td>55300.0</td>\n",
       "      <td>54200.0</td>\n",
       "      <td>54300.0</td>\n",
       "      <td>54800.0</td>\n",
       "      <td>511535.0</td>\n",
       "      <td>49525.261719</td>\n",
       "    </tr>\n",
       "    <tr>\n",
       "      <th>2015-10-30</th>\n",
       "      <td>55900.0</td>\n",
       "      <td>54300.0</td>\n",
       "      <td>54800.0</td>\n",
       "      <td>55800.0</td>\n",
       "      <td>979684.0</td>\n",
       "      <td>50429.007812</td>\n",
       "    </tr>\n",
       "    <tr>\n",
       "      <th>...</th>\n",
       "      <td>...</td>\n",
       "      <td>...</td>\n",
       "      <td>...</td>\n",
       "      <td>...</td>\n",
       "      <td>...</td>\n",
       "      <td>...</td>\n",
       "    </tr>\n",
       "    <tr>\n",
       "      <th>2020-10-19</th>\n",
       "      <td>47750.0</td>\n",
       "      <td>46600.0</td>\n",
       "      <td>47000.0</td>\n",
       "      <td>46700.0</td>\n",
       "      <td>1536628.0</td>\n",
       "      <td>46700.000000</td>\n",
       "    </tr>\n",
       "    <tr>\n",
       "      <th>2020-10-20</th>\n",
       "      <td>47150.0</td>\n",
       "      <td>43150.0</td>\n",
       "      <td>43150.0</td>\n",
       "      <td>46850.0</td>\n",
       "      <td>4399855.0</td>\n",
       "      <td>46850.000000</td>\n",
       "    </tr>\n",
       "    <tr>\n",
       "      <th>2020-10-21</th>\n",
       "      <td>46750.0</td>\n",
       "      <td>45050.0</td>\n",
       "      <td>46550.0</td>\n",
       "      <td>45450.0</td>\n",
       "      <td>2311018.0</td>\n",
       "      <td>45450.000000</td>\n",
       "    </tr>\n",
       "    <tr>\n",
       "      <th>2020-10-22</th>\n",
       "      <td>45450.0</td>\n",
       "      <td>44300.0</td>\n",
       "      <td>44900.0</td>\n",
       "      <td>45200.0</td>\n",
       "      <td>1650240.0</td>\n",
       "      <td>45200.000000</td>\n",
       "    </tr>\n",
       "    <tr>\n",
       "      <th>2020-10-23</th>\n",
       "      <td>46650.0</td>\n",
       "      <td>45250.0</td>\n",
       "      <td>45250.0</td>\n",
       "      <td>46400.0</td>\n",
       "      <td>1425932.0</td>\n",
       "      <td>46400.000000</td>\n",
       "    </tr>\n",
       "  </tbody>\n",
       "</table>\n",
       "<p>1220 rows × 6 columns</p>\n",
       "</div>"
      ],
      "text/plain": [
       "               High      Low     Open    Close     Volume     Adj Close\n",
       "Date                                                                   \n",
       "2015-10-26  54800.0  53700.0  53700.0  54600.0   837088.0  49344.511719\n",
       "2015-10-27  55300.0  54000.0  54900.0  55100.0  1037136.0  49796.386719\n",
       "2015-10-28  55500.0  54100.0  55500.0  54800.0   762999.0  49525.261719\n",
       "2015-10-29  55300.0  54200.0  54300.0  54800.0   511535.0  49525.261719\n",
       "2015-10-30  55900.0  54300.0  54800.0  55800.0   979684.0  50429.007812\n",
       "...             ...      ...      ...      ...        ...           ...\n",
       "2020-10-19  47750.0  46600.0  47000.0  46700.0  1536628.0  46700.000000\n",
       "2020-10-20  47150.0  43150.0  43150.0  46850.0  4399855.0  46850.000000\n",
       "2020-10-21  46750.0  45050.0  46550.0  45450.0  2311018.0  45450.000000\n",
       "2020-10-22  45450.0  44300.0  44900.0  45200.0  1650240.0  45200.000000\n",
       "2020-10-23  46650.0  45250.0  45250.0  46400.0  1425932.0  46400.000000\n",
       "\n",
       "[1220 rows x 6 columns]"
      ]
     },
     "execution_count": 3,
     "metadata": {
      "tags": []
     },
     "output_type": "execute_result"
    }
   ],
   "source": [
    "!pip install pandas_datareader\n",
    "import pandas_datareader as pdr\n",
    "yahoo = pdr.get_data_yahoo('000270.KS')\n",
    "yahoo"
   ]
  },
  {
   "cell_type": "markdown",
   "metadata": {
    "id": "8Ps7c1y_WYDO"
   },
   "source": [
    "1. 종목 코드 뽑아내기\n",
    "2. 종목코드 입력해서 주가 뽑아내기\n",
    "3. RNN 이용해서 종목 분석\n",
    "* RNN-이름.ipynb : 메일로 제출\n",
    "* 추천종목 포함해서 보내세요"
   ]
  },
  {
   "cell_type": "code",
   "execution_count": 4,
   "metadata": {
    "colab": {
     "base_uri": "https://localhost:8080/",
     "height": 402
    },
    "id": "TZbsgazpVJGI",
    "outputId": "4a2dfa02-0353-4413-9be4-945985392b96"
   },
   "outputs": [
    {
     "data": {
      "text/html": [
       "<div>\n",
       "<style scoped>\n",
       "    .dataframe tbody tr th:only-of-type {\n",
       "        vertical-align: middle;\n",
       "    }\n",
       "\n",
       "    .dataframe tbody tr th {\n",
       "        vertical-align: top;\n",
       "    }\n",
       "\n",
       "    .dataframe thead th {\n",
       "        text-align: right;\n",
       "    }\n",
       "</style>\n",
       "<table border=\"1\" class=\"dataframe\">\n",
       "  <thead>\n",
       "    <tr style=\"text-align: right;\">\n",
       "      <th></th>\n",
       "      <th>회사명</th>\n",
       "      <th>종목코드</th>\n",
       "    </tr>\n",
       "  </thead>\n",
       "  <tbody>\n",
       "    <tr>\n",
       "      <th>0</th>\n",
       "      <td>JS전선</td>\n",
       "      <td>5560</td>\n",
       "    </tr>\n",
       "    <tr>\n",
       "      <th>1</th>\n",
       "      <td>거북선2호</td>\n",
       "      <td>101380</td>\n",
       "    </tr>\n",
       "    <tr>\n",
       "      <th>2</th>\n",
       "      <td>거북선6호</td>\n",
       "      <td>114140</td>\n",
       "    </tr>\n",
       "    <tr>\n",
       "      <th>3</th>\n",
       "      <td>교보메리츠</td>\n",
       "      <td>64900</td>\n",
       "    </tr>\n",
       "    <tr>\n",
       "      <th>4</th>\n",
       "      <td>국제관광공사</td>\n",
       "      <td>28780</td>\n",
       "    </tr>\n",
       "    <tr>\n",
       "      <th>...</th>\n",
       "      <td>...</td>\n",
       "      <td>...</td>\n",
       "    </tr>\n",
       "    <tr>\n",
       "      <th>3874</th>\n",
       "      <td>툴젠</td>\n",
       "      <td>199800</td>\n",
       "    </tr>\n",
       "    <tr>\n",
       "      <th>3875</th>\n",
       "      <td>플럼라인생명과학</td>\n",
       "      <td>222670</td>\n",
       "    </tr>\n",
       "    <tr>\n",
       "      <th>3876</th>\n",
       "      <td>피엔에이치테크</td>\n",
       "      <td>239890</td>\n",
       "    </tr>\n",
       "    <tr>\n",
       "      <th>3877</th>\n",
       "      <td>한국미라클피플사</td>\n",
       "      <td>331660</td>\n",
       "    </tr>\n",
       "    <tr>\n",
       "      <th>3878</th>\n",
       "      <td>휴벡셀</td>\n",
       "      <td>212310</td>\n",
       "    </tr>\n",
       "  </tbody>\n",
       "</table>\n",
       "<p>3879 rows × 2 columns</p>\n",
       "</div>"
      ],
      "text/plain": [
       "           회사명    종목코드\n",
       "0         JS전선    5560\n",
       "1        거북선2호  101380\n",
       "2        거북선6호  114140\n",
       "3        교보메리츠   64900\n",
       "4       국제관광공사   28780\n",
       "...        ...     ...\n",
       "3874        툴젠  199800\n",
       "3875  플럼라인생명과학  222670\n",
       "3876   피엔에이치테크  239890\n",
       "3877  한국미라클피플사  331660\n",
       "3878       휴벡셀  212310\n",
       "\n",
       "[3879 rows x 2 columns]"
      ]
     },
     "execution_count": 4,
     "metadata": {
      "tags": []
     },
     "output_type": "execute_result"
    }
   ],
   "source": [
    "# 종목 코드 뽑아내기\n",
    "new_df = df[['회사명', '종목코드']]\n",
    "new_df"
   ]
  },
  {
   "cell_type": "code",
   "execution_count": 103,
   "metadata": {
    "colab": {
     "base_uri": "https://localhost:8080/",
     "height": 402
    },
    "id": "Hijjq2KyZsuR",
    "outputId": "9d4cccdb-d21b-4684-f7d4-81d8a49a3231"
   },
   "outputs": [
    {
     "data": {
      "text/html": [
       "<div>\n",
       "<style scoped>\n",
       "    .dataframe tbody tr th:only-of-type {\n",
       "        vertical-align: middle;\n",
       "    }\n",
       "\n",
       "    .dataframe tbody tr th {\n",
       "        vertical-align: top;\n",
       "    }\n",
       "\n",
       "    .dataframe thead th {\n",
       "        text-align: right;\n",
       "    }\n",
       "</style>\n",
       "<table border=\"1\" class=\"dataframe\">\n",
       "  <thead>\n",
       "    <tr style=\"text-align: right;\">\n",
       "      <th></th>\n",
       "      <th>name</th>\n",
       "      <th>code</th>\n",
       "    </tr>\n",
       "  </thead>\n",
       "  <tbody>\n",
       "    <tr>\n",
       "      <th>0</th>\n",
       "      <td>JS전선</td>\n",
       "      <td>5560</td>\n",
       "    </tr>\n",
       "    <tr>\n",
       "      <th>1</th>\n",
       "      <td>거북선2호</td>\n",
       "      <td>101380</td>\n",
       "    </tr>\n",
       "    <tr>\n",
       "      <th>2</th>\n",
       "      <td>거북선6호</td>\n",
       "      <td>114140</td>\n",
       "    </tr>\n",
       "    <tr>\n",
       "      <th>3</th>\n",
       "      <td>교보메리츠</td>\n",
       "      <td>64900</td>\n",
       "    </tr>\n",
       "    <tr>\n",
       "      <th>4</th>\n",
       "      <td>국제관광공사</td>\n",
       "      <td>28780</td>\n",
       "    </tr>\n",
       "    <tr>\n",
       "      <th>...</th>\n",
       "      <td>...</td>\n",
       "      <td>...</td>\n",
       "    </tr>\n",
       "    <tr>\n",
       "      <th>3874</th>\n",
       "      <td>툴젠</td>\n",
       "      <td>199800</td>\n",
       "    </tr>\n",
       "    <tr>\n",
       "      <th>3875</th>\n",
       "      <td>플럼라인생명과학</td>\n",
       "      <td>222670</td>\n",
       "    </tr>\n",
       "    <tr>\n",
       "      <th>3876</th>\n",
       "      <td>피엔에이치테크</td>\n",
       "      <td>239890</td>\n",
       "    </tr>\n",
       "    <tr>\n",
       "      <th>3877</th>\n",
       "      <td>한국미라클피플사</td>\n",
       "      <td>331660</td>\n",
       "    </tr>\n",
       "    <tr>\n",
       "      <th>3878</th>\n",
       "      <td>휴벡셀</td>\n",
       "      <td>212310</td>\n",
       "    </tr>\n",
       "  </tbody>\n",
       "</table>\n",
       "<p>3879 rows × 2 columns</p>\n",
       "</div>"
      ],
      "text/plain": [
       "          name    code\n",
       "0         JS전선    5560\n",
       "1        거북선2호  101380\n",
       "2        거북선6호  114140\n",
       "3        교보메리츠   64900\n",
       "4       국제관광공사   28780\n",
       "...        ...     ...\n",
       "3874        툴젠  199800\n",
       "3875  플럼라인생명과학  222670\n",
       "3876   피엔에이치테크  239890\n",
       "3877  한국미라클피플사  331660\n",
       "3878       휴벡셀  212310\n",
       "\n",
       "[3879 rows x 2 columns]"
      ]
     },
     "execution_count": 103,
     "metadata": {
      "tags": []
     },
     "output_type": "execute_result"
    }
   ],
   "source": [
    "# rename\n",
    "rename_df = new_df.rename(columns={'회사명':'name', '종목코드':'code'})\n",
    "rename_df"
   ]
  },
  {
   "cell_type": "code",
   "execution_count": 104,
   "metadata": {
    "id": "v-gxghOFuKyb"
   },
   "outputs": [],
   "source": [
    "# 회사명으로 코드 검색\n",
    "def get_code(df, name):\n",
    "    #code = df.query(\"name=='{}'\".format(name))['code'].to_string(index=False)\n",
    "    code = rename_df[(rename_df['name'] == name)]['code'].to_string(index=False)\n",
    "    code = code.strip()\n",
    "    return code"
   ]
  },
  {
   "cell_type": "code",
   "execution_count": 105,
   "metadata": {
    "colab": {
     "base_uri": "https://localhost:8080/",
     "height": 402
    },
    "id": "OPcnfRNxnWof",
    "outputId": "8dfb6a25-e99c-463c-a586-f4d1f683a4a0"
   },
   "outputs": [
    {
     "data": {
      "text/html": [
       "<div>\n",
       "<style scoped>\n",
       "    .dataframe tbody tr th:only-of-type {\n",
       "        vertical-align: middle;\n",
       "    }\n",
       "\n",
       "    .dataframe tbody tr th {\n",
       "        vertical-align: top;\n",
       "    }\n",
       "\n",
       "    .dataframe thead th {\n",
       "        text-align: right;\n",
       "    }\n",
       "</style>\n",
       "<table border=\"1\" class=\"dataframe\">\n",
       "  <thead>\n",
       "    <tr style=\"text-align: right;\">\n",
       "      <th></th>\n",
       "      <th>name</th>\n",
       "      <th>code</th>\n",
       "    </tr>\n",
       "  </thead>\n",
       "  <tbody>\n",
       "    <tr>\n",
       "      <th>0</th>\n",
       "      <td>JS전선</td>\n",
       "      <td>005560</td>\n",
       "    </tr>\n",
       "    <tr>\n",
       "      <th>1</th>\n",
       "      <td>거북선2호</td>\n",
       "      <td>101380</td>\n",
       "    </tr>\n",
       "    <tr>\n",
       "      <th>2</th>\n",
       "      <td>거북선6호</td>\n",
       "      <td>114140</td>\n",
       "    </tr>\n",
       "    <tr>\n",
       "      <th>3</th>\n",
       "      <td>교보메리츠</td>\n",
       "      <td>064900</td>\n",
       "    </tr>\n",
       "    <tr>\n",
       "      <th>4</th>\n",
       "      <td>국제관광공사</td>\n",
       "      <td>028780</td>\n",
       "    </tr>\n",
       "    <tr>\n",
       "      <th>...</th>\n",
       "      <td>...</td>\n",
       "      <td>...</td>\n",
       "    </tr>\n",
       "    <tr>\n",
       "      <th>3874</th>\n",
       "      <td>툴젠</td>\n",
       "      <td>199800</td>\n",
       "    </tr>\n",
       "    <tr>\n",
       "      <th>3875</th>\n",
       "      <td>플럼라인생명과학</td>\n",
       "      <td>222670</td>\n",
       "    </tr>\n",
       "    <tr>\n",
       "      <th>3876</th>\n",
       "      <td>피엔에이치테크</td>\n",
       "      <td>239890</td>\n",
       "    </tr>\n",
       "    <tr>\n",
       "      <th>3877</th>\n",
       "      <td>한국미라클피플사</td>\n",
       "      <td>331660</td>\n",
       "    </tr>\n",
       "    <tr>\n",
       "      <th>3878</th>\n",
       "      <td>휴벡셀</td>\n",
       "      <td>212310</td>\n",
       "    </tr>\n",
       "  </tbody>\n",
       "</table>\n",
       "<p>3879 rows × 2 columns</p>\n",
       "</div>"
      ],
      "text/plain": [
       "          name    code\n",
       "0         JS전선  005560\n",
       "1        거북선2호  101380\n",
       "2        거북선6호  114140\n",
       "3        교보메리츠  064900\n",
       "4       국제관광공사  028780\n",
       "...        ...     ...\n",
       "3874        툴젠  199800\n",
       "3875  플럼라인생명과학  222670\n",
       "3876   피엔에이치테크  239890\n",
       "3877  한국미라클피플사  331660\n",
       "3878       휴벡셀  212310\n",
       "\n",
       "[3879 rows x 2 columns]"
      ]
     },
     "execution_count": 105,
     "metadata": {
      "tags": []
     },
     "output_type": "execute_result"
    }
   ],
   "source": [
    "# 종목코드 입력해서 주가 뽑아내기(전처리)\n",
    "rename_df.code = rename_df.code.map('{:06d}'.format)\n",
    "# code 6자리 맞추기\n",
    "rename_df"
   ]
  },
  {
   "cell_type": "code",
   "execution_count": 123,
   "metadata": {
    "colab": {
     "base_uri": "https://localhost:8080/",
     "height": 228
    },
    "id": "JPRhDipb9IEM",
    "outputId": "b04247a2-e179-4990-c604-8537adad1f09"
   },
   "outputs": [
    {
     "data": {
      "text/plain": [
       "<bound method Series.all of 0           JS전선\n",
       "1          거북선2호\n",
       "2          거북선6호\n",
       "3          교보메리츠\n",
       "4         국제관광공사\n",
       "          ...   \n",
       "3874          툴젠\n",
       "3875    플럼라인생명과학\n",
       "3876     피엔에이치테크\n",
       "3877    한국미라클피플사\n",
       "3878         휴벡셀\n",
       "Name: name, Length: 3879, dtype: object>"
      ]
     },
     "execution_count": 123,
     "metadata": {
      "tags": []
     },
     "output_type": "execute_result"
    }
   ],
   "source": [
    "# name"
   ]
  },
  {
   "cell_type": "code",
   "execution_count": 141,
   "metadata": {
    "colab": {
     "base_uri": "https://localhost:8080/",
     "height": 35
    },
    "id": "S4tp6RYk3TyY",
    "outputId": "51a68865-b88d-4cad-b509-f2ee488a17d8"
   },
   "outputs": [
    {
     "data": {
      "application/vnd.google.colaboratory.intrinsic+json": {
       "type": "string"
      },
      "text/plain": [
       "'105560.KS'"
      ]
     },
     "execution_count": 141,
     "metadata": {
      "tags": []
     },
     "output_type": "execute_result"
    }
   ],
   "source": [
    "# 회사명으로 코드 검색\n",
    "com_name = \t'KB금융'\n",
    "code = get_code(rename_df, com_name) + '.KS'\n",
    "code"
   ]
  },
  {
   "cell_type": "code",
   "execution_count": 142,
   "metadata": {
    "colab": {
     "base_uri": "https://localhost:8080/",
     "height": 431
    },
    "id": "guQJuHzHU8Vk",
    "outputId": "5b68acdc-3635-4430-c794-4d076d9e31f2"
   },
   "outputs": [
    {
     "data": {
      "text/html": [
       "<div>\n",
       "<style scoped>\n",
       "    .dataframe tbody tr th:only-of-type {\n",
       "        vertical-align: middle;\n",
       "    }\n",
       "\n",
       "    .dataframe tbody tr th {\n",
       "        vertical-align: top;\n",
       "    }\n",
       "\n",
       "    .dataframe thead th {\n",
       "        text-align: right;\n",
       "    }\n",
       "</style>\n",
       "<table border=\"1\" class=\"dataframe\">\n",
       "  <thead>\n",
       "    <tr style=\"text-align: right;\">\n",
       "      <th></th>\n",
       "      <th>High</th>\n",
       "      <th>Low</th>\n",
       "      <th>Open</th>\n",
       "      <th>Close</th>\n",
       "      <th>Volume</th>\n",
       "      <th>Adj Close</th>\n",
       "    </tr>\n",
       "    <tr>\n",
       "      <th>Date</th>\n",
       "      <th></th>\n",
       "      <th></th>\n",
       "      <th></th>\n",
       "      <th></th>\n",
       "      <th></th>\n",
       "      <th></th>\n",
       "    </tr>\n",
       "  </thead>\n",
       "  <tbody>\n",
       "    <tr>\n",
       "      <th>2015-10-26</th>\n",
       "      <td>37250.0</td>\n",
       "      <td>36500.0</td>\n",
       "      <td>37050.0</td>\n",
       "      <td>36800.0</td>\n",
       "      <td>526120.0</td>\n",
       "      <td>33662.425781</td>\n",
       "    </tr>\n",
       "    <tr>\n",
       "      <th>2015-10-27</th>\n",
       "      <td>36800.0</td>\n",
       "      <td>36300.0</td>\n",
       "      <td>36800.0</td>\n",
       "      <td>36750.0</td>\n",
       "      <td>451360.0</td>\n",
       "      <td>33616.687500</td>\n",
       "    </tr>\n",
       "    <tr>\n",
       "      <th>2015-10-28</th>\n",
       "      <td>36750.0</td>\n",
       "      <td>35850.0</td>\n",
       "      <td>36750.0</td>\n",
       "      <td>36150.0</td>\n",
       "      <td>641127.0</td>\n",
       "      <td>33067.847656</td>\n",
       "    </tr>\n",
       "    <tr>\n",
       "      <th>2015-10-29</th>\n",
       "      <td>36300.0</td>\n",
       "      <td>35550.0</td>\n",
       "      <td>35900.0</td>\n",
       "      <td>35650.0</td>\n",
       "      <td>770682.0</td>\n",
       "      <td>32610.478516</td>\n",
       "    </tr>\n",
       "    <tr>\n",
       "      <th>2015-10-30</th>\n",
       "      <td>36400.0</td>\n",
       "      <td>35700.0</td>\n",
       "      <td>35800.0</td>\n",
       "      <td>36150.0</td>\n",
       "      <td>1137794.0</td>\n",
       "      <td>33067.847656</td>\n",
       "    </tr>\n",
       "    <tr>\n",
       "      <th>...</th>\n",
       "      <td>...</td>\n",
       "      <td>...</td>\n",
       "      <td>...</td>\n",
       "      <td>...</td>\n",
       "      <td>...</td>\n",
       "      <td>...</td>\n",
       "    </tr>\n",
       "    <tr>\n",
       "      <th>2020-10-19</th>\n",
       "      <td>41450.0</td>\n",
       "      <td>39700.0</td>\n",
       "      <td>39850.0</td>\n",
       "      <td>40700.0</td>\n",
       "      <td>2737109.0</td>\n",
       "      <td>40700.000000</td>\n",
       "    </tr>\n",
       "    <tr>\n",
       "      <th>2020-10-20</th>\n",
       "      <td>41100.0</td>\n",
       "      <td>40050.0</td>\n",
       "      <td>40500.0</td>\n",
       "      <td>40750.0</td>\n",
       "      <td>1531385.0</td>\n",
       "      <td>40750.000000</td>\n",
       "    </tr>\n",
       "    <tr>\n",
       "      <th>2020-10-21</th>\n",
       "      <td>41700.0</td>\n",
       "      <td>40450.0</td>\n",
       "      <td>40750.0</td>\n",
       "      <td>41450.0</td>\n",
       "      <td>2378411.0</td>\n",
       "      <td>41450.000000</td>\n",
       "    </tr>\n",
       "    <tr>\n",
       "      <th>2020-10-22</th>\n",
       "      <td>42300.0</td>\n",
       "      <td>40700.0</td>\n",
       "      <td>41300.0</td>\n",
       "      <td>41900.0</td>\n",
       "      <td>2432512.0</td>\n",
       "      <td>41900.000000</td>\n",
       "    </tr>\n",
       "    <tr>\n",
       "      <th>2020-10-23</th>\n",
       "      <td>43000.0</td>\n",
       "      <td>41900.0</td>\n",
       "      <td>42500.0</td>\n",
       "      <td>42850.0</td>\n",
       "      <td>2342642.0</td>\n",
       "      <td>42850.000000</td>\n",
       "    </tr>\n",
       "  </tbody>\n",
       "</table>\n",
       "<p>1220 rows × 6 columns</p>\n",
       "</div>"
      ],
      "text/plain": [
       "               High      Low     Open    Close     Volume     Adj Close\n",
       "Date                                                                   \n",
       "2015-10-26  37250.0  36500.0  37050.0  36800.0   526120.0  33662.425781\n",
       "2015-10-27  36800.0  36300.0  36800.0  36750.0   451360.0  33616.687500\n",
       "2015-10-28  36750.0  35850.0  36750.0  36150.0   641127.0  33067.847656\n",
       "2015-10-29  36300.0  35550.0  35900.0  35650.0   770682.0  32610.478516\n",
       "2015-10-30  36400.0  35700.0  35800.0  36150.0  1137794.0  33067.847656\n",
       "...             ...      ...      ...      ...        ...           ...\n",
       "2020-10-19  41450.0  39700.0  39850.0  40700.0  2737109.0  40700.000000\n",
       "2020-10-20  41100.0  40050.0  40500.0  40750.0  1531385.0  40750.000000\n",
       "2020-10-21  41700.0  40450.0  40750.0  41450.0  2378411.0  41450.000000\n",
       "2020-10-22  42300.0  40700.0  41300.0  41900.0  2432512.0  41900.000000\n",
       "2020-10-23  43000.0  41900.0  42500.0  42850.0  2342642.0  42850.000000\n",
       "\n",
       "[1220 rows x 6 columns]"
      ]
     },
     "execution_count": 142,
     "metadata": {
      "tags": []
     },
     "output_type": "execute_result"
    }
   ],
   "source": [
    "# 종목코드 입력해서 주가 뽑아내기\n",
    "data = pdr.get_data_yahoo(code) # code = '톨젠'\n",
    "data"
   ]
  },
  {
   "cell_type": "code",
   "execution_count": 143,
   "metadata": {
    "colab": {
     "base_uri": "https://localhost:8080/",
     "height": 284
    },
    "id": "24GgkPnwRaAy",
    "outputId": "e8128f24-b252-45a2-e79b-8eeff4cd61d3"
   },
   "outputs": [
    {
     "data": {
      "text/plain": [
       "[<matplotlib.lines.Line2D at 0x7fceecdbea90>]"
      ]
     },
     "execution_count": 143,
     "metadata": {
      "tags": []
     },
     "output_type": "execute_result"
    },
    {
     "data": {
      "image/png": "[encoded data removed]",
      "text/plain": [
       "<Figure size 432x288 with 1 Axes>"
      ]
     },
     "metadata": {
      "needs_background": "light",
      "tags": []
     },
     "output_type": "display_data"
    }
   ],
   "source": [
    "# 시각화\n",
    "plt.plot(data.index, data[\"Close\"])"
   ]
  },
  {
   "cell_type": "code",
   "execution_count": 144,
   "metadata": {
    "colab": {
     "base_uri": "https://localhost:8080/",
     "height": 34
    },
    "id": "qDxRrKHQSlB8",
    "outputId": "bf3df439-020b-4b08-c1a1-946eb59a82e2"
   },
   "outputs": [
    {
     "data": {
      "text/plain": [
       "244"
      ]
     },
     "execution_count": 144,
     "metadata": {
      "tags": []
     },
     "output_type": "execute_result"
    }
   ],
   "source": [
    "cut_line =  int(np.round(data.shape[0] * 0.2))\n",
    "cut_line"
   ]
  },
  {
   "cell_type": "code",
   "execution_count": 145,
   "metadata": {
    "colab": {
     "base_uri": "https://localhost:8080/",
     "height": 34
    },
    "id": "BtD5wTuMSJ7Y",
    "outputId": "1eaa8e6e-ef63-4e8e-bce5-2c04241b60d6"
   },
   "outputs": [
    {
     "data": {
      "text/plain": [
       "((1220, 6), (976, 1), (244, 1))"
      ]
     },
     "execution_count": 145,
     "metadata": {
      "tags": []
     },
     "output_type": "execute_result"
    }
   ],
   "source": [
    "# 전처리\n",
    "x_train = pd.DataFrame(data.Close[:-cut_line])\n",
    "x_test = pd.DataFrame(data.Close[-cut_line:])\n",
    "data.shape, x_train.shape, x_test.shape"
   ]
  },
  {
   "cell_type": "code",
   "execution_count": 146,
   "metadata": {
    "colab": {
     "base_uri": "https://localhost:8080/",
     "height": 34
    },
    "id": "XUtqqjlsT4kK",
    "outputId": "5e6a4338-a892-43b1-e35f-dbcd14bd1862"
   },
   "outputs": [
    {
     "data": {
      "text/plain": [
       "((976, 1), (244, 1))"
      ]
     },
     "execution_count": 146,
     "metadata": {
      "tags": []
     },
     "output_type": "execute_result"
    }
   ],
   "source": [
    "# Scale Data, 정규화 과정\n",
    "from sklearn.preprocessing import MinMaxScaler\n",
    "\n",
    "scaler = MinMaxScaler()\n",
    "# MinMaxScaler : 0 ~ 1 사이로 정규화함\n",
    "scaler.fit(x_train)\n",
    "s_train = scaler.transform(x_train)\n",
    "s_test = scaler.transform(x_test)\n",
    "s_train.shape, s_test.shape"
   ]
  },
  {
   "cell_type": "code",
   "execution_count": 182,
   "metadata": {
    "id": "8ALAfZwKqf3L"
   },
   "outputs": [],
   "source": [
    "# time series Generator\n",
    "from tensorflow.keras.preprocessing.sequence import TimeseriesGenerator\n",
    "\n",
    "length = 50 # 길어질수록 학습의 정확도는 높아짐\n",
    "ts_train = TimeseriesGenerator(s_train, s_train, length=length, batch_size = 1)\n",
    "ts_test = TimeseriesGenerator(s_test, s_test, length=length, batch_size = 1)\n",
    "# stride: 연속되는 출력 시퀀스 사이의 기간. 보폭이 s이면, 연속되는 출력 샘플은 data[i]를 중심으로, data[i+s], data[i+2*s] 등이 됩니다.\n",
    "# batch_size: 각 배치의 (마지막을 제외한) 시간 단계 샘플의 수.\n",
    "# length = 50 : 50번째 값을 예측함"
   ]
  },
  {
   "cell_type": "code",
   "execution_count": 183,
   "metadata": {
    "id": "N5kHYOCcreXx"
   },
   "outputs": [],
   "source": [
    "# lstm\n",
    "model_lstm = tf.keras.models.Sequential()\n",
    "model_lstm.add(tf.keras.layers.LSTM(64, input_shape=(length,1) ))\n",
    "model_lstm.add(tf.keras.layers.Dense(1))"
   ]
  },
  {
   "cell_type": "code",
   "execution_count": 184,
   "metadata": {
    "id": "9-pch2o1rnJS"
   },
   "outputs": [],
   "source": [
    "model_lstm.compile(optimizer='adam', loss='mse')"
   ]
  },
  {
   "cell_type": "code",
   "execution_count": 185,
   "metadata": {
    "colab": {
     "base_uri": "https://localhost:8080/",
     "height": 316
    },
    "id": "l0e2UAtFrqXH",
    "outputId": "a824191c-7b6a-4d09-8f3b-25f7802b33f3"
   },
   "outputs": [
    {
     "name": "stdout",
     "output_type": "stream",
     "text": [
      "Epoch 1/8\n",
      "926/926 [==============================] - 4s 4ms/step - loss: 0.0044\n",
      "Epoch 2/8\n",
      "926/926 [==============================] - 4s 4ms/step - loss: 0.0012\n",
      "Epoch 3/8\n",
      "926/926 [==============================] - 4s 4ms/step - loss: 0.0010\n",
      "Epoch 4/8\n",
      "926/926 [==============================] - 4s 4ms/step - loss: 7.7964e-04\n",
      "Epoch 5/8\n",
      "926/926 [==============================] - 4s 4ms/step - loss: 7.8819e-04\n",
      "Epoch 6/8\n",
      "926/926 [==============================] - 4s 4ms/step - loss: 6.0363e-04\n",
      "Epoch 7/8\n",
      "926/926 [==============================] - 4s 4ms/step - loss: 5.8412e-04\n",
      "Epoch 8/8\n",
      "926/926 [==============================] - 4s 4ms/step - loss: 5.3936e-04\n"
     ]
    },
    {
     "data": {
      "text/plain": [
       "<tensorflow.python.keras.callbacks.History at 0x7fcef0823d30>"
      ]
     },
     "execution_count": 185,
     "metadata": {
      "tags": []
     },
     "output_type": "execute_result"
    }
   ],
   "source": [
    "model_lstm.fit(ts_train, epochs=8)"
   ]
  },
  {
   "cell_type": "code",
   "execution_count": 186,
   "metadata": {
    "colab": {
     "base_uri": "https://localhost:8080/",
     "height": 34
    },
    "id": "7br-oMX7rtgD",
    "outputId": "e31bcadd-2a2b-4791-b7d7-311517245ddd"
   },
   "outputs": [
    {
     "data": {
      "text/plain": [
       "((1, 50, 1), (194, 1))"
      ]
     },
     "execution_count": 186,
     "metadata": {
      "tags": []
     },
     "output_type": "execute_result"
    }
   ],
   "source": [
    "# 예측 테스트\n",
    "p_test_lstm = model_lstm.predict(ts_test)\n",
    "ts_test[0][0].shape, p_test_lstm.shape"
   ]
  },
  {
   "cell_type": "code",
   "execution_count": 187,
   "metadata": {
    "id": "pYS3KEBzrzAT"
   },
   "outputs": [],
   "source": [
    "# 정규화 원상복귀\n",
    "r_test_lstm = scaler.inverse_transform(p_test_lstm)\n",
    "# .inverse_transfor : 정규화(0~1) 한 것을 다시 원상 복귀"
   ]
  },
  {
   "cell_type": "code",
   "execution_count": 188,
   "metadata": {
    "colab": {
     "base_uri": "https://localhost:8080/",
     "height": 431
    },
    "id": "MPf-vfX2r2s4",
    "outputId": "7aca40e7-2a58-42de-a1f1-7f78b726bcf6"
   },
   "outputs": [
    {
     "data": {
      "text/html": [
       "<div>\n",
       "<style scoped>\n",
       "    .dataframe tbody tr th:only-of-type {\n",
       "        vertical-align: middle;\n",
       "    }\n",
       "\n",
       "    .dataframe tbody tr th {\n",
       "        vertical-align: top;\n",
       "    }\n",
       "\n",
       "    .dataframe thead th {\n",
       "        text-align: right;\n",
       "    }\n",
       "</style>\n",
       "<table border=\"1\" class=\"dataframe\">\n",
       "  <thead>\n",
       "    <tr style=\"text-align: right;\">\n",
       "      <th></th>\n",
       "      <th>Close</th>\n",
       "      <th>lstm</th>\n",
       "    </tr>\n",
       "    <tr>\n",
       "      <th>Date</th>\n",
       "      <th></th>\n",
       "      <th></th>\n",
       "    </tr>\n",
       "  </thead>\n",
       "  <tbody>\n",
       "    <tr>\n",
       "      <th>2020-01-13</th>\n",
       "      <td>46700.0</td>\n",
       "      <td>47091.710938</td>\n",
       "    </tr>\n",
       "    <tr>\n",
       "      <th>2020-01-14</th>\n",
       "      <td>47850.0</td>\n",
       "      <td>47057.484375</td>\n",
       "    </tr>\n",
       "    <tr>\n",
       "      <th>2020-01-15</th>\n",
       "      <td>47900.0</td>\n",
       "      <td>47984.824219</td>\n",
       "    </tr>\n",
       "    <tr>\n",
       "      <th>2020-01-16</th>\n",
       "      <td>48000.0</td>\n",
       "      <td>48213.265625</td>\n",
       "    </tr>\n",
       "    <tr>\n",
       "      <th>2020-01-17</th>\n",
       "      <td>47900.0</td>\n",
       "      <td>48245.957031</td>\n",
       "    </tr>\n",
       "    <tr>\n",
       "      <th>...</th>\n",
       "      <td>...</td>\n",
       "      <td>...</td>\n",
       "    </tr>\n",
       "    <tr>\n",
       "      <th>2020-10-19</th>\n",
       "      <td>40700.0</td>\n",
       "      <td>39665.339844</td>\n",
       "    </tr>\n",
       "    <tr>\n",
       "      <th>2020-10-20</th>\n",
       "      <td>40750.0</td>\n",
       "      <td>40815.859375</td>\n",
       "    </tr>\n",
       "    <tr>\n",
       "      <th>2020-10-21</th>\n",
       "      <td>41450.0</td>\n",
       "      <td>41141.636719</td>\n",
       "    </tr>\n",
       "    <tr>\n",
       "      <th>2020-10-22</th>\n",
       "      <td>41900.0</td>\n",
       "      <td>41663.535156</td>\n",
       "    </tr>\n",
       "    <tr>\n",
       "      <th>2020-10-23</th>\n",
       "      <td>42850.0</td>\n",
       "      <td>42121.035156</td>\n",
       "    </tr>\n",
       "  </tbody>\n",
       "</table>\n",
       "<p>194 rows × 2 columns</p>\n",
       "</div>"
      ],
      "text/plain": [
       "              Close          lstm\n",
       "Date                             \n",
       "2020-01-13  46700.0  47091.710938\n",
       "2020-01-14  47850.0  47057.484375\n",
       "2020-01-15  47900.0  47984.824219\n",
       "2020-01-16  48000.0  48213.265625\n",
       "2020-01-17  47900.0  48245.957031\n",
       "...             ...           ...\n",
       "2020-10-19  40700.0  39665.339844\n",
       "2020-10-20  40750.0  40815.859375\n",
       "2020-10-21  41450.0  41141.636719\n",
       "2020-10-22  41900.0  41663.535156\n",
       "2020-10-23  42850.0  42121.035156\n",
       "\n",
       "[194 rows x 2 columns]"
      ]
     },
     "execution_count": 188,
     "metadata": {
      "tags": []
     },
     "output_type": "execute_result"
    }
   ],
   "source": [
    "# x_test 크기 맞추고, 합치기\n",
    "cut_x_test = x_test.drop(x_test.index[0:length])\n",
    "cut_x_test['lstm'] = r_test_lstm\n",
    "cut_x_test"
   ]
  },
  {
   "cell_type": "code",
   "execution_count": 189,
   "metadata": {
    "colab": {
     "base_uri": "https://localhost:8080/",
     "height": 282
    },
    "id": "6AaOeIJIr6JN",
    "outputId": "f2559704-0f8b-47b2-cdf2-a2817b96e4d7"
   },
   "outputs": [
    {
     "data": {
      "text/plain": [
       "[<matplotlib.lines.Line2D at 0x7fceea7a2898>]"
      ]
     },
     "execution_count": 189,
     "metadata": {
      "tags": []
     },
     "output_type": "execute_result"
    },
    {
     "data": {
      "image/png": "[encoded data removed]",
      "text/plain": [
       "<Figure size 432x288 with 1 Axes>"
      ]
     },
     "metadata": {
      "needs_background": "light",
      "tags": []
     },
     "output_type": "display_data"
    }
   ],
   "source": [
    "# 시각화\n",
    "plt.plot(cut_x_test.index, cut_x_test[\"Close\"], linewidth = 4.0)\n",
    "plt.plot(cut_x_test.index, cut_x_test.lstm,color='red', linewidth = 2.0)"
   ]
  },
  {
   "cell_type": "code",
   "execution_count": 190,
   "metadata": {
    "id": "vz1VbaBusGM0"
   },
   "outputs": [],
   "source": [
    "# 미래 예측\n",
    "batch = s_test[-length:]\n",
    "\n",
    "forecast_LSTM = []\n",
    "c_batch_lstm = batch.reshape((1, length, 1))\n",
    "num = 6\n",
    "\n",
    "for i in range(num):\n",
    "  c_predict_lstm = model_lstm.predict(c_batch_lstm)[0]\n",
    "  forecast_LSTM.append(c_predict_lstm)\n",
    "  c_batch_lstm = np.append(c_batch_lstm[:,1:,:], [[c_predict_lstm]], axis=1)"
   ]
  },
  {
   "cell_type": "code",
   "execution_count": 191,
   "metadata": {
    "colab": {
     "base_uri": "https://localhost:8080/",
     "height": 34
    },
    "id": "Ad43OFB_smih",
    "outputId": "b4f2a405-e0ab-4879-9d34-e7220f4387db"
   },
   "outputs": [
    {
     "data": {
      "text/plain": [
       "(6, 1)"
      ]
     },
     "execution_count": 191,
     "metadata": {
      "tags": []
     },
     "output_type": "execute_result"
    }
   ],
   "source": [
    "# 정규화 되돌리기\n",
    "forecast_lstm = scaler.inverse_transform(forecast_LSTM)\n",
    "forecast_lstm.shape"
   ]
  },
  {
   "cell_type": "code",
   "execution_count": 192,
   "metadata": {
    "colab": {
     "base_uri": "https://localhost:8080/",
     "height": 263
    },
    "id": "GaFrePa-so0j",
    "outputId": "72bf8a1c-9244-41c1-fbce-196ad3137711"
   },
   "outputs": [
    {
     "data": {
      "text/plain": [
       "(          Date    Close          lstm\n",
       " 0   2020-01-13  46700.0  47091.710938\n",
       " 1   2020-01-14  47850.0  47057.484375\n",
       " 2   2020-01-15  47900.0  47984.824219\n",
       " 3   2020-01-16  48000.0  48213.265625\n",
       " 4   2020-01-17  47900.0  48245.957031\n",
       " ..         ...      ...           ...\n",
       " 189 2020-10-19  40700.0  39665.339844\n",
       " 190 2020-10-20  40750.0  40815.859375\n",
       " 191 2020-10-21  41450.0  41141.636719\n",
       " 192 2020-10-22  41900.0  41663.535156\n",
       " 193 2020-10-23  42850.0  42121.035156\n",
       " \n",
       " [194 rows x 3 columns], array([193, 194, 195, 196, 197, 198]), (6,))"
      ]
     },
     "execution_count": 192,
     "metadata": {
      "tags": []
     },
     "output_type": "execute_result"
    }
   ],
   "source": [
    "# shape 맞추기\n",
    "reset_df = cut_x_test.reset_index()\n",
    "forecast_ind = np.arange(reset_df.index[-1], reset_df.index[-1]+num )\n",
    "reset_df, forecast_ind, forecast_ind.shape"
   ]
  },
  {
   "cell_type": "code",
   "execution_count": 193,
   "metadata": {
    "colab": {
     "base_uri": "https://localhost:8080/",
     "height": 282
    },
    "id": "Oxnps9GitAWu",
    "outputId": "9d7af6b0-0d9a-443b-db3b-a212eb0675eb"
   },
   "outputs": [
    {
     "data": {
      "text/plain": [
       "[<matplotlib.lines.Line2D at 0x7fcef0777390>]"
      ]
     },
     "execution_count": 193,
     "metadata": {
      "tags": []
     },
     "output_type": "execute_result"
    },
    {
     "data": {
      "image/png": "[encoded data removed]",
      "text/plain": [
       "<Figure size 432x288 with 1 Axes>"
      ]
     },
     "metadata": {
      "needs_background": "light",
      "tags": []
     },
     "output_type": "display_data"
    }
   ],
   "source": [
    "# 시각화\n",
    "plt.plot(reset_df.index[180:], reset_df[\"Close\"][180:])\n",
    "plt.plot(forecast_ind, forecast_lstm, color='red')"
   ]
  },
  {
   "cell_type": "code",
   "execution_count": null,
   "metadata": {
    "id": "9rismtOytAvi"
   },
   "outputs": [],
   "source": []
  }
 ],
 "metadata": {
  "accelerator": "GPU",
  "colab": {
   "collapsed_sections": [],
   "name": "RNN-임종철.ipynb",
   "provenance": []
  },
  "kernelspec": {
   "display_name": "Python 3",
   "language": "python",
   "name": "python3"
  },
  "language_info": {
   "codemirror_mode": {
    "name": "ipython",
    "version": 3
   },
   "file_extension": ".py",
   "mimetype": "text/x-python",
   "name": "python",
   "nbconvert_exporter": "python",
   "pygments_lexer": "ipython3",
   "version": "3.8.3"
  }
 },
 "nbformat": 4,
 "nbformat_minor": 4
}
