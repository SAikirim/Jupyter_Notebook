{
 "cells": [
  {
   "cell_type": "markdown",
   "metadata": {
    "id": "BX-HrnwmO-Wy"
   },
   "source": [
    "# 상장법인목록"
   ]
  },
  {
   "cell_type": "code",
   "execution_count": 1,
   "metadata": {
    "executionInfo": {
     "elapsed": 670,
     "status": "ok",
     "timestamp": 1603426339585,
     "user": {
      "displayName": "정세영",
      "photoUrl": "https://lh3.googleusercontent.com/a-/AOh14GgdNARfE188HEpD3vOSz7T9ZJeh6jgzQ0ON_KuuaA=s64",
      "userId": "00575587667277334617"
     },
     "user_tz": -540
    },
    "id": "KH7Md6MCO_lr"
   },
   "outputs": [],
   "source": [
    "import pandas as pd\n",
    "import matplotlib.pyplot as plt"
   ]
  },
  {
   "cell_type": "code",
   "execution_count": 2,
   "metadata": {
    "executionInfo": {
     "elapsed": 7506,
     "status": "ok",
     "timestamp": 1603426241685,
     "user": {
      "displayName": "정세영",
      "photoUrl": "https://lh3.googleusercontent.com/a-/AOh14GgdNARfE188HEpD3vOSz7T9ZJeh6jgzQ0ON_KuuaA=s64",
      "userId": "00575587667277334617"
     },
     "user_tz": -540
    },
    "id": "Z--zkw5tPa8P"
   },
   "outputs": [],
   "source": [
    "df = pd.read_html('http://kind.krx.co.kr/corpgeneral/corpList.do?method=download', header=0)[0]"
   ]
  },
  {
   "cell_type": "code",
   "execution_count": 3,
   "metadata": {
    "colab": {
     "base_uri": "https://localhost:8080/",
     "height": 406
    },
    "executionInfo": {
     "elapsed": 6456,
     "status": "ok",
     "timestamp": 1603426241688,
     "user": {
      "displayName": "정세영",
      "photoUrl": "https://lh3.googleusercontent.com/a-/AOh14GgdNARfE188HEpD3vOSz7T9ZJeh6jgzQ0ON_KuuaA=s64",
      "userId": "00575587667277334617"
     },
     "user_tz": -540
    },
    "id": "80GP-uhRQsNn",
    "outputId": "d83060d0-4b8f-4691-fe68-fd4df2596eb4"
   },
   "outputs": [
    {
     "data": {
      "text/html": [
       "<div>\n",
       "<style scoped>\n",
       "    .dataframe tbody tr th:only-of-type {\n",
       "        vertical-align: middle;\n",
       "    }\n",
       "\n",
       "    .dataframe tbody tr th {\n",
       "        vertical-align: top;\n",
       "    }\n",
       "\n",
       "    .dataframe thead th {\n",
       "        text-align: right;\n",
       "    }\n",
       "</style>\n",
       "<table border=\"1\" class=\"dataframe\">\n",
       "  <thead>\n",
       "    <tr style=\"text-align: right;\">\n",
       "      <th></th>\n",
       "      <th>회사명</th>\n",
       "      <th>종목코드</th>\n",
       "      <th>업종</th>\n",
       "      <th>주요제품</th>\n",
       "      <th>상장일</th>\n",
       "      <th>결산월</th>\n",
       "      <th>대표자명</th>\n",
       "      <th>홈페이지</th>\n",
       "      <th>지역</th>\n",
       "    </tr>\n",
       "  </thead>\n",
       "  <tbody>\n",
       "    <tr>\n",
       "      <th>0</th>\n",
       "      <td>JS전선</td>\n",
       "      <td>5560</td>\n",
       "      <td>절연선 및 케이블 제조업</td>\n",
       "      <td>선박선,고무선,전력선,통신선 제조</td>\n",
       "      <td>2007-11-12</td>\n",
       "      <td>12월</td>\n",
       "      <td>이익희</td>\n",
       "      <td>http://www.jscable.co.kr</td>\n",
       "      <td>충청남도</td>\n",
       "    </tr>\n",
       "    <tr>\n",
       "      <th>1</th>\n",
       "      <td>거북선2호</td>\n",
       "      <td>101380</td>\n",
       "      <td>NaN</td>\n",
       "      <td>운송장비(선박) 임대</td>\n",
       "      <td>2008-04-25</td>\n",
       "      <td>12월</td>\n",
       "      <td>신주선</td>\n",
       "      <td>NaN</td>\n",
       "      <td>부산광역시</td>\n",
       "    </tr>\n",
       "    <tr>\n",
       "      <th>2</th>\n",
       "      <td>거북선6호</td>\n",
       "      <td>114140</td>\n",
       "      <td>NaN</td>\n",
       "      <td>NaN</td>\n",
       "      <td>2009-10-01</td>\n",
       "      <td>12월</td>\n",
       "      <td>김연신</td>\n",
       "      <td>NaN</td>\n",
       "      <td>제주특별자치도</td>\n",
       "    </tr>\n",
       "    <tr>\n",
       "      <th>3</th>\n",
       "      <td>교보메리츠</td>\n",
       "      <td>64900</td>\n",
       "      <td>NaN</td>\n",
       "      <td>부동산 투자,운용</td>\n",
       "      <td>2002-01-30</td>\n",
       "      <td>12월</td>\n",
       "      <td>김 상 진</td>\n",
       "      <td>NaN</td>\n",
       "      <td>서울특별시</td>\n",
       "    </tr>\n",
       "    <tr>\n",
       "      <th>4</th>\n",
       "      <td>국제관광공사</td>\n",
       "      <td>28780</td>\n",
       "      <td>NaN</td>\n",
       "      <td>NaN</td>\n",
       "      <td>1966-03-18</td>\n",
       "      <td>12월</td>\n",
       "      <td>NaN</td>\n",
       "      <td>NaN</td>\n",
       "      <td>NaN</td>\n",
       "    </tr>\n",
       "    <tr>\n",
       "      <th>...</th>\n",
       "      <td>...</td>\n",
       "      <td>...</td>\n",
       "      <td>...</td>\n",
       "      <td>...</td>\n",
       "      <td>...</td>\n",
       "      <td>...</td>\n",
       "      <td>...</td>\n",
       "      <td>...</td>\n",
       "      <td>...</td>\n",
       "    </tr>\n",
       "    <tr>\n",
       "      <th>3874</th>\n",
       "      <td>툴젠</td>\n",
       "      <td>199800</td>\n",
       "      <td>자연과학 및 공학 연구개발업</td>\n",
       "      <td>유전자가위 (유전체 교정 도구) 및 이를 이용한 유전자세포치료제, 고부가가치 가축,...</td>\n",
       "      <td>2014-06-25</td>\n",
       "      <td>12월</td>\n",
       "      <td>김영호, 이병화(각자 대표이사)</td>\n",
       "      <td>http://www.toolgen.com</td>\n",
       "      <td>서울특별시</td>\n",
       "    </tr>\n",
       "    <tr>\n",
       "      <th>3875</th>\n",
       "      <td>플럼라인생명과학</td>\n",
       "      <td>222670</td>\n",
       "      <td>자연과학 및 공학 연구개발업</td>\n",
       "      <td>강아지암치료제,돼지DNA테라피</td>\n",
       "      <td>2015-07-28</td>\n",
       "      <td>12월</td>\n",
       "      <td>김앤토니경태</td>\n",
       "      <td>http://www.plsdna.com</td>\n",
       "      <td>서울특별시</td>\n",
       "    </tr>\n",
       "    <tr>\n",
       "      <th>3876</th>\n",
       "      <td>피엔에이치테크</td>\n",
       "      <td>239890</td>\n",
       "      <td>기초 화학물질 제조업</td>\n",
       "      <td>OLED완성체, OLED중간체, Pd촉매</td>\n",
       "      <td>2016-08-16</td>\n",
       "      <td>12월</td>\n",
       "      <td>현서용</td>\n",
       "      <td>http://www.phtech.co.kr</td>\n",
       "      <td>경기도</td>\n",
       "    </tr>\n",
       "    <tr>\n",
       "      <th>3877</th>\n",
       "      <td>한국미라클피플사</td>\n",
       "      <td>331660</td>\n",
       "      <td>기타 화학제품 제조업</td>\n",
       "      <td>은나노스텝, 닥터오렌지 등</td>\n",
       "      <td>2019-10-28</td>\n",
       "      <td>12월</td>\n",
       "      <td>이호경</td>\n",
       "      <td>http://www.kmpc.co.kr</td>\n",
       "      <td>경기도</td>\n",
       "    </tr>\n",
       "    <tr>\n",
       "      <th>3878</th>\n",
       "      <td>휴벡셀</td>\n",
       "      <td>212310</td>\n",
       "      <td>의료용 기기 제조업</td>\n",
       "      <td>척추용 임플란트 등</td>\n",
       "      <td>2016-07-26</td>\n",
       "      <td>12월</td>\n",
       "      <td>박정민, 허성규(각자대표)</td>\n",
       "      <td>http://huvexel.com</td>\n",
       "      <td>경기도</td>\n",
       "    </tr>\n",
       "  </tbody>\n",
       "</table>\n",
       "<p>3879 rows × 9 columns</p>\n",
       "</div>"
      ],
      "text/plain": [
       "           회사명    종목코드               업종  \\\n",
       "0         JS전선    5560    절연선 및 케이블 제조업   \n",
       "1        거북선2호  101380              NaN   \n",
       "2        거북선6호  114140              NaN   \n",
       "3        교보메리츠   64900              NaN   \n",
       "4       국제관광공사   28780              NaN   \n",
       "...        ...     ...              ...   \n",
       "3874        툴젠  199800  자연과학 및 공학 연구개발업   \n",
       "3875  플럼라인생명과학  222670  자연과학 및 공학 연구개발업   \n",
       "3876   피엔에이치테크  239890      기초 화학물질 제조업   \n",
       "3877  한국미라클피플사  331660      기타 화학제품 제조업   \n",
       "3878       휴벡셀  212310       의료용 기기 제조업   \n",
       "\n",
       "                                                   주요제품         상장일  결산월  \\\n",
       "0                                    선박선,고무선,전력선,통신선 제조  2007-11-12  12월   \n",
       "1                                           운송장비(선박) 임대  2008-04-25  12월   \n",
       "2                                                   NaN  2009-10-01  12월   \n",
       "3                                             부동산 투자,운용  2002-01-30  12월   \n",
       "4                                                   NaN  1966-03-18  12월   \n",
       "...                                                 ...         ...  ...   \n",
       "3874  유전자가위 (유전체 교정 도구) 및 이를 이용한 유전자세포치료제, 고부가가치 가축,...  2014-06-25  12월   \n",
       "3875                                   강아지암치료제,돼지DNA테라피  2015-07-28  12월   \n",
       "3876                             OLED완성체, OLED중간체, Pd촉매  2016-08-16  12월   \n",
       "3877                                     은나노스텝, 닥터오렌지 등  2019-10-28  12월   \n",
       "3878                                         척추용 임플란트 등  2016-07-26  12월   \n",
       "\n",
       "                   대표자명                      홈페이지       지역  \n",
       "0                   이익희  http://www.jscable.co.kr     충청남도  \n",
       "1                   신주선                       NaN    부산광역시  \n",
       "2                   김연신                       NaN  제주특별자치도  \n",
       "3                 김 상 진                       NaN    서울특별시  \n",
       "4                   NaN                       NaN      NaN  \n",
       "...                 ...                       ...      ...  \n",
       "3874  김영호, 이병화(각자 대표이사)    http://www.toolgen.com    서울특별시  \n",
       "3875             김앤토니경태     http://www.plsdna.com    서울특별시  \n",
       "3876                현서용   http://www.phtech.co.kr      경기도  \n",
       "3877                이호경     http://www.kmpc.co.kr      경기도  \n",
       "3878     박정민, 허성규(각자대표)        http://huvexel.com      경기도  \n",
       "\n",
       "[3879 rows x 9 columns]"
      ]
     },
     "execution_count": 3,
     "metadata": {},
     "output_type": "execute_result"
    }
   ],
   "source": [
    "df"
   ]
  },
  {
   "cell_type": "code",
   "execution_count": 4,
   "metadata": {
    "executionInfo": {
     "elapsed": 2123,
     "status": "ok",
     "timestamp": 1603426241688,
     "user": {
      "displayName": "정세영",
      "photoUrl": "https://lh3.googleusercontent.com/a-/AOh14GgdNARfE188HEpD3vOSz7T9ZJeh6jgzQ0ON_KuuaA=s64",
      "userId": "00575587667277334617"
     },
     "user_tz": -540
    },
    "id": "ogLyKO12Q1AT"
   },
   "outputs": [],
   "source": [
    "df2 = df.set_index('회사명')[['종목코드']]"
   ]
  },
  {
   "cell_type": "code",
   "execution_count": 5,
   "metadata": {
    "colab": {
     "base_uri": "https://localhost:8080/",
     "height": 1000
    },
    "executionInfo": {
     "elapsed": 711,
     "status": "ok",
     "timestamp": 1603426372892,
     "user": {
      "displayName": "정세영",
      "photoUrl": "https://lh3.googleusercontent.com/a-/AOh14GgdNARfE188HEpD3vOSz7T9ZJeh6jgzQ0ON_KuuaA=s64",
      "userId": "00575587667277334617"
     },
     "user_tz": -540
    },
    "id": "ZB25Vmucpvms",
    "outputId": "c86e00d8-df3b-48ee-b205-cb92ff25af2a"
   },
   "outputs": [
    {
     "data": {
      "text/plain": [
       "['시냅스엠',\n",
       " '영현무역',\n",
       " '유디피',\n",
       " '인산가',\n",
       " '인프라웨어테크놀러지',\n",
       " '한국비엔씨',\n",
       " 'DSR',\n",
       " 'GS글로벌',\n",
       " 'HDC현대산업개발',\n",
       " 'KEC',\n",
       " 'KG케미칼',\n",
       " 'LG이노텍',\n",
       " 'LG전자',\n",
       " 'LG헬로비전',\n",
       " 'OCI',\n",
       " 'S&TC',\n",
       " 'S&T모티브',\n",
       " 'SK이노베이션',\n",
       " 'STX',\n",
       " 'WISCOM',\n",
       " 'YG PLUS',\n",
       " '갤럭시아에스엠',\n",
       " '고려아연',\n",
       " '극동유화',\n",
       " '대덕',\n",
       " '대덕전자',\n",
       " '대영포장',\n",
       " '대한유화',\n",
       " '동아쏘시오홀딩스',\n",
       " '두산',\n",
       " '두산밥캣',\n",
       " '락앤락',\n",
       " '마니커',\n",
       " '만도',\n",
       " '메리츠증권',\n",
       " '모두투어리츠',\n",
       " '부국증권',\n",
       " '삼성SDI',\n",
       " '삼성엔지니어링',\n",
       " '삼성중공업',\n",
       " '삼성출판사',\n",
       " '삼성화재해상보험',\n",
       " '삼양식품',\n",
       " '삼양홀딩스',\n",
       " '삼영전자공업',\n",
       " '삼영화학공업',\n",
       " '상상인증권',\n",
       " '선도전기',\n",
       " '선진',\n",
       " '세방전지',\n",
       " '세원셀론텍',\n",
       " '신한알파리츠',\n",
       " '신한지주',\n",
       " '쌍용자동차',\n",
       " '에넥스',\n",
       " '영화금속',\n",
       " '윌비스',\n",
       " '유나이티드',\n",
       " '인지컨트롤스',\n",
       " '인터지스',\n",
       " '일성건설',\n",
       " '일진다이아',\n",
       " '제일약품',\n",
       " '제일연마',\n",
       " '제일파마홀딩스',\n",
       " '조흥',\n",
       " '지역난방공사',\n",
       " '진도',\n",
       " '컨버즈',\n",
       " '코오롱인더',\n",
       " '키다리스튜디오',\n",
       " '태경산업',\n",
       " '태양금속공업',\n",
       " '포스코강판',\n",
       " '필룩스',\n",
       " '한국공항',\n",
       " '한국종합기술',\n",
       " '한국철강',\n",
       " '한국패러랠',\n",
       " '한라홀딩스',\n",
       " '한미약품',\n",
       " '한솔로지스틱스',\n",
       " '한일철강',\n",
       " '한일현대시멘트',\n",
       " '한창제지',\n",
       " '한화생명',\n",
       " '한화시스템',\n",
       " '현대건설',\n",
       " '현대건설기계',\n",
       " '현대모비스',\n",
       " '현대비앤지스틸',\n",
       " '현대엘리베이터',\n",
       " '현대차증권',\n",
       " '현대홈쇼핑',\n",
       " '호전실업',\n",
       " 'CJ프레시웨이',\n",
       " 'EDGC',\n",
       " 'GST',\n",
       " 'GS홈쇼핑',\n",
       " 'IBKS제13호스팩']"
      ]
     },
     "execution_count": 5,
     "metadata": {},
     "output_type": "execute_result"
    }
   ],
   "source": [
    "list(df['회사명'])[200:300]"
   ]
  },
  {
   "cell_type": "code",
   "execution_count": 6,
   "metadata": {
    "executionInfo": {
     "elapsed": 725,
     "status": "ok",
     "timestamp": 1603426246206,
     "user": {
      "displayName": "정세영",
      "photoUrl": "https://lh3.googleusercontent.com/a-/AOh14GgdNARfE188HEpD3vOSz7T9ZJeh6jgzQ0ON_KuuaA=s64",
      "userId": "00575587667277334617"
     },
     "user_tz": -540
    },
    "id": "dxM5e70oRt23"
   },
   "outputs": [],
   "source": [
    "import pandas_datareader as pdr"
   ]
  },
  {
   "cell_type": "code",
   "execution_count": 7,
   "metadata": {
    "executionInfo": {
     "elapsed": 700,
     "status": "ok",
     "timestamp": 1603426386137,
     "user": {
      "displayName": "정세영",
      "photoUrl": "https://lh3.googleusercontent.com/a-/AOh14GgdNARfE188HEpD3vOSz7T9ZJeh6jgzQ0ON_KuuaA=s64",
      "userId": "00575587667277334617"
     },
     "user_tz": -540
    },
    "id": "qElskt_UTjLy"
   },
   "outputs": [],
   "source": [
    "name = '포스코'\n",
    "x = df2.loc[name]['종목코드']\n",
    "find = '{:06d}.KS'.format(x)"
   ]
  },
  {
   "cell_type": "code",
   "execution_count": 8,
   "metadata": {
    "executionInfo": {
     "elapsed": 1250,
     "status": "ok",
     "timestamp": 1603426389146,
     "user": {
      "displayName": "정세영",
      "photoUrl": "https://lh3.googleusercontent.com/a-/AOh14GgdNARfE188HEpD3vOSz7T9ZJeh6jgzQ0ON_KuuaA=s64",
      "userId": "00575587667277334617"
     },
     "user_tz": -540
    },
    "id": "Tt-PW8-sTZUO"
   },
   "outputs": [],
   "source": [
    "df_h = pdr.get_data_yahoo(find)"
   ]
  },
  {
   "cell_type": "code",
   "execution_count": 9,
   "metadata": {
    "executionInfo": {
     "elapsed": 862,
     "status": "ok",
     "timestamp": 1603426389147,
     "user": {
      "displayName": "정세영",
      "photoUrl": "https://lh3.googleusercontent.com/a-/AOh14GgdNARfE188HEpD3vOSz7T9ZJeh6jgzQ0ON_KuuaA=s64",
      "userId": "00575587667277334617"
     },
     "user_tz": -540
    },
    "id": "EsVtcQE_Ua_I"
   },
   "outputs": [],
   "source": [
    "df1 = pd.DataFrame(data=df_h['Close'], index=df_h.index)"
   ]
  },
  {
   "cell_type": "code",
   "execution_count": 10,
   "metadata": {
    "colab": {
     "base_uri": "https://localhost:8080/",
     "height": 436
    },
    "executionInfo": {
     "elapsed": 563,
     "status": "ok",
     "timestamp": 1603426389892,
     "user": {
      "displayName": "정세영",
      "photoUrl": "https://lh3.googleusercontent.com/a-/AOh14GgdNARfE188HEpD3vOSz7T9ZJeh6jgzQ0ON_KuuaA=s64",
      "userId": "00575587667277334617"
     },
     "user_tz": -540
    },
    "id": "M7rL35jklaAK",
    "outputId": "c78b2b28-5a74-4d62-9bf1-248f709fb9bf"
   },
   "outputs": [
    {
     "data": {
      "text/html": [
       "<div>\n",
       "<style scoped>\n",
       "    .dataframe tbody tr th:only-of-type {\n",
       "        vertical-align: middle;\n",
       "    }\n",
       "\n",
       "    .dataframe tbody tr th {\n",
       "        vertical-align: top;\n",
       "    }\n",
       "\n",
       "    .dataframe thead th {\n",
       "        text-align: right;\n",
       "    }\n",
       "</style>\n",
       "<table border=\"1\" class=\"dataframe\">\n",
       "  <thead>\n",
       "    <tr style=\"text-align: right;\">\n",
       "      <th></th>\n",
       "      <th>Close</th>\n",
       "    </tr>\n",
       "    <tr>\n",
       "      <th>Date</th>\n",
       "      <th></th>\n",
       "    </tr>\n",
       "  </thead>\n",
       "  <tbody>\n",
       "    <tr>\n",
       "      <th>2015-10-26</th>\n",
       "      <td>193000.0</td>\n",
       "    </tr>\n",
       "    <tr>\n",
       "      <th>2015-10-27</th>\n",
       "      <td>188000.0</td>\n",
       "    </tr>\n",
       "    <tr>\n",
       "      <th>2015-10-28</th>\n",
       "      <td>191000.0</td>\n",
       "    </tr>\n",
       "    <tr>\n",
       "      <th>2015-10-29</th>\n",
       "      <td>187500.0</td>\n",
       "    </tr>\n",
       "    <tr>\n",
       "      <th>2015-10-30</th>\n",
       "      <td>182000.0</td>\n",
       "    </tr>\n",
       "    <tr>\n",
       "      <th>...</th>\n",
       "      <td>...</td>\n",
       "    </tr>\n",
       "    <tr>\n",
       "      <th>2020-10-19</th>\n",
       "      <td>208500.0</td>\n",
       "    </tr>\n",
       "    <tr>\n",
       "      <th>2020-10-20</th>\n",
       "      <td>206500.0</td>\n",
       "    </tr>\n",
       "    <tr>\n",
       "      <th>2020-10-21</th>\n",
       "      <td>207000.0</td>\n",
       "    </tr>\n",
       "    <tr>\n",
       "      <th>2020-10-22</th>\n",
       "      <td>210000.0</td>\n",
       "    </tr>\n",
       "    <tr>\n",
       "      <th>2020-10-23</th>\n",
       "      <td>217000.0</td>\n",
       "    </tr>\n",
       "  </tbody>\n",
       "</table>\n",
       "<p>1220 rows × 1 columns</p>\n",
       "</div>"
      ],
      "text/plain": [
       "               Close\n",
       "Date                \n",
       "2015-10-26  193000.0\n",
       "2015-10-27  188000.0\n",
       "2015-10-28  191000.0\n",
       "2015-10-29  187500.0\n",
       "2015-10-30  182000.0\n",
       "...              ...\n",
       "2020-10-19  208500.0\n",
       "2020-10-20  206500.0\n",
       "2020-10-21  207000.0\n",
       "2020-10-22  210000.0\n",
       "2020-10-23  217000.0\n",
       "\n",
       "[1220 rows x 1 columns]"
      ]
     },
     "execution_count": 10,
     "metadata": {},
     "output_type": "execute_result"
    }
   ],
   "source": [
    "df1"
   ]
  },
  {
   "cell_type": "code",
   "execution_count": 11,
   "metadata": {
    "colab": {
     "base_uri": "https://localhost:8080/",
     "height": 282
    },
    "executionInfo": {
     "elapsed": 795,
     "status": "ok",
     "timestamp": 1603426391305,
     "user": {
      "displayName": "정세영",
      "photoUrl": "https://lh3.googleusercontent.com/a-/AOh14GgdNARfE188HEpD3vOSz7T9ZJeh6jgzQ0ON_KuuaA=s64",
      "userId": "00575587667277334617"
     },
     "user_tz": -540
    },
    "id": "xGUvEHfvp7_V",
    "outputId": "aa2ef3ff-56a2-4b56-9dff-3d8952517d17"
   },
   "outputs": [
    {
     "data": {
      "text/plain": [
       "[<matplotlib.lines.Line2D at 0x1f0cddd4f70>]"
      ]
     },
     "execution_count": 11,
     "metadata": {},
     "output_type": "execute_result"
    },
    {
     "data": {
      "image/png": "[encoded data removed]",
      "text/plain": [
       "<Figure size 432x288 with 1 Axes>"
      ]
     },
     "metadata": {
      "needs_background": "light"
     },
     "output_type": "display_data"
    }
   ],
   "source": [
    "plt.plot(df1.index, df1.Close)"
   ]
  },
  {
   "cell_type": "code",
   "execution_count": 12,
   "metadata": {
    "executionInfo": {
     "elapsed": 782,
     "status": "ok",
     "timestamp": 1603426409546,
     "user": {
      "displayName": "정세영",
      "photoUrl": "https://lh3.googleusercontent.com/a-/AOh14GgdNARfE188HEpD3vOSz7T9ZJeh6jgzQ0ON_KuuaA=s64",
      "userId": "00575587667277334617"
     },
     "user_tz": -540
    },
    "id": "FPunU0XLWaA8"
   },
   "outputs": [],
   "source": [
    "train = df1[:1020] #Change\n",
    "test = df1[1020:]"
   ]
  },
  {
   "cell_type": "code",
   "execution_count": 13,
   "metadata": {
    "executionInfo": {
     "elapsed": 2208,
     "status": "ok",
     "timestamp": 1603426411652,
     "user": {
      "displayName": "정세영",
      "photoUrl": "https://lh3.googleusercontent.com/a-/AOh14GgdNARfE188HEpD3vOSz7T9ZJeh6jgzQ0ON_KuuaA=s64",
      "userId": "00575587667277334617"
     },
     "user_tz": -540
    },
    "id": "BjfC_lWfWob_"
   },
   "outputs": [],
   "source": [
    "import tensorflow as tf\n",
    "import numpy as np\n",
    "import matplotlib.pyplot as plt"
   ]
  },
  {
   "cell_type": "code",
   "execution_count": 14,
   "metadata": {
    "executionInfo": {
     "elapsed": 1732,
     "status": "ok",
     "timestamp": 1603426411655,
     "user": {
      "displayName": "정세영",
      "photoUrl": "https://lh3.googleusercontent.com/a-/AOh14GgdNARfE188HEpD3vOSz7T9ZJeh6jgzQ0ON_KuuaA=s64",
      "userId": "00575587667277334617"
     },
     "user_tz": -540
    },
    "id": "BfwuThaIe76N"
   },
   "outputs": [],
   "source": [
    "from sklearn.preprocessing import MinMaxScaler"
   ]
  },
  {
   "cell_type": "code",
   "execution_count": 15,
   "metadata": {
    "executionInfo": {
     "elapsed": 1379,
     "status": "ok",
     "timestamp": 1603426411657,
     "user": {
      "displayName": "정세영",
      "photoUrl": "https://lh3.googleusercontent.com/a-/AOh14GgdNARfE188HEpD3vOSz7T9ZJeh6jgzQ0ON_KuuaA=s64",
      "userId": "00575587667277334617"
     },
     "user_tz": -540
    },
    "id": "tZ_vbGg3fph-"
   },
   "outputs": [],
   "source": [
    "scaler = MinMaxScaler()"
   ]
  },
  {
   "cell_type": "code",
   "execution_count": 16,
   "metadata": {
    "executionInfo": {
     "elapsed": 1064,
     "status": "ok",
     "timestamp": 1603426411658,
     "user": {
      "displayName": "정세영",
      "photoUrl": "https://lh3.googleusercontent.com/a-/AOh14GgdNARfE188HEpD3vOSz7T9ZJeh6jgzQ0ON_KuuaA=s64",
      "userId": "00575587667277334617"
     },
     "user_tz": -540
    },
    "id": "dHH6wdAEf-em"
   },
   "outputs": [],
   "source": [
    "s_train = scaler.fit_transform(train)\n",
    "s_test = scaler.fit_transform(test)"
   ]
  },
  {
   "cell_type": "code",
   "execution_count": 17,
   "metadata": {
    "executionInfo": {
     "elapsed": 463,
     "status": "ok",
     "timestamp": 1603426411987,
     "user": {
      "displayName": "정세영",
      "photoUrl": "https://lh3.googleusercontent.com/a-/AOh14GgdNARfE188HEpD3vOSz7T9ZJeh6jgzQ0ON_KuuaA=s64",
      "userId": "00575587667277334617"
     },
     "user_tz": -540
    },
    "id": "lPbVLGSIgKPj"
   },
   "outputs": [],
   "source": [
    "from tensorflow.keras.preprocessing.sequence import TimeseriesGenerator"
   ]
  },
  {
   "cell_type": "code",
   "execution_count": 18,
   "metadata": {
    "executionInfo": {
     "elapsed": 1502,
     "status": "ok",
     "timestamp": 1603426425406,
     "user": {
      "displayName": "정세영",
      "photoUrl": "https://lh3.googleusercontent.com/a-/AOh14GgdNARfE188HEpD3vOSz7T9ZJeh6jgzQ0ON_KuuaA=s64",
      "userId": "00575587667277334617"
     },
     "user_tz": -540
    },
    "id": "2E1C-NMCgbiB"
   },
   "outputs": [],
   "source": [
    "length=128 # change\n",
    "generator = TimeseriesGenerator(s_train, s_train, length, batch_size=1)"
   ]
  },
  {
   "cell_type": "code",
   "execution_count": 19,
   "metadata": {
    "executionInfo": {
     "elapsed": 7419,
     "status": "ok",
     "timestamp": 1603426434361,
     "user": {
      "displayName": "정세영",
      "photoUrl": "https://lh3.googleusercontent.com/a-/AOh14GgdNARfE188HEpD3vOSz7T9ZJeh6jgzQ0ON_KuuaA=s64",
      "userId": "00575587667277334617"
     },
     "user_tz": -540
    },
    "id": "17YmJYdagpRh"
   },
   "outputs": [],
   "source": [
    "model = tf.keras.Sequential()"
   ]
  },
  {
   "cell_type": "code",
   "execution_count": 20,
   "metadata": {
    "executionInfo": {
     "elapsed": 2348,
     "status": "ok",
     "timestamp": 1603426439858,
     "user": {
      "displayName": "정세영",
      "photoUrl": "https://lh3.googleusercontent.com/a-/AOh14GgdNARfE188HEpD3vOSz7T9ZJeh6jgzQ0ON_KuuaA=s64",
      "userId": "00575587667277334617"
     },
     "user_tz": -540
    },
    "id": "12_2ex9DgsTR"
   },
   "outputs": [],
   "source": [
    "model.add(tf.keras.layers.LSTM(64, input_shape=(128,1))) #change\n",
    "model.add(tf.keras.layers.Dense(1))"
   ]
  },
  {
   "cell_type": "code",
   "execution_count": 21,
   "metadata": {
    "executionInfo": {
     "elapsed": 1152,
     "status": "ok",
     "timestamp": 1603426439859,
     "user": {
      "displayName": "정세영",
      "photoUrl": "https://lh3.googleusercontent.com/a-/AOh14GgdNARfE188HEpD3vOSz7T9ZJeh6jgzQ0ON_KuuaA=s64",
      "userId": "00575587667277334617"
     },
     "user_tz": -540
    },
    "id": "Q_cirbkLg_40"
   },
   "outputs": [],
   "source": [
    "model.compile(optimizer='adam', loss='mse')"
   ]
  },
  {
   "cell_type": "code",
   "execution_count": 22,
   "metadata": {
    "colab": {
     "base_uri": "https://localhost:8080/",
     "height": 212
    },
    "executionInfo": {
     "elapsed": 35124,
     "status": "ok",
     "timestamp": 1603426477005,
     "user": {
      "displayName": "정세영",
      "photoUrl": "https://lh3.googleusercontent.com/a-/AOh14GgdNARfE188HEpD3vOSz7T9ZJeh6jgzQ0ON_KuuaA=s64",
      "userId": "00575587667277334617"
     },
     "user_tz": -540
    },
    "id": "61yM9AD-hIwm",
    "outputId": "5ea0b12e-6b26-44e4-9e4f-295bd59fb94d"
   },
   "outputs": [
    {
     "name": "stdout",
     "output_type": "stream",
     "text": [
      "Epoch 1/5\n"
     ]
    },
    {
     "ename": "UnknownError",
     "evalue": "   Fail to find the dnn implementation.\n\t [[{{node CudnnRNN}}]]\n\t [[sequential/lstm/PartitionedCall]] [Op:__inference_train_function_2897]\n\nFunction call stack:\ntrain_function -> train_function -> train_function\n",
     "output_type": "error",
     "traceback": [
      "\u001b[1;31m---------------------------------------------------------------------------\u001b[0m",
      "\u001b[1;31mUnknownError\u001b[0m                              Traceback (most recent call last)",
      "\u001b[1;32m<ipython-input-22-652e7cc580e9>\u001b[0m in \u001b[0;36m<module>\u001b[1;34m\u001b[0m\n\u001b[1;32m----> 1\u001b[1;33m \u001b[0mmodel\u001b[0m\u001b[1;33m.\u001b[0m\u001b[0mfit\u001b[0m\u001b[1;33m(\u001b[0m\u001b[0mgenerator\u001b[0m\u001b[1;33m,\u001b[0m \u001b[0mepochs\u001b[0m\u001b[1;33m=\u001b[0m\u001b[1;36m5\u001b[0m\u001b[1;33m)\u001b[0m\u001b[1;33m\u001b[0m\u001b[1;33m\u001b[0m\u001b[0m\n\u001b[0m",
      "\u001b[1;32m~\\anaconda3\\envs\\tensorflow\\lib\\site-packages\\tensorflow\\python\\keras\\engine\\training.py\u001b[0m in \u001b[0;36m_method_wrapper\u001b[1;34m(self, *args, **kwargs)\u001b[0m\n\u001b[0;32m    106\u001b[0m   \u001b[1;32mdef\u001b[0m \u001b[0m_method_wrapper\u001b[0m\u001b[1;33m(\u001b[0m\u001b[0mself\u001b[0m\u001b[1;33m,\u001b[0m \u001b[1;33m*\u001b[0m\u001b[0margs\u001b[0m\u001b[1;33m,\u001b[0m \u001b[1;33m**\u001b[0m\u001b[0mkwargs\u001b[0m\u001b[1;33m)\u001b[0m\u001b[1;33m:\u001b[0m\u001b[1;33m\u001b[0m\u001b[1;33m\u001b[0m\u001b[0m\n\u001b[0;32m    107\u001b[0m     \u001b[1;32mif\u001b[0m \u001b[1;32mnot\u001b[0m \u001b[0mself\u001b[0m\u001b[1;33m.\u001b[0m\u001b[0m_in_multi_worker_mode\u001b[0m\u001b[1;33m(\u001b[0m\u001b[1;33m)\u001b[0m\u001b[1;33m:\u001b[0m  \u001b[1;31m# pylint: disable=protected-access\u001b[0m\u001b[1;33m\u001b[0m\u001b[1;33m\u001b[0m\u001b[0m\n\u001b[1;32m--> 108\u001b[1;33m       \u001b[1;32mreturn\u001b[0m \u001b[0mmethod\u001b[0m\u001b[1;33m(\u001b[0m\u001b[0mself\u001b[0m\u001b[1;33m,\u001b[0m \u001b[1;33m*\u001b[0m\u001b[0margs\u001b[0m\u001b[1;33m,\u001b[0m \u001b[1;33m**\u001b[0m\u001b[0mkwargs\u001b[0m\u001b[1;33m)\u001b[0m\u001b[1;33m\u001b[0m\u001b[1;33m\u001b[0m\u001b[0m\n\u001b[0m\u001b[0;32m    109\u001b[0m \u001b[1;33m\u001b[0m\u001b[0m\n\u001b[0;32m    110\u001b[0m     \u001b[1;31m# Running inside `run_distribute_coordinator` already.\u001b[0m\u001b[1;33m\u001b[0m\u001b[1;33m\u001b[0m\u001b[1;33m\u001b[0m\u001b[0m\n",
      "\u001b[1;32m~\\anaconda3\\envs\\tensorflow\\lib\\site-packages\\tensorflow\\python\\keras\\engine\\training.py\u001b[0m in \u001b[0;36mfit\u001b[1;34m(self, x, y, batch_size, epochs, verbose, callbacks, validation_split, validation_data, shuffle, class_weight, sample_weight, initial_epoch, steps_per_epoch, validation_steps, validation_batch_size, validation_freq, max_queue_size, workers, use_multiprocessing)\u001b[0m\n\u001b[0;32m   1096\u001b[0m                 batch_size=batch_size):\n\u001b[0;32m   1097\u001b[0m               \u001b[0mcallbacks\u001b[0m\u001b[1;33m.\u001b[0m\u001b[0mon_train_batch_begin\u001b[0m\u001b[1;33m(\u001b[0m\u001b[0mstep\u001b[0m\u001b[1;33m)\u001b[0m\u001b[1;33m\u001b[0m\u001b[1;33m\u001b[0m\u001b[0m\n\u001b[1;32m-> 1098\u001b[1;33m               \u001b[0mtmp_logs\u001b[0m \u001b[1;33m=\u001b[0m \u001b[0mtrain_function\u001b[0m\u001b[1;33m(\u001b[0m\u001b[0miterator\u001b[0m\u001b[1;33m)\u001b[0m\u001b[1;33m\u001b[0m\u001b[1;33m\u001b[0m\u001b[0m\n\u001b[0m\u001b[0;32m   1099\u001b[0m               \u001b[1;32mif\u001b[0m \u001b[0mdata_handler\u001b[0m\u001b[1;33m.\u001b[0m\u001b[0mshould_sync\u001b[0m\u001b[1;33m:\u001b[0m\u001b[1;33m\u001b[0m\u001b[1;33m\u001b[0m\u001b[0m\n\u001b[0;32m   1100\u001b[0m                 \u001b[0mcontext\u001b[0m\u001b[1;33m.\u001b[0m\u001b[0masync_wait\u001b[0m\u001b[1;33m(\u001b[0m\u001b[1;33m)\u001b[0m\u001b[1;33m\u001b[0m\u001b[1;33m\u001b[0m\u001b[0m\n",
      "\u001b[1;32m~\\anaconda3\\envs\\tensorflow\\lib\\site-packages\\tensorflow\\python\\eager\\def_function.py\u001b[0m in \u001b[0;36m__call__\u001b[1;34m(self, *args, **kwds)\u001b[0m\n\u001b[0;32m    778\u001b[0m       \u001b[1;32melse\u001b[0m\u001b[1;33m:\u001b[0m\u001b[1;33m\u001b[0m\u001b[1;33m\u001b[0m\u001b[0m\n\u001b[0;32m    779\u001b[0m         \u001b[0mcompiler\u001b[0m \u001b[1;33m=\u001b[0m \u001b[1;34m\"nonXla\"\u001b[0m\u001b[1;33m\u001b[0m\u001b[1;33m\u001b[0m\u001b[0m\n\u001b[1;32m--> 780\u001b[1;33m         \u001b[0mresult\u001b[0m \u001b[1;33m=\u001b[0m \u001b[0mself\u001b[0m\u001b[1;33m.\u001b[0m\u001b[0m_call\u001b[0m\u001b[1;33m(\u001b[0m\u001b[1;33m*\u001b[0m\u001b[0margs\u001b[0m\u001b[1;33m,\u001b[0m \u001b[1;33m**\u001b[0m\u001b[0mkwds\u001b[0m\u001b[1;33m)\u001b[0m\u001b[1;33m\u001b[0m\u001b[1;33m\u001b[0m\u001b[0m\n\u001b[0m\u001b[0;32m    781\u001b[0m \u001b[1;33m\u001b[0m\u001b[0m\n\u001b[0;32m    782\u001b[0m       \u001b[0mnew_tracing_count\u001b[0m \u001b[1;33m=\u001b[0m \u001b[0mself\u001b[0m\u001b[1;33m.\u001b[0m\u001b[0m_get_tracing_count\u001b[0m\u001b[1;33m(\u001b[0m\u001b[1;33m)\u001b[0m\u001b[1;33m\u001b[0m\u001b[1;33m\u001b[0m\u001b[0m\n",
      "\u001b[1;32m~\\anaconda3\\envs\\tensorflow\\lib\\site-packages\\tensorflow\\python\\eager\\def_function.py\u001b[0m in \u001b[0;36m_call\u001b[1;34m(self, *args, **kwds)\u001b[0m\n\u001b[0;32m    838\u001b[0m         \u001b[1;31m# Lifting succeeded, so variables are initialized and we can run the\u001b[0m\u001b[1;33m\u001b[0m\u001b[1;33m\u001b[0m\u001b[1;33m\u001b[0m\u001b[0m\n\u001b[0;32m    839\u001b[0m         \u001b[1;31m# stateless function.\u001b[0m\u001b[1;33m\u001b[0m\u001b[1;33m\u001b[0m\u001b[1;33m\u001b[0m\u001b[0m\n\u001b[1;32m--> 840\u001b[1;33m         \u001b[1;32mreturn\u001b[0m \u001b[0mself\u001b[0m\u001b[1;33m.\u001b[0m\u001b[0m_stateless_fn\u001b[0m\u001b[1;33m(\u001b[0m\u001b[1;33m*\u001b[0m\u001b[0margs\u001b[0m\u001b[1;33m,\u001b[0m \u001b[1;33m**\u001b[0m\u001b[0mkwds\u001b[0m\u001b[1;33m)\u001b[0m\u001b[1;33m\u001b[0m\u001b[1;33m\u001b[0m\u001b[0m\n\u001b[0m\u001b[0;32m    841\u001b[0m     \u001b[1;32melse\u001b[0m\u001b[1;33m:\u001b[0m\u001b[1;33m\u001b[0m\u001b[1;33m\u001b[0m\u001b[0m\n\u001b[0;32m    842\u001b[0m       \u001b[0mcanon_args\u001b[0m\u001b[1;33m,\u001b[0m \u001b[0mcanon_kwds\u001b[0m \u001b[1;33m=\u001b[0m\u001b[0;31m \u001b[0m\u001b[0;31m\\\u001b[0m\u001b[1;33m\u001b[0m\u001b[1;33m\u001b[0m\u001b[0m\n",
      "\u001b[1;32m~\\anaconda3\\envs\\tensorflow\\lib\\site-packages\\tensorflow\\python\\eager\\function.py\u001b[0m in \u001b[0;36m__call__\u001b[1;34m(self, *args, **kwargs)\u001b[0m\n\u001b[0;32m   2827\u001b[0m     \u001b[1;32mwith\u001b[0m \u001b[0mself\u001b[0m\u001b[1;33m.\u001b[0m\u001b[0m_lock\u001b[0m\u001b[1;33m:\u001b[0m\u001b[1;33m\u001b[0m\u001b[1;33m\u001b[0m\u001b[0m\n\u001b[0;32m   2828\u001b[0m       \u001b[0mgraph_function\u001b[0m\u001b[1;33m,\u001b[0m \u001b[0margs\u001b[0m\u001b[1;33m,\u001b[0m \u001b[0mkwargs\u001b[0m \u001b[1;33m=\u001b[0m \u001b[0mself\u001b[0m\u001b[1;33m.\u001b[0m\u001b[0m_maybe_define_function\u001b[0m\u001b[1;33m(\u001b[0m\u001b[0margs\u001b[0m\u001b[1;33m,\u001b[0m \u001b[0mkwargs\u001b[0m\u001b[1;33m)\u001b[0m\u001b[1;33m\u001b[0m\u001b[1;33m\u001b[0m\u001b[0m\n\u001b[1;32m-> 2829\u001b[1;33m     \u001b[1;32mreturn\u001b[0m \u001b[0mgraph_function\u001b[0m\u001b[1;33m.\u001b[0m\u001b[0m_filtered_call\u001b[0m\u001b[1;33m(\u001b[0m\u001b[0margs\u001b[0m\u001b[1;33m,\u001b[0m \u001b[0mkwargs\u001b[0m\u001b[1;33m)\u001b[0m  \u001b[1;31m# pylint: disable=protected-access\u001b[0m\u001b[1;33m\u001b[0m\u001b[1;33m\u001b[0m\u001b[0m\n\u001b[0m\u001b[0;32m   2830\u001b[0m \u001b[1;33m\u001b[0m\u001b[0m\n\u001b[0;32m   2831\u001b[0m   \u001b[1;33m@\u001b[0m\u001b[0mproperty\u001b[0m\u001b[1;33m\u001b[0m\u001b[1;33m\u001b[0m\u001b[0m\n",
      "\u001b[1;32m~\\anaconda3\\envs\\tensorflow\\lib\\site-packages\\tensorflow\\python\\eager\\function.py\u001b[0m in \u001b[0;36m_filtered_call\u001b[1;34m(self, args, kwargs, cancellation_manager)\u001b[0m\n\u001b[0;32m   1841\u001b[0m       \u001b[0;31m`\u001b[0m\u001b[0margs\u001b[0m\u001b[0;31m`\u001b[0m \u001b[1;32mand\u001b[0m\u001b[0;31m \u001b[0m\u001b[0;31m`\u001b[0m\u001b[0mkwargs\u001b[0m\u001b[0;31m`\u001b[0m\u001b[1;33m.\u001b[0m\u001b[1;33m\u001b[0m\u001b[1;33m\u001b[0m\u001b[0m\n\u001b[0;32m   1842\u001b[0m     \"\"\"\n\u001b[1;32m-> 1843\u001b[1;33m     return self._call_flat(\n\u001b[0m\u001b[0;32m   1844\u001b[0m         [t for t in nest.flatten((args, kwargs), expand_composites=True)\n\u001b[0;32m   1845\u001b[0m          if isinstance(t, (ops.Tensor,\n",
      "\u001b[1;32m~\\anaconda3\\envs\\tensorflow\\lib\\site-packages\\tensorflow\\python\\eager\\function.py\u001b[0m in \u001b[0;36m_call_flat\u001b[1;34m(self, args, captured_inputs, cancellation_manager)\u001b[0m\n\u001b[0;32m   1921\u001b[0m         and executing_eagerly):\n\u001b[0;32m   1922\u001b[0m       \u001b[1;31m# No tape is watching; skip to running the function.\u001b[0m\u001b[1;33m\u001b[0m\u001b[1;33m\u001b[0m\u001b[1;33m\u001b[0m\u001b[0m\n\u001b[1;32m-> 1923\u001b[1;33m       return self._build_call_outputs(self._inference_function.call(\n\u001b[0m\u001b[0;32m   1924\u001b[0m           ctx, args, cancellation_manager=cancellation_manager))\n\u001b[0;32m   1925\u001b[0m     forward_backward = self._select_forward_and_backward_functions(\n",
      "\u001b[1;32m~\\anaconda3\\envs\\tensorflow\\lib\\site-packages\\tensorflow\\python\\eager\\function.py\u001b[0m in \u001b[0;36mcall\u001b[1;34m(self, ctx, args, cancellation_manager)\u001b[0m\n\u001b[0;32m    543\u001b[0m       \u001b[1;32mwith\u001b[0m \u001b[0m_InterpolateFunctionError\u001b[0m\u001b[1;33m(\u001b[0m\u001b[0mself\u001b[0m\u001b[1;33m)\u001b[0m\u001b[1;33m:\u001b[0m\u001b[1;33m\u001b[0m\u001b[1;33m\u001b[0m\u001b[0m\n\u001b[0;32m    544\u001b[0m         \u001b[1;32mif\u001b[0m \u001b[0mcancellation_manager\u001b[0m \u001b[1;32mis\u001b[0m \u001b[1;32mNone\u001b[0m\u001b[1;33m:\u001b[0m\u001b[1;33m\u001b[0m\u001b[1;33m\u001b[0m\u001b[0m\n\u001b[1;32m--> 545\u001b[1;33m           outputs = execute.execute(\n\u001b[0m\u001b[0;32m    546\u001b[0m               \u001b[0mstr\u001b[0m\u001b[1;33m(\u001b[0m\u001b[0mself\u001b[0m\u001b[1;33m.\u001b[0m\u001b[0msignature\u001b[0m\u001b[1;33m.\u001b[0m\u001b[0mname\u001b[0m\u001b[1;33m)\u001b[0m\u001b[1;33m,\u001b[0m\u001b[1;33m\u001b[0m\u001b[1;33m\u001b[0m\u001b[0m\n\u001b[0;32m    547\u001b[0m               \u001b[0mnum_outputs\u001b[0m\u001b[1;33m=\u001b[0m\u001b[0mself\u001b[0m\u001b[1;33m.\u001b[0m\u001b[0m_num_outputs\u001b[0m\u001b[1;33m,\u001b[0m\u001b[1;33m\u001b[0m\u001b[1;33m\u001b[0m\u001b[0m\n",
      "\u001b[1;32m~\\anaconda3\\envs\\tensorflow\\lib\\site-packages\\tensorflow\\python\\eager\\execute.py\u001b[0m in \u001b[0;36mquick_execute\u001b[1;34m(op_name, num_outputs, inputs, attrs, ctx, name)\u001b[0m\n\u001b[0;32m     57\u001b[0m   \u001b[1;32mtry\u001b[0m\u001b[1;33m:\u001b[0m\u001b[1;33m\u001b[0m\u001b[1;33m\u001b[0m\u001b[0m\n\u001b[0;32m     58\u001b[0m     \u001b[0mctx\u001b[0m\u001b[1;33m.\u001b[0m\u001b[0mensure_initialized\u001b[0m\u001b[1;33m(\u001b[0m\u001b[1;33m)\u001b[0m\u001b[1;33m\u001b[0m\u001b[1;33m\u001b[0m\u001b[0m\n\u001b[1;32m---> 59\u001b[1;33m     tensors = pywrap_tfe.TFE_Py_Execute(ctx._handle, device_name, op_name,\n\u001b[0m\u001b[0;32m     60\u001b[0m                                         inputs, attrs, num_outputs)\n\u001b[0;32m     61\u001b[0m   \u001b[1;32mexcept\u001b[0m \u001b[0mcore\u001b[0m\u001b[1;33m.\u001b[0m\u001b[0m_NotOkStatusException\u001b[0m \u001b[1;32mas\u001b[0m \u001b[0me\u001b[0m\u001b[1;33m:\u001b[0m\u001b[1;33m\u001b[0m\u001b[1;33m\u001b[0m\u001b[0m\n",
      "\u001b[1;31mUnknownError\u001b[0m:    Fail to find the dnn implementation.\n\t [[{{node CudnnRNN}}]]\n\t [[sequential/lstm/PartitionedCall]] [Op:__inference_train_function_2897]\n\nFunction call stack:\ntrain_function -> train_function -> train_function\n"
     ]
    }
   ],
   "source": [
    "model.fit(generator, epochs=5)"
   ]
  },
  {
   "cell_type": "code",
   "execution_count": null,
   "metadata": {
    "executionInfo": {
     "elapsed": 868,
     "status": "ok",
     "timestamp": 1603426484929,
     "user": {
      "displayName": "정세영",
      "photoUrl": "https://lh3.googleusercontent.com/a-/AOh14GgdNARfE188HEpD3vOSz7T9ZJeh6jgzQ0ON_KuuaA=s64",
      "userId": "00575587667277334617"
     },
     "user_tz": -540
    },
    "id": "x_T8NFhThNOK"
   },
   "outputs": [],
   "source": [
    "t_generator = TimeseriesGenerator(s_test, s_test, length, batch_size=1)"
   ]
  },
  {
   "cell_type": "code",
   "execution_count": null,
   "metadata": {
    "executionInfo": {
     "elapsed": 1308,
     "status": "ok",
     "timestamp": 1603426485730,
     "user": {
      "displayName": "정세영",
      "photoUrl": "https://lh3.googleusercontent.com/a-/AOh14GgdNARfE188HEpD3vOSz7T9ZJeh6jgzQ0ON_KuuaA=s64",
      "userId": "00575587667277334617"
     },
     "user_tz": -540
    },
    "id": "45R0-B89hWOL"
   },
   "outputs": [],
   "source": [
    "pred = model.predict(t_generator)"
   ]
  },
  {
   "cell_type": "code",
   "execution_count": null,
   "metadata": {
    "executionInfo": {
     "elapsed": 1034,
     "status": "ok",
     "timestamp": 1603426485731,
     "user": {
      "displayName": "정세영",
      "photoUrl": "https://lh3.googleusercontent.com/a-/AOh14GgdNARfE188HEpD3vOSz7T9ZJeh6jgzQ0ON_KuuaA=s64",
      "userId": "00575587667277334617"
     },
     "user_tz": -540
    },
    "id": "UT8ytshchVSL"
   },
   "outputs": [],
   "source": [
    "true_pred = scaler.inverse_transform(pred)"
   ]
  },
  {
   "cell_type": "code",
   "execution_count": null,
   "metadata": {
    "executionInfo": {
     "elapsed": 773,
     "status": "ok",
     "timestamp": 1603426485732,
     "user": {
      "displayName": "정세영",
      "photoUrl": "https://lh3.googleusercontent.com/a-/AOh14GgdNARfE188HEpD3vOSz7T9ZJeh6jgzQ0ON_KuuaA=s64",
      "userId": "00575587667277334617"
     },
     "user_tz": -540
    },
    "id": "br4yrd17hhvH"
   },
   "outputs": [],
   "source": [
    "test2 = test.drop(test.index[0:length])"
   ]
  },
  {
   "cell_type": "code",
   "execution_count": null,
   "metadata": {
    "executionInfo": {
     "elapsed": 748,
     "status": "ok",
     "timestamp": 1603426486063,
     "user": {
      "displayName": "정세영",
      "photoUrl": "https://lh3.googleusercontent.com/a-/AOh14GgdNARfE188HEpD3vOSz7T9ZJeh6jgzQ0ON_KuuaA=s64",
      "userId": "00575587667277334617"
     },
     "user_tz": -540
    },
    "id": "nYSTUDbah4aF"
   },
   "outputs": [],
   "source": [
    "test2['pred'] = true_pred"
   ]
  },
  {
   "cell_type": "code",
   "execution_count": null,
   "metadata": {
    "colab": {
     "base_uri": "https://localhost:8080/",
     "height": 282
    },
    "executionInfo": {
     "elapsed": 843,
     "status": "ok",
     "timestamp": 1603426510531,
     "user": {
      "displayName": "정세영",
      "photoUrl": "https://lh3.googleusercontent.com/a-/AOh14GgdNARfE188HEpD3vOSz7T9ZJeh6jgzQ0ON_KuuaA=s64",
      "userId": "00575587667277334617"
     },
     "user_tz": -540
    },
    "id": "lMLpJAYyh8Li",
    "outputId": "ef86a2d4-5d4f-437b-bd26-aea953ddc6f4"
   },
   "outputs": [],
   "source": [
    "plt.plot(test2.index, test2.Close, color='black')\n",
    "plt.plot(test2.index, test2.pred, color='blue')"
   ]
  },
  {
   "cell_type": "code",
   "execution_count": null,
   "metadata": {
    "executionInfo": {
     "elapsed": 3147,
     "status": "ok",
     "timestamp": 1603426519594,
     "user": {
      "displayName": "정세영",
      "photoUrl": "https://lh3.googleusercontent.com/a-/AOh14GgdNARfE188HEpD3vOSz7T9ZJeh6jgzQ0ON_KuuaA=s64",
      "userId": "00575587667277334617"
     },
     "user_tz": -540
    },
    "id": "i0FmlBcfiD-6"
   },
   "outputs": [],
   "source": [
    "batch = s_test[-length:] \n",
    "c_batch = batch.reshape(1, length, 1)\n",
    "forecast = []\n",
    "for i in range(69): #change\n",
    "  c_pred = model.predict(c_batch)[0]\n",
    "  forecast.append(c_pred)\n",
    "  c_batch = np.append(c_batch[:,1:,:], [[c_pred]], axis=1) # numpy 다루기 다시 확인\n",
    "  forecast_inv = scaler.inverse_transform(forecast)"
   ]
  },
  {
   "cell_type": "code",
   "execution_count": 40,
   "metadata": {
    "executionInfo": {
     "elapsed": 710,
     "status": "ok",
     "timestamp": 1603426521422,
     "user": {
      "displayName": "정세영",
      "photoUrl": "https://lh3.googleusercontent.com/a-/AOh14GgdNARfE188HEpD3vOSz7T9ZJeh6jgzQ0ON_KuuaA=s64",
      "userId": "00575587667277334617"
     },
     "user_tz": -540
    },
    "id": "Rm6k_MpMjHYM"
   },
   "outputs": [],
   "source": [
    "forecast_idx = np.linspace(0, 1, 69) * (np.datetime64('2020-12-31') - np.datetime64('2020-10-24')) + np.datetime64('2020-10-24') #change"
   ]
  },
  {
   "cell_type": "code",
   "execution_count": null,
   "metadata": {
    "colab": {
     "base_uri": "https://localhost:8080/",
     "height": 282
    },
    "executionInfo": {
     "elapsed": 992,
     "status": "ok",
     "timestamp": 1603424881975,
     "user": {
      "displayName": "정세영",
      "photoUrl": "https://lh3.googleusercontent.com/a-/AOh14GgdNARfE188HEpD3vOSz7T9ZJeh6jgzQ0ON_KuuaA=s64",
      "userId": "00575587667277334617"
     },
     "user_tz": -540
    },
    "id": "OU9P__c6jexP",
    "outputId": "62a21c98-4bff-4187-b393-5659ed26de4e"
   },
   "outputs": [
    {
     "data": {
      "text/plain": [
       "[<matplotlib.lines.Line2D at 0x7fd5cf2ca828>]"
      ]
     },
     "execution_count": 69,
     "metadata": {
      "tags": []
     },
     "output_type": "execute_result"
    },
    {
     "data": {
      "image/png": "[encoded data removed]",
      "text/plain": [
       "<Figure size 432x288 with 1 Axes>"
      ]
     },
     "metadata": {
      "needs_background": "light",
      "tags": []
     },
     "output_type": "display_data"
    }
   ],
   "source": [
    "plt.plot(test)\n",
    "plt.plot(forecast_idx, forecast_inv)"
   ]
  },
  {
   "cell_type": "code",
   "execution_count": null,
   "metadata": {
    "id": "V20J7N1jkOg_"
   },
   "outputs": [],
   "source": []
  }
 ],
 "metadata": {
  "accelerator": "GPU",
  "colab": {
   "authorship_tag": "ABX9TyM6wBzn2BSsnn4xeYL/Yk39",
   "collapsed_sections": [],
   "name": "포스코예측.ipynb",
   "provenance": []
  },
  "kernelspec": {
   "display_name": "Python 3",
   "language": "python",
   "name": "python3"
  },
  "language_info": {
   "codemirror_mode": {
    "name": "ipython",
    "version": 3
   },
   "file_extension": ".py",
   "mimetype": "text/x-python",
   "name": "python",
   "nbconvert_exporter": "python",
   "pygments_lexer": "ipython3",
   "version": "3.8.3"
  }
 },
 "nbformat": 4,
 "nbformat_minor": 4
}
